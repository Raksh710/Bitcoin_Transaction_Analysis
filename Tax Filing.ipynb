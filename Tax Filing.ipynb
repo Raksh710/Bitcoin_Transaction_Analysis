{
 "cells": [
  {
   "cell_type": "code",
   "execution_count": 1,
   "metadata": {},
   "outputs": [],
   "source": [
    "import numpy as np\n",
    "import pandas as pd\n",
    "import matplotlib.pyplot as plt\n",
    "import seaborn as sns\n",
    "%matplotlib inline"
   ]
  },
  {
   "cell_type": "code",
   "execution_count": 2,
   "metadata": {},
   "outputs": [],
   "source": [
    "df = pd.read_csv('cash_app_report_btc (1).csv')"
   ]
  },
  {
   "cell_type": "code",
   "execution_count": 3,
   "metadata": {},
   "outputs": [
    {
     "data": {
      "text/html": [
       "<div>\n",
       "<style scoped>\n",
       "    .dataframe tbody tr th:only-of-type {\n",
       "        vertical-align: middle;\n",
       "    }\n",
       "\n",
       "    .dataframe tbody tr th {\n",
       "        vertical-align: top;\n",
       "    }\n",
       "\n",
       "    .dataframe thead th {\n",
       "        text-align: right;\n",
       "    }\n",
       "</style>\n",
       "<table border=\"1\" class=\"dataframe\">\n",
       "  <thead>\n",
       "    <tr style=\"text-align: right;\">\n",
       "      <th></th>\n",
       "      <th>Transaction ID</th>\n",
       "      <th>Date</th>\n",
       "      <th>Transaction Type</th>\n",
       "      <th>Currency</th>\n",
       "      <th>Amount</th>\n",
       "      <th>Fee</th>\n",
       "      <th>Net Amount</th>\n",
       "      <th>Asset Type</th>\n",
       "      <th>Asset Price</th>\n",
       "      <th>Asset Amount</th>\n",
       "      <th>Status</th>\n",
       "      <th>Notes</th>\n",
       "      <th>Name of sender/receiver</th>\n",
       "      <th>Account</th>\n",
       "    </tr>\n",
       "  </thead>\n",
       "  <tbody>\n",
       "    <tr>\n",
       "      <th>0</th>\n",
       "      <td>d8xpq8</td>\n",
       "      <td>2020-12-17 03:29:08 CST</td>\n",
       "      <td>Bitcoin Sale</td>\n",
       "      <td>USD</td>\n",
       "      <td>$59.76</td>\n",
       "      <td>($1.36)</td>\n",
       "      <td>$58.40</td>\n",
       "      <td>BTC</td>\n",
       "      <td>$23,151.84</td>\n",
       "      <td>0.002581</td>\n",
       "      <td>COMPLETED</td>\n",
       "      <td>sale of BTC 0.00258122</td>\n",
       "      <td>NaN</td>\n",
       "      <td>Your Cash</td>\n",
       "    </tr>\n",
       "    <tr>\n",
       "      <th>1</th>\n",
       "      <td>gz5hws</td>\n",
       "      <td>2020-12-16 19:17:52 CST</td>\n",
       "      <td>Bitcoin Sale</td>\n",
       "      <td>USD</td>\n",
       "      <td>$50</td>\n",
       "      <td>($1.14)</td>\n",
       "      <td>$48.86</td>\n",
       "      <td>BTC</td>\n",
       "      <td>$21,768.38</td>\n",
       "      <td>0.002297</td>\n",
       "      <td>COMPLETED</td>\n",
       "      <td>sale of BTC 0.00229691</td>\n",
       "      <td>NaN</td>\n",
       "      <td>Your Cash</td>\n",
       "    </tr>\n",
       "    <tr>\n",
       "      <th>2</th>\n",
       "      <td>b9dhor</td>\n",
       "      <td>2020-12-16 15:17:11 CST</td>\n",
       "      <td>Bitcoin Sale</td>\n",
       "      <td>USD</td>\n",
       "      <td>$50</td>\n",
       "      <td>($1.13)</td>\n",
       "      <td>$48.87</td>\n",
       "      <td>BTC</td>\n",
       "      <td>$20,839.24</td>\n",
       "      <td>0.002399</td>\n",
       "      <td>COMPLETED</td>\n",
       "      <td>sale of BTC 0.00239932</td>\n",
       "      <td>NaN</td>\n",
       "      <td>Your Cash</td>\n",
       "    </tr>\n",
       "    <tr>\n",
       "      <th>3</th>\n",
       "      <td>x71p57</td>\n",
       "      <td>2020-12-16 15:16:47 CST</td>\n",
       "      <td>Bitcoin Sale</td>\n",
       "      <td>USD</td>\n",
       "      <td>$25</td>\n",
       "      <td>($0.56)</td>\n",
       "      <td>$24.44</td>\n",
       "      <td>BTC</td>\n",
       "      <td>$20,840.11</td>\n",
       "      <td>0.001200</td>\n",
       "      <td>COMPLETED</td>\n",
       "      <td>sale of BTC 0.00119961</td>\n",
       "      <td>NaN</td>\n",
       "      <td>Your Cash</td>\n",
       "    </tr>\n",
       "    <tr>\n",
       "      <th>4</th>\n",
       "      <td>i2gvwc</td>\n",
       "      <td>2020-12-16 07:35:07 CST</td>\n",
       "      <td>Bitcoin Sale</td>\n",
       "      <td>USD</td>\n",
       "      <td>$25</td>\n",
       "      <td>($0.56)</td>\n",
       "      <td>$24.44</td>\n",
       "      <td>BTC</td>\n",
       "      <td>$19,853.09</td>\n",
       "      <td>0.001259</td>\n",
       "      <td>COMPLETED</td>\n",
       "      <td>sale of BTC 0.00125925</td>\n",
       "      <td>NaN</td>\n",
       "      <td>Your Cash</td>\n",
       "    </tr>\n",
       "  </tbody>\n",
       "</table>\n",
       "</div>"
      ],
      "text/plain": [
       "  Transaction ID                     Date Transaction Type Currency   Amount  \\\n",
       "0         d8xpq8  2020-12-17 03:29:08 CST     Bitcoin Sale      USD  $59.76    \n",
       "1         gz5hws  2020-12-16 19:17:52 CST     Bitcoin Sale      USD     $50    \n",
       "2         b9dhor  2020-12-16 15:17:11 CST     Bitcoin Sale      USD     $50    \n",
       "3         x71p57  2020-12-16 15:16:47 CST     Bitcoin Sale      USD     $25    \n",
       "4         i2gvwc  2020-12-16 07:35:07 CST     Bitcoin Sale      USD     $25    \n",
       "\n",
       "       Fee Net Amount Asset Type  Asset Price  Asset Amount     Status  \\\n",
       "0  ($1.36)    $58.40         BTC  $23,151.84       0.002581  COMPLETED   \n",
       "1  ($1.14)    $48.86         BTC  $21,768.38       0.002297  COMPLETED   \n",
       "2  ($1.13)    $48.87         BTC  $20,839.24       0.002399  COMPLETED   \n",
       "3  ($0.56)    $24.44         BTC  $20,840.11       0.001200  COMPLETED   \n",
       "4  ($0.56)    $24.44         BTC  $19,853.09       0.001259  COMPLETED   \n",
       "\n",
       "                    Notes  Name of sender/receiver    Account  \n",
       "0  sale of BTC 0.00258122                      NaN  Your Cash  \n",
       "1  sale of BTC 0.00229691                      NaN  Your Cash  \n",
       "2  sale of BTC 0.00239932                      NaN  Your Cash  \n",
       "3  sale of BTC 0.00119961                      NaN  Your Cash  \n",
       "4  sale of BTC 0.00125925                      NaN  Your Cash  "
      ]
     },
     "execution_count": 3,
     "metadata": {},
     "output_type": "execute_result"
    }
   ],
   "source": [
    "df.head()"
   ]
  },
  {
   "cell_type": "code",
   "execution_count": 4,
   "metadata": {},
   "outputs": [
    {
     "data": {
      "text/plain": [
       "164"
      ]
     },
     "execution_count": 4,
     "metadata": {},
     "output_type": "execute_result"
    }
   ],
   "source": [
    "len(df)"
   ]
  },
  {
   "cell_type": "code",
   "execution_count": 5,
   "metadata": {},
   "outputs": [],
   "source": [
    "df.drop('Name of sender/receiver',axis=1,inplace=True)"
   ]
  },
  {
   "cell_type": "code",
   "execution_count": 6,
   "metadata": {},
   "outputs": [
    {
     "data": {
      "text/html": [
       "<div>\n",
       "<style scoped>\n",
       "    .dataframe tbody tr th:only-of-type {\n",
       "        vertical-align: middle;\n",
       "    }\n",
       "\n",
       "    .dataframe tbody tr th {\n",
       "        vertical-align: top;\n",
       "    }\n",
       "\n",
       "    .dataframe thead th {\n",
       "        text-align: right;\n",
       "    }\n",
       "</style>\n",
       "<table border=\"1\" class=\"dataframe\">\n",
       "  <thead>\n",
       "    <tr style=\"text-align: right;\">\n",
       "      <th></th>\n",
       "      <th>Transaction ID</th>\n",
       "      <th>Date</th>\n",
       "      <th>Transaction Type</th>\n",
       "      <th>Currency</th>\n",
       "      <th>Amount</th>\n",
       "      <th>Fee</th>\n",
       "      <th>Net Amount</th>\n",
       "      <th>Asset Type</th>\n",
       "      <th>Asset Price</th>\n",
       "      <th>Asset Amount</th>\n",
       "      <th>Status</th>\n",
       "      <th>Notes</th>\n",
       "      <th>Account</th>\n",
       "    </tr>\n",
       "  </thead>\n",
       "  <tbody>\n",
       "    <tr>\n",
       "      <th>0</th>\n",
       "      <td>d8xpq8</td>\n",
       "      <td>2020-12-17 03:29:08 CST</td>\n",
       "      <td>Bitcoin Sale</td>\n",
       "      <td>USD</td>\n",
       "      <td>$59.76</td>\n",
       "      <td>($1.36)</td>\n",
       "      <td>$58.40</td>\n",
       "      <td>BTC</td>\n",
       "      <td>$23,151.84</td>\n",
       "      <td>0.002581</td>\n",
       "      <td>COMPLETED</td>\n",
       "      <td>sale of BTC 0.00258122</td>\n",
       "      <td>Your Cash</td>\n",
       "    </tr>\n",
       "    <tr>\n",
       "      <th>1</th>\n",
       "      <td>gz5hws</td>\n",
       "      <td>2020-12-16 19:17:52 CST</td>\n",
       "      <td>Bitcoin Sale</td>\n",
       "      <td>USD</td>\n",
       "      <td>$50</td>\n",
       "      <td>($1.14)</td>\n",
       "      <td>$48.86</td>\n",
       "      <td>BTC</td>\n",
       "      <td>$21,768.38</td>\n",
       "      <td>0.002297</td>\n",
       "      <td>COMPLETED</td>\n",
       "      <td>sale of BTC 0.00229691</td>\n",
       "      <td>Your Cash</td>\n",
       "    </tr>\n",
       "    <tr>\n",
       "      <th>2</th>\n",
       "      <td>b9dhor</td>\n",
       "      <td>2020-12-16 15:17:11 CST</td>\n",
       "      <td>Bitcoin Sale</td>\n",
       "      <td>USD</td>\n",
       "      <td>$50</td>\n",
       "      <td>($1.13)</td>\n",
       "      <td>$48.87</td>\n",
       "      <td>BTC</td>\n",
       "      <td>$20,839.24</td>\n",
       "      <td>0.002399</td>\n",
       "      <td>COMPLETED</td>\n",
       "      <td>sale of BTC 0.00239932</td>\n",
       "      <td>Your Cash</td>\n",
       "    </tr>\n",
       "    <tr>\n",
       "      <th>3</th>\n",
       "      <td>x71p57</td>\n",
       "      <td>2020-12-16 15:16:47 CST</td>\n",
       "      <td>Bitcoin Sale</td>\n",
       "      <td>USD</td>\n",
       "      <td>$25</td>\n",
       "      <td>($0.56)</td>\n",
       "      <td>$24.44</td>\n",
       "      <td>BTC</td>\n",
       "      <td>$20,840.11</td>\n",
       "      <td>0.001200</td>\n",
       "      <td>COMPLETED</td>\n",
       "      <td>sale of BTC 0.00119961</td>\n",
       "      <td>Your Cash</td>\n",
       "    </tr>\n",
       "    <tr>\n",
       "      <th>4</th>\n",
       "      <td>i2gvwc</td>\n",
       "      <td>2020-12-16 07:35:07 CST</td>\n",
       "      <td>Bitcoin Sale</td>\n",
       "      <td>USD</td>\n",
       "      <td>$25</td>\n",
       "      <td>($0.56)</td>\n",
       "      <td>$24.44</td>\n",
       "      <td>BTC</td>\n",
       "      <td>$19,853.09</td>\n",
       "      <td>0.001259</td>\n",
       "      <td>COMPLETED</td>\n",
       "      <td>sale of BTC 0.00125925</td>\n",
       "      <td>Your Cash</td>\n",
       "    </tr>\n",
       "  </tbody>\n",
       "</table>\n",
       "</div>"
      ],
      "text/plain": [
       "  Transaction ID                     Date Transaction Type Currency   Amount  \\\n",
       "0         d8xpq8  2020-12-17 03:29:08 CST     Bitcoin Sale      USD  $59.76    \n",
       "1         gz5hws  2020-12-16 19:17:52 CST     Bitcoin Sale      USD     $50    \n",
       "2         b9dhor  2020-12-16 15:17:11 CST     Bitcoin Sale      USD     $50    \n",
       "3         x71p57  2020-12-16 15:16:47 CST     Bitcoin Sale      USD     $25    \n",
       "4         i2gvwc  2020-12-16 07:35:07 CST     Bitcoin Sale      USD     $25    \n",
       "\n",
       "       Fee Net Amount Asset Type  Asset Price  Asset Amount     Status  \\\n",
       "0  ($1.36)    $58.40         BTC  $23,151.84       0.002581  COMPLETED   \n",
       "1  ($1.14)    $48.86         BTC  $21,768.38       0.002297  COMPLETED   \n",
       "2  ($1.13)    $48.87         BTC  $20,839.24       0.002399  COMPLETED   \n",
       "3  ($0.56)    $24.44         BTC  $20,840.11       0.001200  COMPLETED   \n",
       "4  ($0.56)    $24.44         BTC  $19,853.09       0.001259  COMPLETED   \n",
       "\n",
       "                    Notes    Account  \n",
       "0  sale of BTC 0.00258122  Your Cash  \n",
       "1  sale of BTC 0.00229691  Your Cash  \n",
       "2  sale of BTC 0.00239932  Your Cash  \n",
       "3  sale of BTC 0.00119961  Your Cash  \n",
       "4  sale of BTC 0.00125925  Your Cash  "
      ]
     },
     "execution_count": 6,
     "metadata": {},
     "output_type": "execute_result"
    }
   ],
   "source": [
    "df.head()"
   ]
  },
  {
   "cell_type": "code",
   "execution_count": 7,
   "metadata": {},
   "outputs": [],
   "source": [
    "df.drop('Status',axis=1,inplace=True)"
   ]
  },
  {
   "cell_type": "code",
   "execution_count": 8,
   "metadata": {},
   "outputs": [],
   "source": [
    "df.drop('Account',axis=1,inplace=True)"
   ]
  },
  {
   "cell_type": "code",
   "execution_count": 9,
   "metadata": {},
   "outputs": [
    {
     "data": {
      "text/html": [
       "<div>\n",
       "<style scoped>\n",
       "    .dataframe tbody tr th:only-of-type {\n",
       "        vertical-align: middle;\n",
       "    }\n",
       "\n",
       "    .dataframe tbody tr th {\n",
       "        vertical-align: top;\n",
       "    }\n",
       "\n",
       "    .dataframe thead th {\n",
       "        text-align: right;\n",
       "    }\n",
       "</style>\n",
       "<table border=\"1\" class=\"dataframe\">\n",
       "  <thead>\n",
       "    <tr style=\"text-align: right;\">\n",
       "      <th></th>\n",
       "      <th>Transaction ID</th>\n",
       "      <th>Date</th>\n",
       "      <th>Transaction Type</th>\n",
       "      <th>Currency</th>\n",
       "      <th>Amount</th>\n",
       "      <th>Fee</th>\n",
       "      <th>Net Amount</th>\n",
       "      <th>Asset Type</th>\n",
       "      <th>Asset Price</th>\n",
       "      <th>Asset Amount</th>\n",
       "      <th>Notes</th>\n",
       "    </tr>\n",
       "  </thead>\n",
       "  <tbody>\n",
       "    <tr>\n",
       "      <th>0</th>\n",
       "      <td>d8xpq8</td>\n",
       "      <td>2020-12-17 03:29:08 CST</td>\n",
       "      <td>Bitcoin Sale</td>\n",
       "      <td>USD</td>\n",
       "      <td>$59.76</td>\n",
       "      <td>($1.36)</td>\n",
       "      <td>$58.40</td>\n",
       "      <td>BTC</td>\n",
       "      <td>$23,151.84</td>\n",
       "      <td>0.002581</td>\n",
       "      <td>sale of BTC 0.00258122</td>\n",
       "    </tr>\n",
       "    <tr>\n",
       "      <th>1</th>\n",
       "      <td>gz5hws</td>\n",
       "      <td>2020-12-16 19:17:52 CST</td>\n",
       "      <td>Bitcoin Sale</td>\n",
       "      <td>USD</td>\n",
       "      <td>$50</td>\n",
       "      <td>($1.14)</td>\n",
       "      <td>$48.86</td>\n",
       "      <td>BTC</td>\n",
       "      <td>$21,768.38</td>\n",
       "      <td>0.002297</td>\n",
       "      <td>sale of BTC 0.00229691</td>\n",
       "    </tr>\n",
       "    <tr>\n",
       "      <th>2</th>\n",
       "      <td>b9dhor</td>\n",
       "      <td>2020-12-16 15:17:11 CST</td>\n",
       "      <td>Bitcoin Sale</td>\n",
       "      <td>USD</td>\n",
       "      <td>$50</td>\n",
       "      <td>($1.13)</td>\n",
       "      <td>$48.87</td>\n",
       "      <td>BTC</td>\n",
       "      <td>$20,839.24</td>\n",
       "      <td>0.002399</td>\n",
       "      <td>sale of BTC 0.00239932</td>\n",
       "    </tr>\n",
       "    <tr>\n",
       "      <th>3</th>\n",
       "      <td>x71p57</td>\n",
       "      <td>2020-12-16 15:16:47 CST</td>\n",
       "      <td>Bitcoin Sale</td>\n",
       "      <td>USD</td>\n",
       "      <td>$25</td>\n",
       "      <td>($0.56)</td>\n",
       "      <td>$24.44</td>\n",
       "      <td>BTC</td>\n",
       "      <td>$20,840.11</td>\n",
       "      <td>0.001200</td>\n",
       "      <td>sale of BTC 0.00119961</td>\n",
       "    </tr>\n",
       "    <tr>\n",
       "      <th>4</th>\n",
       "      <td>i2gvwc</td>\n",
       "      <td>2020-12-16 07:35:07 CST</td>\n",
       "      <td>Bitcoin Sale</td>\n",
       "      <td>USD</td>\n",
       "      <td>$25</td>\n",
       "      <td>($0.56)</td>\n",
       "      <td>$24.44</td>\n",
       "      <td>BTC</td>\n",
       "      <td>$19,853.09</td>\n",
       "      <td>0.001259</td>\n",
       "      <td>sale of BTC 0.00125925</td>\n",
       "    </tr>\n",
       "  </tbody>\n",
       "</table>\n",
       "</div>"
      ],
      "text/plain": [
       "  Transaction ID                     Date Transaction Type Currency   Amount  \\\n",
       "0         d8xpq8  2020-12-17 03:29:08 CST     Bitcoin Sale      USD  $59.76    \n",
       "1         gz5hws  2020-12-16 19:17:52 CST     Bitcoin Sale      USD     $50    \n",
       "2         b9dhor  2020-12-16 15:17:11 CST     Bitcoin Sale      USD     $50    \n",
       "3         x71p57  2020-12-16 15:16:47 CST     Bitcoin Sale      USD     $25    \n",
       "4         i2gvwc  2020-12-16 07:35:07 CST     Bitcoin Sale      USD     $25    \n",
       "\n",
       "       Fee Net Amount Asset Type  Asset Price  Asset Amount  \\\n",
       "0  ($1.36)    $58.40         BTC  $23,151.84       0.002581   \n",
       "1  ($1.14)    $48.86         BTC  $21,768.38       0.002297   \n",
       "2  ($1.13)    $48.87         BTC  $20,839.24       0.002399   \n",
       "3  ($0.56)    $24.44         BTC  $20,840.11       0.001200   \n",
       "4  ($0.56)    $24.44         BTC  $19,853.09       0.001259   \n",
       "\n",
       "                    Notes  \n",
       "0  sale of BTC 0.00258122  \n",
       "1  sale of BTC 0.00229691  \n",
       "2  sale of BTC 0.00239932  \n",
       "3  sale of BTC 0.00119961  \n",
       "4  sale of BTC 0.00125925  "
      ]
     },
     "execution_count": 9,
     "metadata": {},
     "output_type": "execute_result"
    }
   ],
   "source": [
    "df.head()"
   ]
  },
  {
   "cell_type": "code",
   "execution_count": 10,
   "metadata": {},
   "outputs": [],
   "source": [
    "df.drop(['Asset Type','Currency'],axis=1,inplace=True)"
   ]
  },
  {
   "cell_type": "code",
   "execution_count": 11,
   "metadata": {},
   "outputs": [
    {
     "data": {
      "text/html": [
       "<div>\n",
       "<style scoped>\n",
       "    .dataframe tbody tr th:only-of-type {\n",
       "        vertical-align: middle;\n",
       "    }\n",
       "\n",
       "    .dataframe tbody tr th {\n",
       "        vertical-align: top;\n",
       "    }\n",
       "\n",
       "    .dataframe thead th {\n",
       "        text-align: right;\n",
       "    }\n",
       "</style>\n",
       "<table border=\"1\" class=\"dataframe\">\n",
       "  <thead>\n",
       "    <tr style=\"text-align: right;\">\n",
       "      <th></th>\n",
       "      <th>Transaction ID</th>\n",
       "      <th>Date</th>\n",
       "      <th>Transaction Type</th>\n",
       "      <th>Amount</th>\n",
       "      <th>Fee</th>\n",
       "      <th>Net Amount</th>\n",
       "      <th>Asset Price</th>\n",
       "      <th>Asset Amount</th>\n",
       "      <th>Notes</th>\n",
       "    </tr>\n",
       "  </thead>\n",
       "  <tbody>\n",
       "    <tr>\n",
       "      <th>0</th>\n",
       "      <td>d8xpq8</td>\n",
       "      <td>2020-12-17 03:29:08 CST</td>\n",
       "      <td>Bitcoin Sale</td>\n",
       "      <td>$59.76</td>\n",
       "      <td>($1.36)</td>\n",
       "      <td>$58.40</td>\n",
       "      <td>$23,151.84</td>\n",
       "      <td>0.002581</td>\n",
       "      <td>sale of BTC 0.00258122</td>\n",
       "    </tr>\n",
       "    <tr>\n",
       "      <th>1</th>\n",
       "      <td>gz5hws</td>\n",
       "      <td>2020-12-16 19:17:52 CST</td>\n",
       "      <td>Bitcoin Sale</td>\n",
       "      <td>$50</td>\n",
       "      <td>($1.14)</td>\n",
       "      <td>$48.86</td>\n",
       "      <td>$21,768.38</td>\n",
       "      <td>0.002297</td>\n",
       "      <td>sale of BTC 0.00229691</td>\n",
       "    </tr>\n",
       "    <tr>\n",
       "      <th>2</th>\n",
       "      <td>b9dhor</td>\n",
       "      <td>2020-12-16 15:17:11 CST</td>\n",
       "      <td>Bitcoin Sale</td>\n",
       "      <td>$50</td>\n",
       "      <td>($1.13)</td>\n",
       "      <td>$48.87</td>\n",
       "      <td>$20,839.24</td>\n",
       "      <td>0.002399</td>\n",
       "      <td>sale of BTC 0.00239932</td>\n",
       "    </tr>\n",
       "    <tr>\n",
       "      <th>3</th>\n",
       "      <td>x71p57</td>\n",
       "      <td>2020-12-16 15:16:47 CST</td>\n",
       "      <td>Bitcoin Sale</td>\n",
       "      <td>$25</td>\n",
       "      <td>($0.56)</td>\n",
       "      <td>$24.44</td>\n",
       "      <td>$20,840.11</td>\n",
       "      <td>0.001200</td>\n",
       "      <td>sale of BTC 0.00119961</td>\n",
       "    </tr>\n",
       "    <tr>\n",
       "      <th>4</th>\n",
       "      <td>i2gvwc</td>\n",
       "      <td>2020-12-16 07:35:07 CST</td>\n",
       "      <td>Bitcoin Sale</td>\n",
       "      <td>$25</td>\n",
       "      <td>($0.56)</td>\n",
       "      <td>$24.44</td>\n",
       "      <td>$19,853.09</td>\n",
       "      <td>0.001259</td>\n",
       "      <td>sale of BTC 0.00125925</td>\n",
       "    </tr>\n",
       "  </tbody>\n",
       "</table>\n",
       "</div>"
      ],
      "text/plain": [
       "  Transaction ID                     Date Transaction Type   Amount      Fee  \\\n",
       "0         d8xpq8  2020-12-17 03:29:08 CST     Bitcoin Sale  $59.76   ($1.36)   \n",
       "1         gz5hws  2020-12-16 19:17:52 CST     Bitcoin Sale     $50   ($1.14)   \n",
       "2         b9dhor  2020-12-16 15:17:11 CST     Bitcoin Sale     $50   ($1.13)   \n",
       "3         x71p57  2020-12-16 15:16:47 CST     Bitcoin Sale     $25   ($0.56)   \n",
       "4         i2gvwc  2020-12-16 07:35:07 CST     Bitcoin Sale     $25   ($0.56)   \n",
       "\n",
       "  Net Amount  Asset Price  Asset Amount                   Notes  \n",
       "0    $58.40   $23,151.84       0.002581  sale of BTC 0.00258122  \n",
       "1    $48.86   $21,768.38       0.002297  sale of BTC 0.00229691  \n",
       "2    $48.87   $20,839.24       0.002399  sale of BTC 0.00239932  \n",
       "3    $24.44   $20,840.11       0.001200  sale of BTC 0.00119961  \n",
       "4    $24.44   $19,853.09       0.001259  sale of BTC 0.00125925  "
      ]
     },
     "execution_count": 11,
     "metadata": {},
     "output_type": "execute_result"
    }
   ],
   "source": [
    "df.head()"
   ]
  },
  {
   "cell_type": "code",
   "execution_count": 12,
   "metadata": {},
   "outputs": [],
   "source": [
    "df['Date'] = df['Date'].apply(lambda x: x.split()[0])"
   ]
  },
  {
   "cell_type": "code",
   "execution_count": 13,
   "metadata": {},
   "outputs": [],
   "source": [
    "df['Date'] = pd.to_datetime(df['Date'] , format=\"%Y-%m-%d\")"
   ]
  },
  {
   "cell_type": "code",
   "execution_count": 14,
   "metadata": {},
   "outputs": [],
   "source": [
    "df['Year'] = df['Date'].apply(lambda x: x.year)"
   ]
  },
  {
   "cell_type": "code",
   "execution_count": 15,
   "metadata": {},
   "outputs": [],
   "source": [
    "df['Month'] = df['Date'].apply(lambda x: x.month)"
   ]
  },
  {
   "cell_type": "code",
   "execution_count": 16,
   "metadata": {},
   "outputs": [],
   "source": [
    "df.drop('Date',axis=1,inplace=True)"
   ]
  },
  {
   "cell_type": "code",
   "execution_count": 17,
   "metadata": {},
   "outputs": [
    {
     "data": {
      "text/html": [
       "<div>\n",
       "<style scoped>\n",
       "    .dataframe tbody tr th:only-of-type {\n",
       "        vertical-align: middle;\n",
       "    }\n",
       "\n",
       "    .dataframe tbody tr th {\n",
       "        vertical-align: top;\n",
       "    }\n",
       "\n",
       "    .dataframe thead th {\n",
       "        text-align: right;\n",
       "    }\n",
       "</style>\n",
       "<table border=\"1\" class=\"dataframe\">\n",
       "  <thead>\n",
       "    <tr style=\"text-align: right;\">\n",
       "      <th></th>\n",
       "      <th>Transaction ID</th>\n",
       "      <th>Transaction Type</th>\n",
       "      <th>Amount</th>\n",
       "      <th>Fee</th>\n",
       "      <th>Net Amount</th>\n",
       "      <th>Asset Price</th>\n",
       "      <th>Asset Amount</th>\n",
       "      <th>Notes</th>\n",
       "      <th>Year</th>\n",
       "      <th>Month</th>\n",
       "    </tr>\n",
       "  </thead>\n",
       "  <tbody>\n",
       "    <tr>\n",
       "      <th>0</th>\n",
       "      <td>d8xpq8</td>\n",
       "      <td>Bitcoin Sale</td>\n",
       "      <td>$59.76</td>\n",
       "      <td>($1.36)</td>\n",
       "      <td>$58.40</td>\n",
       "      <td>$23,151.84</td>\n",
       "      <td>0.002581</td>\n",
       "      <td>sale of BTC 0.00258122</td>\n",
       "      <td>2020</td>\n",
       "      <td>12</td>\n",
       "    </tr>\n",
       "    <tr>\n",
       "      <th>1</th>\n",
       "      <td>gz5hws</td>\n",
       "      <td>Bitcoin Sale</td>\n",
       "      <td>$50</td>\n",
       "      <td>($1.14)</td>\n",
       "      <td>$48.86</td>\n",
       "      <td>$21,768.38</td>\n",
       "      <td>0.002297</td>\n",
       "      <td>sale of BTC 0.00229691</td>\n",
       "      <td>2020</td>\n",
       "      <td>12</td>\n",
       "    </tr>\n",
       "    <tr>\n",
       "      <th>2</th>\n",
       "      <td>b9dhor</td>\n",
       "      <td>Bitcoin Sale</td>\n",
       "      <td>$50</td>\n",
       "      <td>($1.13)</td>\n",
       "      <td>$48.87</td>\n",
       "      <td>$20,839.24</td>\n",
       "      <td>0.002399</td>\n",
       "      <td>sale of BTC 0.00239932</td>\n",
       "      <td>2020</td>\n",
       "      <td>12</td>\n",
       "    </tr>\n",
       "    <tr>\n",
       "      <th>3</th>\n",
       "      <td>x71p57</td>\n",
       "      <td>Bitcoin Sale</td>\n",
       "      <td>$25</td>\n",
       "      <td>($0.56)</td>\n",
       "      <td>$24.44</td>\n",
       "      <td>$20,840.11</td>\n",
       "      <td>0.001200</td>\n",
       "      <td>sale of BTC 0.00119961</td>\n",
       "      <td>2020</td>\n",
       "      <td>12</td>\n",
       "    </tr>\n",
       "    <tr>\n",
       "      <th>4</th>\n",
       "      <td>i2gvwc</td>\n",
       "      <td>Bitcoin Sale</td>\n",
       "      <td>$25</td>\n",
       "      <td>($0.56)</td>\n",
       "      <td>$24.44</td>\n",
       "      <td>$19,853.09</td>\n",
       "      <td>0.001259</td>\n",
       "      <td>sale of BTC 0.00125925</td>\n",
       "      <td>2020</td>\n",
       "      <td>12</td>\n",
       "    </tr>\n",
       "  </tbody>\n",
       "</table>\n",
       "</div>"
      ],
      "text/plain": [
       "  Transaction ID Transaction Type   Amount      Fee Net Amount  Asset Price  \\\n",
       "0         d8xpq8     Bitcoin Sale  $59.76   ($1.36)    $58.40   $23,151.84    \n",
       "1         gz5hws     Bitcoin Sale     $50   ($1.14)    $48.86   $21,768.38    \n",
       "2         b9dhor     Bitcoin Sale     $50   ($1.13)    $48.87   $20,839.24    \n",
       "3         x71p57     Bitcoin Sale     $25   ($0.56)    $24.44   $20,840.11    \n",
       "4         i2gvwc     Bitcoin Sale     $25   ($0.56)    $24.44   $19,853.09    \n",
       "\n",
       "   Asset Amount                   Notes  Year  Month  \n",
       "0      0.002581  sale of BTC 0.00258122  2020     12  \n",
       "1      0.002297  sale of BTC 0.00229691  2020     12  \n",
       "2      0.002399  sale of BTC 0.00239932  2020     12  \n",
       "3      0.001200  sale of BTC 0.00119961  2020     12  \n",
       "4      0.001259  sale of BTC 0.00125925  2020     12  "
      ]
     },
     "execution_count": 17,
     "metadata": {},
     "output_type": "execute_result"
    }
   ],
   "source": [
    "df.head()"
   ]
  },
  {
   "cell_type": "code",
   "execution_count": 18,
   "metadata": {},
   "outputs": [],
   "source": [
    "df.drop('Transaction ID',axis=1,inplace=True)"
   ]
  },
  {
   "cell_type": "code",
   "execution_count": 19,
   "metadata": {},
   "outputs": [],
   "source": [
    "df.drop(['Amount','Fee'],axis=1,inplace=True)"
   ]
  },
  {
   "cell_type": "code",
   "execution_count": 20,
   "metadata": {},
   "outputs": [
    {
     "data": {
      "text/html": [
       "<div>\n",
       "<style scoped>\n",
       "    .dataframe tbody tr th:only-of-type {\n",
       "        vertical-align: middle;\n",
       "    }\n",
       "\n",
       "    .dataframe tbody tr th {\n",
       "        vertical-align: top;\n",
       "    }\n",
       "\n",
       "    .dataframe thead th {\n",
       "        text-align: right;\n",
       "    }\n",
       "</style>\n",
       "<table border=\"1\" class=\"dataframe\">\n",
       "  <thead>\n",
       "    <tr style=\"text-align: right;\">\n",
       "      <th></th>\n",
       "      <th>Transaction Type</th>\n",
       "      <th>Net Amount</th>\n",
       "      <th>Asset Price</th>\n",
       "      <th>Asset Amount</th>\n",
       "      <th>Notes</th>\n",
       "      <th>Year</th>\n",
       "      <th>Month</th>\n",
       "    </tr>\n",
       "  </thead>\n",
       "  <tbody>\n",
       "    <tr>\n",
       "      <th>0</th>\n",
       "      <td>Bitcoin Sale</td>\n",
       "      <td>$58.40</td>\n",
       "      <td>$23,151.84</td>\n",
       "      <td>0.002581</td>\n",
       "      <td>sale of BTC 0.00258122</td>\n",
       "      <td>2020</td>\n",
       "      <td>12</td>\n",
       "    </tr>\n",
       "    <tr>\n",
       "      <th>1</th>\n",
       "      <td>Bitcoin Sale</td>\n",
       "      <td>$48.86</td>\n",
       "      <td>$21,768.38</td>\n",
       "      <td>0.002297</td>\n",
       "      <td>sale of BTC 0.00229691</td>\n",
       "      <td>2020</td>\n",
       "      <td>12</td>\n",
       "    </tr>\n",
       "    <tr>\n",
       "      <th>2</th>\n",
       "      <td>Bitcoin Sale</td>\n",
       "      <td>$48.87</td>\n",
       "      <td>$20,839.24</td>\n",
       "      <td>0.002399</td>\n",
       "      <td>sale of BTC 0.00239932</td>\n",
       "      <td>2020</td>\n",
       "      <td>12</td>\n",
       "    </tr>\n",
       "    <tr>\n",
       "      <th>3</th>\n",
       "      <td>Bitcoin Sale</td>\n",
       "      <td>$24.44</td>\n",
       "      <td>$20,840.11</td>\n",
       "      <td>0.001200</td>\n",
       "      <td>sale of BTC 0.00119961</td>\n",
       "      <td>2020</td>\n",
       "      <td>12</td>\n",
       "    </tr>\n",
       "    <tr>\n",
       "      <th>4</th>\n",
       "      <td>Bitcoin Sale</td>\n",
       "      <td>$24.44</td>\n",
       "      <td>$19,853.09</td>\n",
       "      <td>0.001259</td>\n",
       "      <td>sale of BTC 0.00125925</td>\n",
       "      <td>2020</td>\n",
       "      <td>12</td>\n",
       "    </tr>\n",
       "  </tbody>\n",
       "</table>\n",
       "</div>"
      ],
      "text/plain": [
       "  Transaction Type Net Amount  Asset Price  Asset Amount  \\\n",
       "0     Bitcoin Sale    $58.40   $23,151.84       0.002581   \n",
       "1     Bitcoin Sale    $48.86   $21,768.38       0.002297   \n",
       "2     Bitcoin Sale    $48.87   $20,839.24       0.002399   \n",
       "3     Bitcoin Sale    $24.44   $20,840.11       0.001200   \n",
       "4     Bitcoin Sale    $24.44   $19,853.09       0.001259   \n",
       "\n",
       "                    Notes  Year  Month  \n",
       "0  sale of BTC 0.00258122  2020     12  \n",
       "1  sale of BTC 0.00229691  2020     12  \n",
       "2  sale of BTC 0.00239932  2020     12  \n",
       "3  sale of BTC 0.00119961  2020     12  \n",
       "4  sale of BTC 0.00125925  2020     12  "
      ]
     },
     "execution_count": 20,
     "metadata": {},
     "output_type": "execute_result"
    }
   ],
   "source": [
    "df.head()"
   ]
  },
  {
   "cell_type": "code",
   "execution_count": 21,
   "metadata": {},
   "outputs": [
    {
     "data": {
      "text/plain": [
       "103"
      ]
     },
     "execution_count": 21,
     "metadata": {},
     "output_type": "execute_result"
    }
   ],
   "source": [
    "len(df[df['Transaction Type']=='Bitcoin Sale'])"
   ]
  },
  {
   "cell_type": "code",
   "execution_count": 22,
   "metadata": {},
   "outputs": [
    {
     "data": {
      "text/plain": [
       "61"
      ]
     },
     "execution_count": 22,
     "metadata": {},
     "output_type": "execute_result"
    }
   ],
   "source": [
    "164-103"
   ]
  },
  {
   "cell_type": "code",
   "execution_count": 23,
   "metadata": {},
   "outputs": [
    {
     "data": {
      "text/plain": [
       "58.39489904"
      ]
     },
     "execution_count": 23,
     "metadata": {},
     "output_type": "execute_result"
    }
   ],
   "source": [
    "23151.84 * 0.002581 - 1.36"
   ]
  },
  {
   "cell_type": "code",
   "execution_count": 24,
   "metadata": {},
   "outputs": [],
   "source": [
    "df['Label'] = df['Notes'].apply(lambda x: x.split()[2:])"
   ]
  },
  {
   "cell_type": "code",
   "execution_count": 25,
   "metadata": {},
   "outputs": [
    {
     "data": {
      "text/html": [
       "<div>\n",
       "<style scoped>\n",
       "    .dataframe tbody tr th:only-of-type {\n",
       "        vertical-align: middle;\n",
       "    }\n",
       "\n",
       "    .dataframe tbody tr th {\n",
       "        vertical-align: top;\n",
       "    }\n",
       "\n",
       "    .dataframe thead th {\n",
       "        text-align: right;\n",
       "    }\n",
       "</style>\n",
       "<table border=\"1\" class=\"dataframe\">\n",
       "  <thead>\n",
       "    <tr style=\"text-align: right;\">\n",
       "      <th></th>\n",
       "      <th>Transaction Type</th>\n",
       "      <th>Net Amount</th>\n",
       "      <th>Asset Price</th>\n",
       "      <th>Asset Amount</th>\n",
       "      <th>Notes</th>\n",
       "      <th>Year</th>\n",
       "      <th>Month</th>\n",
       "      <th>Label</th>\n",
       "    </tr>\n",
       "  </thead>\n",
       "  <tbody>\n",
       "    <tr>\n",
       "      <th>0</th>\n",
       "      <td>Bitcoin Sale</td>\n",
       "      <td>$58.40</td>\n",
       "      <td>$23,151.84</td>\n",
       "      <td>0.002581</td>\n",
       "      <td>sale of BTC 0.00258122</td>\n",
       "      <td>2020</td>\n",
       "      <td>12</td>\n",
       "      <td>[BTC, 0.00258122]</td>\n",
       "    </tr>\n",
       "    <tr>\n",
       "      <th>1</th>\n",
       "      <td>Bitcoin Sale</td>\n",
       "      <td>$48.86</td>\n",
       "      <td>$21,768.38</td>\n",
       "      <td>0.002297</td>\n",
       "      <td>sale of BTC 0.00229691</td>\n",
       "      <td>2020</td>\n",
       "      <td>12</td>\n",
       "      <td>[BTC, 0.00229691]</td>\n",
       "    </tr>\n",
       "    <tr>\n",
       "      <th>2</th>\n",
       "      <td>Bitcoin Sale</td>\n",
       "      <td>$48.87</td>\n",
       "      <td>$20,839.24</td>\n",
       "      <td>0.002399</td>\n",
       "      <td>sale of BTC 0.00239932</td>\n",
       "      <td>2020</td>\n",
       "      <td>12</td>\n",
       "      <td>[BTC, 0.00239932]</td>\n",
       "    </tr>\n",
       "    <tr>\n",
       "      <th>3</th>\n",
       "      <td>Bitcoin Sale</td>\n",
       "      <td>$24.44</td>\n",
       "      <td>$20,840.11</td>\n",
       "      <td>0.001200</td>\n",
       "      <td>sale of BTC 0.00119961</td>\n",
       "      <td>2020</td>\n",
       "      <td>12</td>\n",
       "      <td>[BTC, 0.00119961]</td>\n",
       "    </tr>\n",
       "    <tr>\n",
       "      <th>4</th>\n",
       "      <td>Bitcoin Sale</td>\n",
       "      <td>$24.44</td>\n",
       "      <td>$19,853.09</td>\n",
       "      <td>0.001259</td>\n",
       "      <td>sale of BTC 0.00125925</td>\n",
       "      <td>2020</td>\n",
       "      <td>12</td>\n",
       "      <td>[BTC, 0.00125925]</td>\n",
       "    </tr>\n",
       "  </tbody>\n",
       "</table>\n",
       "</div>"
      ],
      "text/plain": [
       "  Transaction Type Net Amount  Asset Price  Asset Amount  \\\n",
       "0     Bitcoin Sale    $58.40   $23,151.84       0.002581   \n",
       "1     Bitcoin Sale    $48.86   $21,768.38       0.002297   \n",
       "2     Bitcoin Sale    $48.87   $20,839.24       0.002399   \n",
       "3     Bitcoin Sale    $24.44   $20,840.11       0.001200   \n",
       "4     Bitcoin Sale    $24.44   $19,853.09       0.001259   \n",
       "\n",
       "                    Notes  Year  Month              Label  \n",
       "0  sale of BTC 0.00258122  2020     12  [BTC, 0.00258122]  \n",
       "1  sale of BTC 0.00229691  2020     12  [BTC, 0.00229691]  \n",
       "2  sale of BTC 0.00239932  2020     12  [BTC, 0.00239932]  \n",
       "3  sale of BTC 0.00119961  2020     12  [BTC, 0.00119961]  \n",
       "4  sale of BTC 0.00125925  2020     12  [BTC, 0.00125925]  "
      ]
     },
     "execution_count": 25,
     "metadata": {},
     "output_type": "execute_result"
    }
   ],
   "source": [
    "df.head()"
   ]
  },
  {
   "cell_type": "code",
   "execution_count": 26,
   "metadata": {},
   "outputs": [],
   "source": [
    "df['Label'] = df['Label'].apply(lambda x : ''.join(x))"
   ]
  },
  {
   "cell_type": "code",
   "execution_count": 27,
   "metadata": {},
   "outputs": [
    {
     "data": {
      "text/html": [
       "<div>\n",
       "<style scoped>\n",
       "    .dataframe tbody tr th:only-of-type {\n",
       "        vertical-align: middle;\n",
       "    }\n",
       "\n",
       "    .dataframe tbody tr th {\n",
       "        vertical-align: top;\n",
       "    }\n",
       "\n",
       "    .dataframe thead th {\n",
       "        text-align: right;\n",
       "    }\n",
       "</style>\n",
       "<table border=\"1\" class=\"dataframe\">\n",
       "  <thead>\n",
       "    <tr style=\"text-align: right;\">\n",
       "      <th></th>\n",
       "      <th>Transaction Type</th>\n",
       "      <th>Net Amount</th>\n",
       "      <th>Asset Price</th>\n",
       "      <th>Asset Amount</th>\n",
       "      <th>Notes</th>\n",
       "      <th>Year</th>\n",
       "      <th>Month</th>\n",
       "      <th>Label</th>\n",
       "    </tr>\n",
       "  </thead>\n",
       "  <tbody>\n",
       "    <tr>\n",
       "      <th>0</th>\n",
       "      <td>Bitcoin Sale</td>\n",
       "      <td>$58.40</td>\n",
       "      <td>$23,151.84</td>\n",
       "      <td>0.002581</td>\n",
       "      <td>sale of BTC 0.00258122</td>\n",
       "      <td>2020</td>\n",
       "      <td>12</td>\n",
       "      <td>BTC0.00258122</td>\n",
       "    </tr>\n",
       "    <tr>\n",
       "      <th>1</th>\n",
       "      <td>Bitcoin Sale</td>\n",
       "      <td>$48.86</td>\n",
       "      <td>$21,768.38</td>\n",
       "      <td>0.002297</td>\n",
       "      <td>sale of BTC 0.00229691</td>\n",
       "      <td>2020</td>\n",
       "      <td>12</td>\n",
       "      <td>BTC0.00229691</td>\n",
       "    </tr>\n",
       "    <tr>\n",
       "      <th>2</th>\n",
       "      <td>Bitcoin Sale</td>\n",
       "      <td>$48.87</td>\n",
       "      <td>$20,839.24</td>\n",
       "      <td>0.002399</td>\n",
       "      <td>sale of BTC 0.00239932</td>\n",
       "      <td>2020</td>\n",
       "      <td>12</td>\n",
       "      <td>BTC0.00239932</td>\n",
       "    </tr>\n",
       "    <tr>\n",
       "      <th>3</th>\n",
       "      <td>Bitcoin Sale</td>\n",
       "      <td>$24.44</td>\n",
       "      <td>$20,840.11</td>\n",
       "      <td>0.001200</td>\n",
       "      <td>sale of BTC 0.00119961</td>\n",
       "      <td>2020</td>\n",
       "      <td>12</td>\n",
       "      <td>BTC0.00119961</td>\n",
       "    </tr>\n",
       "    <tr>\n",
       "      <th>4</th>\n",
       "      <td>Bitcoin Sale</td>\n",
       "      <td>$24.44</td>\n",
       "      <td>$19,853.09</td>\n",
       "      <td>0.001259</td>\n",
       "      <td>sale of BTC 0.00125925</td>\n",
       "      <td>2020</td>\n",
       "      <td>12</td>\n",
       "      <td>BTC0.00125925</td>\n",
       "    </tr>\n",
       "  </tbody>\n",
       "</table>\n",
       "</div>"
      ],
      "text/plain": [
       "  Transaction Type Net Amount  Asset Price  Asset Amount  \\\n",
       "0     Bitcoin Sale    $58.40   $23,151.84       0.002581   \n",
       "1     Bitcoin Sale    $48.86   $21,768.38       0.002297   \n",
       "2     Bitcoin Sale    $48.87   $20,839.24       0.002399   \n",
       "3     Bitcoin Sale    $24.44   $20,840.11       0.001200   \n",
       "4     Bitcoin Sale    $24.44   $19,853.09       0.001259   \n",
       "\n",
       "                    Notes  Year  Month          Label  \n",
       "0  sale of BTC 0.00258122  2020     12  BTC0.00258122  \n",
       "1  sale of BTC 0.00229691  2020     12  BTC0.00229691  \n",
       "2  sale of BTC 0.00239932  2020     12  BTC0.00239932  \n",
       "3  sale of BTC 0.00119961  2020     12  BTC0.00119961  \n",
       "4  sale of BTC 0.00125925  2020     12  BTC0.00125925  "
      ]
     },
     "execution_count": 27,
     "metadata": {},
     "output_type": "execute_result"
    }
   ],
   "source": [
    "df.head()"
   ]
  },
  {
   "cell_type": "code",
   "execution_count": 28,
   "metadata": {},
   "outputs": [
    {
     "data": {
      "text/plain": [
       "164"
      ]
     },
     "execution_count": 28,
     "metadata": {},
     "output_type": "execute_result"
    }
   ],
   "source": [
    "df['Label'].nunique()"
   ]
  },
  {
   "cell_type": "code",
   "execution_count": 29,
   "metadata": {},
   "outputs": [
    {
     "data": {
      "text/plain": [
       "58.4"
      ]
     },
     "execution_count": 29,
     "metadata": {},
     "output_type": "execute_result"
    }
   ],
   "source": [
    "round(23151.84 * 0.00258122 - 1.36 , 2)"
   ]
  },
  {
   "cell_type": "code",
   "execution_count": 30,
   "metadata": {},
   "outputs": [],
   "source": [
    "df['Net Amount'] = df['Net Amount'].apply(lambda x : x.split('$'))"
   ]
  },
  {
   "cell_type": "code",
   "execution_count": 31,
   "metadata": {},
   "outputs": [],
   "source": [
    "df['Net Amount'] = df['Net Amount'].apply(lambda x : ''.join(x))"
   ]
  },
  {
   "cell_type": "code",
   "execution_count": 32,
   "metadata": {},
   "outputs": [
    {
     "data": {
      "text/html": [
       "<div>\n",
       "<style scoped>\n",
       "    .dataframe tbody tr th:only-of-type {\n",
       "        vertical-align: middle;\n",
       "    }\n",
       "\n",
       "    .dataframe tbody tr th {\n",
       "        vertical-align: top;\n",
       "    }\n",
       "\n",
       "    .dataframe thead th {\n",
       "        text-align: right;\n",
       "    }\n",
       "</style>\n",
       "<table border=\"1\" class=\"dataframe\">\n",
       "  <thead>\n",
       "    <tr style=\"text-align: right;\">\n",
       "      <th></th>\n",
       "      <th>Transaction Type</th>\n",
       "      <th>Net Amount</th>\n",
       "      <th>Asset Price</th>\n",
       "      <th>Asset Amount</th>\n",
       "      <th>Notes</th>\n",
       "      <th>Year</th>\n",
       "      <th>Month</th>\n",
       "      <th>Label</th>\n",
       "    </tr>\n",
       "  </thead>\n",
       "  <tbody>\n",
       "    <tr>\n",
       "      <th>0</th>\n",
       "      <td>Bitcoin Sale</td>\n",
       "      <td>58.40</td>\n",
       "      <td>$23,151.84</td>\n",
       "      <td>0.002581</td>\n",
       "      <td>sale of BTC 0.00258122</td>\n",
       "      <td>2020</td>\n",
       "      <td>12</td>\n",
       "      <td>BTC0.00258122</td>\n",
       "    </tr>\n",
       "    <tr>\n",
       "      <th>1</th>\n",
       "      <td>Bitcoin Sale</td>\n",
       "      <td>48.86</td>\n",
       "      <td>$21,768.38</td>\n",
       "      <td>0.002297</td>\n",
       "      <td>sale of BTC 0.00229691</td>\n",
       "      <td>2020</td>\n",
       "      <td>12</td>\n",
       "      <td>BTC0.00229691</td>\n",
       "    </tr>\n",
       "    <tr>\n",
       "      <th>2</th>\n",
       "      <td>Bitcoin Sale</td>\n",
       "      <td>48.87</td>\n",
       "      <td>$20,839.24</td>\n",
       "      <td>0.002399</td>\n",
       "      <td>sale of BTC 0.00239932</td>\n",
       "      <td>2020</td>\n",
       "      <td>12</td>\n",
       "      <td>BTC0.00239932</td>\n",
       "    </tr>\n",
       "    <tr>\n",
       "      <th>3</th>\n",
       "      <td>Bitcoin Sale</td>\n",
       "      <td>24.44</td>\n",
       "      <td>$20,840.11</td>\n",
       "      <td>0.001200</td>\n",
       "      <td>sale of BTC 0.00119961</td>\n",
       "      <td>2020</td>\n",
       "      <td>12</td>\n",
       "      <td>BTC0.00119961</td>\n",
       "    </tr>\n",
       "    <tr>\n",
       "      <th>4</th>\n",
       "      <td>Bitcoin Sale</td>\n",
       "      <td>24.44</td>\n",
       "      <td>$19,853.09</td>\n",
       "      <td>0.001259</td>\n",
       "      <td>sale of BTC 0.00125925</td>\n",
       "      <td>2020</td>\n",
       "      <td>12</td>\n",
       "      <td>BTC0.00125925</td>\n",
       "    </tr>\n",
       "  </tbody>\n",
       "</table>\n",
       "</div>"
      ],
      "text/plain": [
       "  Transaction Type Net Amount  Asset Price  Asset Amount  \\\n",
       "0     Bitcoin Sale     58.40   $23,151.84       0.002581   \n",
       "1     Bitcoin Sale     48.86   $21,768.38       0.002297   \n",
       "2     Bitcoin Sale     48.87   $20,839.24       0.002399   \n",
       "3     Bitcoin Sale     24.44   $20,840.11       0.001200   \n",
       "4     Bitcoin Sale     24.44   $19,853.09       0.001259   \n",
       "\n",
       "                    Notes  Year  Month          Label  \n",
       "0  sale of BTC 0.00258122  2020     12  BTC0.00258122  \n",
       "1  sale of BTC 0.00229691  2020     12  BTC0.00229691  \n",
       "2  sale of BTC 0.00239932  2020     12  BTC0.00239932  \n",
       "3  sale of BTC 0.00119961  2020     12  BTC0.00119961  \n",
       "4  sale of BTC 0.00125925  2020     12  BTC0.00125925  "
      ]
     },
     "execution_count": 32,
     "metadata": {},
     "output_type": "execute_result"
    }
   ],
   "source": [
    "df.head()"
   ]
  },
  {
   "cell_type": "code",
   "execution_count": 36,
   "metadata": {},
   "outputs": [
    {
     "data": {
      "text/html": [
       "<div>\n",
       "<style scoped>\n",
       "    .dataframe tbody tr th:only-of-type {\n",
       "        vertical-align: middle;\n",
       "    }\n",
       "\n",
       "    .dataframe tbody tr th {\n",
       "        vertical-align: top;\n",
       "    }\n",
       "\n",
       "    .dataframe thead th {\n",
       "        text-align: right;\n",
       "    }\n",
       "</style>\n",
       "<table border=\"1\" class=\"dataframe\">\n",
       "  <thead>\n",
       "    <tr style=\"text-align: right;\">\n",
       "      <th></th>\n",
       "      <th>Transaction Type</th>\n",
       "      <th>Net Amount</th>\n",
       "      <th>Asset Price</th>\n",
       "      <th>Asset Amount</th>\n",
       "      <th>Notes</th>\n",
       "      <th>Year</th>\n",
       "      <th>Month</th>\n",
       "      <th>Label</th>\n",
       "    </tr>\n",
       "  </thead>\n",
       "  <tbody>\n",
       "    <tr>\n",
       "      <th>69</th>\n",
       "      <td>Bitcoin Buy</td>\n",
       "      <td>(1.01)</td>\n",
       "      <td>$7,200.46</td>\n",
       "      <td>0.000139</td>\n",
       "      <td>purchase of BTC 0.00013888</td>\n",
       "      <td>2019</td>\n",
       "      <td>11</td>\n",
       "      <td>BTC0.00013888</td>\n",
       "    </tr>\n",
       "  </tbody>\n",
       "</table>\n",
       "</div>"
      ],
      "text/plain": [
       "   Transaction Type Net Amount Asset Price  Asset Amount  \\\n",
       "69      Bitcoin Buy     (1.01)  $7,200.46       0.000139   \n",
       "\n",
       "                         Notes  Year  Month          Label  \n",
       "69  purchase of BTC 0.00013888  2019     11  BTC0.00013888  "
      ]
     },
     "execution_count": 36,
     "metadata": {},
     "output_type": "execute_result"
    }
   ],
   "source": [
    " df[df['Net Amount']=='(1.01)']"
   ]
  },
  {
   "cell_type": "code",
   "execution_count": 37,
   "metadata": {},
   "outputs": [],
   "source": [
    "df['Net Amount'] = df['Net Amount'].apply(lambda x : x.split('('))"
   ]
  },
  {
   "cell_type": "code",
   "execution_count": 40,
   "metadata": {},
   "outputs": [],
   "source": [
    "df['Net Amount'] = df['Net Amount'].apply(lambda x : ''.join(x))"
   ]
  },
  {
   "cell_type": "code",
   "execution_count": 41,
   "metadata": {},
   "outputs": [],
   "source": [
    "df['Net Amount'] = df['Net Amount'].apply(lambda x : x.split(')'))"
   ]
  },
  {
   "cell_type": "code",
   "execution_count": 43,
   "metadata": {},
   "outputs": [],
   "source": [
    "df['Net Amount'] = df['Net Amount'].apply(lambda x : ''.join(x))"
   ]
  },
  {
   "cell_type": "code",
   "execution_count": 44,
   "metadata": {},
   "outputs": [
    {
     "data": {
      "text/plain": [
       "0      58.40 \n",
       "1      48.86 \n",
       "2      48.87 \n",
       "3      24.44 \n",
       "4      24.44 \n",
       "        ...  \n",
       "159        20\n",
       "160        15\n",
       "161         1\n",
       "162         5\n",
       "163       100\n",
       "Name: Net Amount, Length: 164, dtype: object"
      ]
     },
     "execution_count": 44,
     "metadata": {},
     "output_type": "execute_result"
    }
   ],
   "source": [
    "df['Net Amount']"
   ]
  },
  {
   "cell_type": "code",
   "execution_count": 45,
   "metadata": {},
   "outputs": [],
   "source": [
    "df['Net Amount'] = df['Net Amount'].astype(np.float64)"
   ]
  },
  {
   "cell_type": "code",
   "execution_count": 63,
   "metadata": {},
   "outputs": [
    {
     "data": {
      "text/plain": [
       "42.31333333333333"
      ]
     },
     "execution_count": 63,
     "metadata": {},
     "output_type": "execute_result"
    }
   ],
   "source": [
    "df[(df['Year']==2020) & (df['Month']==12) & (df['Transaction Type']=='Bitcoin Sale')]['Net Amount'].mean()"
   ]
  },
  {
   "cell_type": "code",
   "execution_count": 53,
   "metadata": {},
   "outputs": [
    {
     "data": {
      "text/plain": [
       "<AxesSubplot:xlabel='Year', ylabel='Net Amount'>"
      ]
     },
     "execution_count": 53,
     "metadata": {},
     "output_type": "execute_result"
    },
    {
     "data": {
      "image/png": "[encoded data removed]",
      "text/plain": [
       "<Figure size 432x288 with 1 Axes>"
      ]
     },
     "metadata": {
      "needs_background": "light"
     },
     "output_type": "display_data"
    }
   ],
   "source": [
    "sns.barplot(data = df , x = 'Year' , y = 'Net Amount' , hue = 'Transaction Type')"
   ]
  },
  {
   "cell_type": "code",
   "execution_count": 56,
   "metadata": {},
   "outputs": [
    {
     "data": {
      "text/html": [
       "<div>\n",
       "<style scoped>\n",
       "    .dataframe tbody tr th:only-of-type {\n",
       "        vertical-align: middle;\n",
       "    }\n",
       "\n",
       "    .dataframe tbody tr th {\n",
       "        vertical-align: top;\n",
       "    }\n",
       "\n",
       "    .dataframe thead th {\n",
       "        text-align: right;\n",
       "    }\n",
       "</style>\n",
       "<table border=\"1\" class=\"dataframe\">\n",
       "  <thead>\n",
       "    <tr style=\"text-align: right;\">\n",
       "      <th></th>\n",
       "      <th>Net Amount</th>\n",
       "      <th>Year</th>\n",
       "    </tr>\n",
       "    <tr>\n",
       "      <th>Transaction Type</th>\n",
       "      <th></th>\n",
       "      <th></th>\n",
       "    </tr>\n",
       "  </thead>\n",
       "  <tbody>\n",
       "    <tr>\n",
       "      <th>Bitcoin Buy</th>\n",
       "      <td>50.00</td>\n",
       "      <td>2018</td>\n",
       "    </tr>\n",
       "    <tr>\n",
       "      <th>Bitcoin Sale</th>\n",
       "      <td>48.88</td>\n",
       "      <td>2020</td>\n",
       "    </tr>\n",
       "  </tbody>\n",
       "</table>\n",
       "</div>"
      ],
      "text/plain": [
       "                  Net Amount  Year\n",
       "Transaction Type                  \n",
       "Bitcoin Buy            50.00  2018\n",
       "Bitcoin Sale           48.88  2020"
      ]
     },
     "execution_count": 56,
     "metadata": {},
     "output_type": "execute_result"
    }
   ],
   "source": [
    "df.groupby('Transaction Type').median()[['Net Amount' , 'Year']]"
   ]
  },
  {
   "cell_type": "code",
   "execution_count": 58,
   "metadata": {},
   "outputs": [
    {
     "data": {
      "text/plain": [
       "<AxesSubplot:xlabel='Month', ylabel='Net Amount'>"
      ]
     },
     "execution_count": 58,
     "metadata": {},
     "output_type": "execute_result"
    },
    {
     "data": {
      "image/png": "[encoded data removed]",
      "text/plain": [
       "<Figure size 864x432 with 1 Axes>"
      ]
     },
     "metadata": {
      "needs_background": "light"
     },
     "output_type": "display_data"
    }
   ],
   "source": [
    "plt.figure(figsize=(12,6))\n",
    "sns.barplot(data = df , x = 'Month' , y = 'Net Amount' , hue = 'Transaction Type')\n",
    "# Used for the mean metric, would have used boxplot incase we needed median metric"
   ]
  },
  {
   "cell_type": "code",
   "execution_count": 62,
   "metadata": {},
   "outputs": [],
   "source": [
    "Dec_2020_Sale = df[(df['Year']==2020) & (df['Month']==12) & (df['Transaction Type']=='Bitcoin Sale')]['Net Amount'].mean()"
   ]
  },
  {
   "cell_type": "code",
   "execution_count": 201,
   "metadata": {},
   "outputs": [],
   "source": [
    "Nov_2020_Sale = df[(df['Year']==2020) & (df['Month']==11) & (df['Transaction Type']=='Bitcoin Sale')]['Net Amount'].mean()"
   ]
  },
  {
   "cell_type": "code",
   "execution_count": 65,
   "metadata": {},
   "outputs": [],
   "source": [
    "Oct_2020_Sale = df[(df['Year']==2020) & (df['Month']==10) & (df['Transaction Type']=='Bitcoin Sale')]['Net Amount'].mean()"
   ]
  },
  {
   "cell_type": "code",
   "execution_count": 67,
   "metadata": {},
   "outputs": [],
   "source": [
    "Sep_2020_Sale = df[(df['Year']==2020) & (df['Month']==9) & (df['Transaction Type']=='Bitcoin Sale')]['Net Amount'].mean()"
   ]
  },
  {
   "cell_type": "code",
   "execution_count": 69,
   "metadata": {},
   "outputs": [],
   "source": [
    "Aug_2020_Sale = df[(df['Year']==2020) & (df['Month']==8) & (df['Transaction Type']=='Bitcoin Sale')]['Net Amount'].mean()"
   ]
  },
  {
   "cell_type": "code",
   "execution_count": 71,
   "metadata": {},
   "outputs": [],
   "source": [
    "Jul_2020_Sale = df[(df['Year']==2020) & (df['Month']==7) & (df['Transaction Type']=='Bitcoin Sale')]['Net Amount'].mean()"
   ]
  },
  {
   "cell_type": "code",
   "execution_count": 90,
   "metadata": {},
   "outputs": [],
   "source": [
    "Aug_2019_Sale = df[(df['Year']==2019) & (df['Month']==8) & (df['Transaction Type']=='Bitcoin Sale')]['Net Amount'].mean()"
   ]
  },
  {
   "cell_type": "markdown",
   "metadata": {},
   "source": [
    "# No Sale from Sep 2019 to June in 2020"
   ]
  },
  {
   "cell_type": "code",
   "execution_count": 92,
   "metadata": {},
   "outputs": [],
   "source": [
    "Jul_2019_Sale = df[(df['Year']==2019) & (df['Month']==7) & (df['Transaction Type']=='Bitcoin Sale')]['Net Amount'].mean()"
   ]
  },
  {
   "cell_type": "code",
   "execution_count": 94,
   "metadata": {},
   "outputs": [],
   "source": [
    "Jun_2019_Sale = df[(df['Year']==2019) & (df['Month']==6) & (df['Transaction Type']=='Bitcoin Sale')]['Net Amount'].mean()"
   ]
  },
  {
   "cell_type": "code",
   "execution_count": 98,
   "metadata": {},
   "outputs": [],
   "source": [
    "May_2019_Sale = df[(df['Year']==2019) & (df['Month']==5) & (df['Transaction Type']=='Bitcoin Sale')]['Net Amount'].mean()"
   ]
  },
  {
   "cell_type": "code",
   "execution_count": 100,
   "metadata": {},
   "outputs": [],
   "source": [
    "Apr_2019_Sale = df[(df['Year']==2019) & (df['Month']==4) & (df['Transaction Type']=='Bitcoin Sale')]['Net Amount'].mean()"
   ]
  },
  {
   "cell_type": "markdown",
   "metadata": {},
   "source": [
    "# No Sale from Jan 2019 to Mar 2019"
   ]
  },
  {
   "cell_type": "code",
   "execution_count": 107,
   "metadata": {},
   "outputs": [],
   "source": [
    "Dec_2018_Sale = df[(df['Year']==2018) & (df['Month']==12) & (df['Transaction Type']=='Bitcoin Sale')]['Net Amount'].mean()"
   ]
  },
  {
   "cell_type": "markdown",
   "metadata": {},
   "source": [
    "# PURCHASE STATS"
   ]
  },
  {
   "cell_type": "code",
   "execution_count": 125,
   "metadata": {},
   "outputs": [],
   "source": [
    "Nov_2019_Buy = df[(df['Year']==2019) & (df['Month']==11) & (df['Transaction Type']=='Bitcoin Buy')]['Net Amount'].mean()"
   ]
  },
  {
   "cell_type": "markdown",
   "metadata": {},
   "source": [
    "# No purchase from Aug 2019 to Oct 2019"
   ]
  },
  {
   "cell_type": "code",
   "execution_count": 151,
   "metadata": {},
   "outputs": [],
   "source": [
    "July_2019_Buy = df[(df['Year']==2019) & (df['Month']==7) & (df['Transaction Type']=='Bitcoin Buy')]['Net Amount'].mean()"
   ]
  },
  {
   "cell_type": "code",
   "execution_count": 153,
   "metadata": {},
   "outputs": [],
   "source": [
    "June_2019_Buy = df[(df['Year']==2019) & (df['Month']==6) & (df['Transaction Type']=='Bitcoin Buy')]['Net Amount'].mean()"
   ]
  },
  {
   "cell_type": "code",
   "execution_count": 155,
   "metadata": {},
   "outputs": [],
   "source": [
    "May_2019_Buy = df[(df['Year']==2019) & (df['Month']==5) & (df['Transaction Type']=='Bitcoin Buy')]['Net Amount'].mean()"
   ]
  },
  {
   "cell_type": "markdown",
   "metadata": {},
   "source": [
    "# No Buy in Apr 2019"
   ]
  },
  {
   "cell_type": "code",
   "execution_count": 158,
   "metadata": {},
   "outputs": [],
   "source": [
    "Mar_2019_Buy = df[(df['Year']==2019) & (df['Month']==3) & (df['Transaction Type']=='Bitcoin Buy')]['Net Amount'].mean()"
   ]
  },
  {
   "cell_type": "code",
   "execution_count": 160,
   "metadata": {},
   "outputs": [],
   "source": [
    "Feb_2019_Buy = df[(df['Year']==2019) & (df['Month']==2) & (df['Transaction Type']=='Bitcoin Buy')]['Net Amount'].mean()"
   ]
  },
  {
   "cell_type": "code",
   "execution_count": 164,
   "metadata": {},
   "outputs": [],
   "source": [
    "Jan_2019_Buy = df[(df['Year']==2019) & (df['Month']==1) & (df['Transaction Type']=='Bitcoin Buy')]['Net Amount'].mean()"
   ]
  },
  {
   "cell_type": "code",
   "execution_count": 166,
   "metadata": {},
   "outputs": [],
   "source": [
    "Dec_2018_Buy = df[(df['Year']==2018) & (df['Month']==12) & (df['Transaction Type']=='Bitcoin Buy')]['Net Amount'].mean()"
   ]
  },
  {
   "cell_type": "code",
   "execution_count": 168,
   "metadata": {},
   "outputs": [],
   "source": [
    "Nov_2018_Buy = df[(df['Year']==2018) & (df['Month']==11) & (df['Transaction Type']=='Bitcoin Buy')]['Net Amount'].mean()"
   ]
  },
  {
   "cell_type": "code",
   "execution_count": 170,
   "metadata": {},
   "outputs": [],
   "source": [
    "Oct_2018_Buy = df[(df['Year']==2018) & (df['Month']==10) & (df['Transaction Type']=='Bitcoin Buy')]['Net Amount'].mean()"
   ]
  },
  {
   "cell_type": "markdown",
   "metadata": {},
   "source": [
    "# In 2018...."
   ]
  },
  {
   "cell_type": "code",
   "execution_count": 182,
   "metadata": {},
   "outputs": [],
   "source": [
    "Dec_2018_profit = Dec_2018_Sale - Dec_2018_Buy"
   ]
  },
  {
   "cell_type": "code",
   "execution_count": 183,
   "metadata": {},
   "outputs": [],
   "source": [
    "Nov_2018_profit = -Nov_2018_Buy"
   ]
  },
  {
   "cell_type": "code",
   "execution_count": 184,
   "metadata": {},
   "outputs": [],
   "source": [
    "Oct_2018_profit = -Oct_2018_Buy"
   ]
  },
  {
   "cell_type": "code",
   "execution_count": 204,
   "metadata": {},
   "outputs": [],
   "source": [
    "Total_2018_profit = Dec_2018_profit + Nov_2018_profit + Oct_2018_profit"
   ]
  },
  {
   "cell_type": "code",
   "execution_count": 205,
   "metadata": {},
   "outputs": [
    {
     "name": "stdout",
     "output_type": "stream",
     "text": [
      "In 2018 there was a profit of -109.75\n"
     ]
    }
   ],
   "source": [
    "print(f\"In 2018 there was a profit of {Total_2018_profit}\")"
   ]
  },
  {
   "cell_type": "markdown",
   "metadata": {},
   "source": [
    "# In 2019"
   ]
  },
  {
   "cell_type": "code",
   "execution_count": 185,
   "metadata": {},
   "outputs": [],
   "source": [
    "Nov_2019_profit = -Nov_2019_Buy"
   ]
  },
  {
   "cell_type": "code",
   "execution_count": 186,
   "metadata": {},
   "outputs": [],
   "source": [
    "Aug_2019_profit = Aug_2019_Sale"
   ]
  },
  {
   "cell_type": "code",
   "execution_count": 187,
   "metadata": {},
   "outputs": [],
   "source": [
    "Jul_2019_profit = Jul_2019_Sale - July_2019_Buy"
   ]
  },
  {
   "cell_type": "code",
   "execution_count": 188,
   "metadata": {},
   "outputs": [],
   "source": [
    "Jun_2019_profit = Jun_2019_Sale - June_2019_Buy"
   ]
  },
  {
   "cell_type": "code",
   "execution_count": 190,
   "metadata": {},
   "outputs": [],
   "source": [
    "May_2019_profit = May_2019_Sale - May_2019_Buy"
   ]
  },
  {
   "cell_type": "code",
   "execution_count": 191,
   "metadata": {},
   "outputs": [],
   "source": [
    "Apr_2019_profit = Apr_2019_Sale"
   ]
  },
  {
   "cell_type": "code",
   "execution_count": 192,
   "metadata": {},
   "outputs": [],
   "source": [
    "Mar_2019_profit = -Mar_2019_Buy"
   ]
  },
  {
   "cell_type": "code",
   "execution_count": 193,
   "metadata": {},
   "outputs": [],
   "source": [
    "Feb_2019_profit = -Feb_2019_Buy"
   ]
  },
  {
   "cell_type": "code",
   "execution_count": 194,
   "metadata": {},
   "outputs": [],
   "source": [
    "Jan_2019_profit = -Jan_2019_Buy"
   ]
  },
  {
   "cell_type": "code",
   "execution_count": 207,
   "metadata": {},
   "outputs": [],
   "source": [
    "Total_2019_profit = Jan_2019_profit + Feb_2019_profit + Mar_2019_profit + Apr_2019_profit + May_2019_profit + Jun_2019_profit + Jul_2019_profit + Aug_2019_profit + Nov_2019_profit"
   ]
  },
  {
   "cell_type": "code",
   "execution_count": 208,
   "metadata": {},
   "outputs": [
    {
     "name": "stdout",
     "output_type": "stream",
     "text": [
      "In 2019 there was a profit of -191.8433333333333\n"
     ]
    }
   ],
   "source": [
    "print(f\"In 2019 there was a profit of {Total_2019_profit}\")"
   ]
  },
  {
   "cell_type": "markdown",
   "metadata": {},
   "source": [
    "# In 2020"
   ]
  },
  {
   "cell_type": "code",
   "execution_count": 196,
   "metadata": {},
   "outputs": [],
   "source": [
    "Dec_2020_profit = Dec_2020_Sale"
   ]
  },
  {
   "cell_type": "code",
   "execution_count": 202,
   "metadata": {},
   "outputs": [],
   "source": [
    "Nov_2020_profit = Nov_2020_Sale"
   ]
  },
  {
   "cell_type": "code",
   "execution_count": 197,
   "metadata": {},
   "outputs": [],
   "source": [
    "Oct_2020_profit = Oct_2020_Sale"
   ]
  },
  {
   "cell_type": "code",
   "execution_count": 198,
   "metadata": {},
   "outputs": [],
   "source": [
    "Sep_2020_profit = Sep_2020_Sale"
   ]
  },
  {
   "cell_type": "code",
   "execution_count": 199,
   "metadata": {},
   "outputs": [],
   "source": [
    "Aug_2020_profit = Aug_2020_Sale"
   ]
  },
  {
   "cell_type": "code",
   "execution_count": 200,
   "metadata": {},
   "outputs": [],
   "source": [
    "Jul_2020_profit = Jul_2020_Sale"
   ]
  },
  {
   "cell_type": "code",
   "execution_count": 209,
   "metadata": {},
   "outputs": [],
   "source": [
    "Total_2020_profit = Dec_2020_profit + Nov_2020_profit + Oct_2020_profit + Sep_2020_profit + Aug_2020_profit + Jul_2020_profit"
   ]
  },
  {
   "cell_type": "code",
   "execution_count": 210,
   "metadata": {},
   "outputs": [
    {
     "name": "stdout",
     "output_type": "stream",
     "text": [
      "In 2020 there was a profit of 377.092119047619\n"
     ]
    }
   ],
   "source": [
    "print(f\"In 2020 there was a profit of {Total_2020_profit}\")"
   ]
  },
  {
   "cell_type": "markdown",
   "metadata": {},
   "source": [
    "# INCLUDING ALL THE YEARS"
   ]
  },
  {
   "cell_type": "code",
   "execution_count": 211,
   "metadata": {},
   "outputs": [],
   "source": [
    "Total_year_profit = Total_2018_profit + Total_2019_profit + Total_2020_profit"
   ]
  },
  {
   "cell_type": "code",
   "execution_count": 212,
   "metadata": {},
   "outputs": [
    {
     "name": "stdout",
     "output_type": "stream",
     "text": [
      "From 2018-2020 there was a profit of 75.4987857142857\n"
     ]
    }
   ],
   "source": [
    "print(f\"From 2018-2020 there was a profit of {Total_year_profit}\")"
   ]
  },
  {
   "cell_type": "markdown",
   "metadata": {},
   "source": [
    "# TOTAL PROFIT EACH MONTH"
   ]
  },
  {
   "cell_type": "code",
   "execution_count": 217,
   "metadata": {},
   "outputs": [
    {
     "data": {
      "text/plain": [
       "17.313333333333333"
      ]
     },
     "execution_count": 217,
     "metadata": {},
     "output_type": "execute_result"
    }
   ],
   "source": [
    "Dec_total_profit = Dec_2018_profit + Dec_2020_profit\n",
    "Dec_total_profit"
   ]
  },
  {
   "cell_type": "code",
   "execution_count": 218,
   "metadata": {},
   "outputs": [
    {
     "data": {
      "text/plain": [
       "-4.125714285714274"
      ]
     },
     "execution_count": 218,
     "metadata": {},
     "output_type": "execute_result"
    }
   ],
   "source": [
    "Nov_total_profit = Nov_2018_profit + Nov_2019_profit + Nov_2020_profit\n",
    "Nov_total_profit"
   ]
  },
  {
   "cell_type": "code",
   "execution_count": 219,
   "metadata": {},
   "outputs": [
    {
     "data": {
      "text/plain": [
       "21.653"
      ]
     },
     "execution_count": 219,
     "metadata": {},
     "output_type": "execute_result"
    }
   ],
   "source": [
    "Oct_total_profit = Oct_2018_profit + Oct_2020_profit\n",
    "Oct_total_profit"
   ]
  },
  {
   "cell_type": "code",
   "execution_count": 220,
   "metadata": {},
   "outputs": [
    {
     "data": {
      "text/plain": [
       "73.3"
      ]
     },
     "execution_count": 220,
     "metadata": {},
     "output_type": "execute_result"
    }
   ],
   "source": [
    "Sep_total_profit = Sep_2020_profit \n",
    "Sep_total_profit"
   ]
  },
  {
   "cell_type": "code",
   "execution_count": 221,
   "metadata": {},
   "outputs": [
    {
     "data": {
      "text/plain": [
       "128.7575"
      ]
     },
     "execution_count": 221,
     "metadata": {},
     "output_type": "execute_result"
    }
   ],
   "source": [
    "Aug_total_profit = Aug_2019_profit + Aug_2020_profit\n",
    "Aug_total_profit"
   ]
  },
  {
   "cell_type": "code",
   "execution_count": 223,
   "metadata": {},
   "outputs": [
    {
     "data": {
      "text/plain": [
       "96.10066666666665"
      ]
     },
     "execution_count": 223,
     "metadata": {},
     "output_type": "execute_result"
    }
   ],
   "source": [
    "Jul_total_profit = Jul_2019_profit + Jul_2020_profit\n",
    "Jul_total_profit"
   ]
  },
  {
   "cell_type": "code",
   "execution_count": 224,
   "metadata": {},
   "outputs": [
    {
     "data": {
      "text/plain": [
       "20.0"
      ]
     },
     "execution_count": 224,
     "metadata": {},
     "output_type": "execute_result"
    }
   ],
   "source": [
    "Jun_total_profit = Jun_2019_profit\n",
    "Jun_total_profit"
   ]
  },
  {
   "cell_type": "code",
   "execution_count": 225,
   "metadata": {},
   "outputs": [
    {
     "data": {
      "text/plain": [
       "50.0"
      ]
     },
     "execution_count": 225,
     "metadata": {},
     "output_type": "execute_result"
    }
   ],
   "source": [
    "May_total_profit = May_2019_profit\n",
    "May_total_profit"
   ]
  },
  {
   "cell_type": "code",
   "execution_count": 226,
   "metadata": {},
   "outputs": [
    {
     "data": {
      "text/plain": [
       "166.66666666666666"
      ]
     },
     "execution_count": 226,
     "metadata": {},
     "output_type": "execute_result"
    }
   ],
   "source": [
    "Apr_total_profit = Apr_2019_profit\n",
    "Apr_total_profit"
   ]
  },
  {
   "cell_type": "code",
   "execution_count": 227,
   "metadata": {},
   "outputs": [
    {
     "data": {
      "text/plain": [
       "-312.5"
      ]
     },
     "execution_count": 227,
     "metadata": {},
     "output_type": "execute_result"
    }
   ],
   "source": [
    "Mar_total_profit = Mar_2019_profit\n",
    "Mar_total_profit"
   ]
  },
  {
   "cell_type": "code",
   "execution_count": 228,
   "metadata": {},
   "outputs": [
    {
     "data": {
      "text/plain": [
       "-95.0"
      ]
     },
     "execution_count": 228,
     "metadata": {},
     "output_type": "execute_result"
    }
   ],
   "source": [
    "Feb_total_profit = Feb_2019_profit\n",
    "Feb_total_profit"
   ]
  },
  {
   "cell_type": "code",
   "execution_count": 229,
   "metadata": {},
   "outputs": [
    {
     "data": {
      "text/plain": [
       "-86.66666666666667"
      ]
     },
     "execution_count": 229,
     "metadata": {},
     "output_type": "execute_result"
    }
   ],
   "source": [
    "Jan_total_profit = Jan_2019_profit\n",
    "Jan_total_profit"
   ]
  },
  {
   "cell_type": "markdown",
   "metadata": {},
   "source": [
    "# NOW USING THE BLOCK CHAIN PUSH N POP LOGIC"
   ]
  },
  {
   "cell_type": "code",
   "execution_count": 230,
   "metadata": {},
   "outputs": [],
   "source": [
    "df_Sale = df[df['Transaction Type']=='Bitcoin Sale']"
   ]
  },
  {
   "cell_type": "code",
   "execution_count": 231,
   "metadata": {},
   "outputs": [],
   "source": [
    "df_Buy = df[df['Transaction Type']=='Bitcoin Buy']"
   ]
  },
  {
   "cell_type": "code",
   "execution_count": 235,
   "metadata": {},
   "outputs": [
    {
     "data": {
      "text/plain": [
       "103"
      ]
     },
     "execution_count": 235,
     "metadata": {},
     "output_type": "execute_result"
    }
   ],
   "source": [
    "len(df_Sale) "
   ]
  },
  {
   "cell_type": "code",
   "execution_count": 234,
   "metadata": {},
   "outputs": [
    {
     "data": {
      "text/plain": [
       "61"
      ]
     },
     "execution_count": 234,
     "metadata": {},
     "output_type": "execute_result"
    }
   ],
   "source": [
    "len(df_Buy)"
   ]
  },
  {
   "cell_type": "code",
   "execution_count": 245,
   "metadata": {},
   "outputs": [],
   "source": [
    "df_Sale = df_Sale.sort_values(by=['Year'],ascending=True )"
   ]
  },
  {
   "cell_type": "code",
   "execution_count": 246,
   "metadata": {},
   "outputs": [],
   "source": [
    "df_Buy = df_Buy.sort_values(by=['Year'],ascending=True )"
   ]
  },
  {
   "cell_type": "code",
   "execution_count": 247,
   "metadata": {},
   "outputs": [
    {
     "data": {
      "text/html": [
       "<div>\n",
       "<style scoped>\n",
       "    .dataframe tbody tr th:only-of-type {\n",
       "        vertical-align: middle;\n",
       "    }\n",
       "\n",
       "    .dataframe tbody tr th {\n",
       "        vertical-align: top;\n",
       "    }\n",
       "\n",
       "    .dataframe thead th {\n",
       "        text-align: right;\n",
       "    }\n",
       "</style>\n",
       "<table border=\"1\" class=\"dataframe\">\n",
       "  <thead>\n",
       "    <tr style=\"text-align: right;\">\n",
       "      <th></th>\n",
       "      <th>Transaction Type</th>\n",
       "      <th>Net Amount</th>\n",
       "      <th>Asset Price</th>\n",
       "      <th>Asset Amount</th>\n",
       "      <th>Notes</th>\n",
       "      <th>Year</th>\n",
       "      <th>Month</th>\n",
       "      <th>Label</th>\n",
       "    </tr>\n",
       "  </thead>\n",
       "  <tbody>\n",
       "    <tr>\n",
       "      <th>127</th>\n",
       "      <td>Bitcoin Sale</td>\n",
       "      <td>50.0</td>\n",
       "      <td>$4,191.54</td>\n",
       "      <td>0.011929</td>\n",
       "      <td>sale of BTC 0.01192879</td>\n",
       "      <td>2018</td>\n",
       "      <td>12</td>\n",
       "      <td>BTC0.01192879</td>\n",
       "    </tr>\n",
       "    <tr>\n",
       "      <th>126</th>\n",
       "      <td>Bitcoin Sale</td>\n",
       "      <td>50.0</td>\n",
       "      <td>$4,189.60</td>\n",
       "      <td>0.011934</td>\n",
       "      <td>sale of BTC 0.01193431</td>\n",
       "      <td>2018</td>\n",
       "      <td>12</td>\n",
       "      <td>BTC0.01193431</td>\n",
       "    </tr>\n",
       "    <tr>\n",
       "      <th>111</th>\n",
       "      <td>Bitcoin Sale</td>\n",
       "      <td>50.0</td>\n",
       "      <td>$5,461.49</td>\n",
       "      <td>0.009155</td>\n",
       "      <td>sale of BTC 0.00915501</td>\n",
       "      <td>2019</td>\n",
       "      <td>4</td>\n",
       "      <td>BTC0.00915501</td>\n",
       "    </tr>\n",
       "    <tr>\n",
       "      <th>109</th>\n",
       "      <td>Bitcoin Sale</td>\n",
       "      <td>200.0</td>\n",
       "      <td>$7,708.47</td>\n",
       "      <td>0.025945</td>\n",
       "      <td>sale of BTC 0.02594549</td>\n",
       "      <td>2019</td>\n",
       "      <td>5</td>\n",
       "      <td>BTC0.02594549</td>\n",
       "    </tr>\n",
       "    <tr>\n",
       "      <th>108</th>\n",
       "      <td>Bitcoin Sale</td>\n",
       "      <td>500.0</td>\n",
       "      <td>$7,708.90</td>\n",
       "      <td>0.064860</td>\n",
       "      <td>sale of BTC 0.06486010</td>\n",
       "      <td>2019</td>\n",
       "      <td>5</td>\n",
       "      <td>BTC0.06486010</td>\n",
       "    </tr>\n",
       "  </tbody>\n",
       "</table>\n",
       "</div>"
      ],
      "text/plain": [
       "    Transaction Type  Net Amount Asset Price  Asset Amount  \\\n",
       "127     Bitcoin Sale        50.0  $4,191.54       0.011929   \n",
       "126     Bitcoin Sale        50.0  $4,189.60       0.011934   \n",
       "111     Bitcoin Sale        50.0  $5,461.49       0.009155   \n",
       "109     Bitcoin Sale       200.0  $7,708.47       0.025945   \n",
       "108     Bitcoin Sale       500.0  $7,708.90       0.064860   \n",
       "\n",
       "                      Notes  Year  Month          Label  \n",
       "127  sale of BTC 0.01192879  2018     12  BTC0.01192879  \n",
       "126  sale of BTC 0.01193431  2018     12  BTC0.01193431  \n",
       "111  sale of BTC 0.00915501  2019      4  BTC0.00915501  \n",
       "109  sale of BTC 0.02594549  2019      5  BTC0.02594549  \n",
       "108  sale of BTC 0.06486010  2019      5  BTC0.06486010  "
      ]
     },
     "execution_count": 247,
     "metadata": {},
     "output_type": "execute_result"
    }
   ],
   "source": [
    "df_Sale.head()"
   ]
  },
  {
   "cell_type": "code",
   "execution_count": 248,
   "metadata": {},
   "outputs": [
    {
     "data": {
      "text/html": [
       "<div>\n",
       "<style scoped>\n",
       "    .dataframe tbody tr th:only-of-type {\n",
       "        vertical-align: middle;\n",
       "    }\n",
       "\n",
       "    .dataframe tbody tr th {\n",
       "        vertical-align: top;\n",
       "    }\n",
       "\n",
       "    .dataframe thead th {\n",
       "        text-align: right;\n",
       "    }\n",
       "</style>\n",
       "<table border=\"1\" class=\"dataframe\">\n",
       "  <thead>\n",
       "    <tr style=\"text-align: right;\">\n",
       "      <th></th>\n",
       "      <th>Transaction Type</th>\n",
       "      <th>Net Amount</th>\n",
       "      <th>Asset Price</th>\n",
       "      <th>Asset Amount</th>\n",
       "      <th>Notes</th>\n",
       "      <th>Year</th>\n",
       "      <th>Month</th>\n",
       "      <th>Label</th>\n",
       "    </tr>\n",
       "  </thead>\n",
       "  <tbody>\n",
       "    <tr>\n",
       "      <th>133</th>\n",
       "      <td>Bitcoin Buy</td>\n",
       "      <td>50.0</td>\n",
       "      <td>$4,352.58</td>\n",
       "      <td>0.011487</td>\n",
       "      <td>purchase of BTC 0.01148744</td>\n",
       "      <td>2018</td>\n",
       "      <td>11</td>\n",
       "      <td>BTC0.01148744</td>\n",
       "    </tr>\n",
       "    <tr>\n",
       "      <th>135</th>\n",
       "      <td>Bitcoin Buy</td>\n",
       "      <td>100.0</td>\n",
       "      <td>$4,516.83</td>\n",
       "      <td>0.022139</td>\n",
       "      <td>purchase of BTC 0.02213942</td>\n",
       "      <td>2018</td>\n",
       "      <td>11</td>\n",
       "      <td>BTC0.02213942</td>\n",
       "    </tr>\n",
       "    <tr>\n",
       "      <th>136</th>\n",
       "      <td>Bitcoin Buy</td>\n",
       "      <td>100.0</td>\n",
       "      <td>$4,485.69</td>\n",
       "      <td>0.022293</td>\n",
       "      <td>purchase of BTC 0.02229311</td>\n",
       "      <td>2018</td>\n",
       "      <td>11</td>\n",
       "      <td>BTC0.02229311</td>\n",
       "    </tr>\n",
       "    <tr>\n",
       "      <th>137</th>\n",
       "      <td>Bitcoin Buy</td>\n",
       "      <td>100.0</td>\n",
       "      <td>$4,484.27</td>\n",
       "      <td>0.022300</td>\n",
       "      <td>purchase of BTC 0.02230017</td>\n",
       "      <td>2018</td>\n",
       "      <td>11</td>\n",
       "      <td>BTC0.02230017</td>\n",
       "    </tr>\n",
       "    <tr>\n",
       "      <th>138</th>\n",
       "      <td>Bitcoin Buy</td>\n",
       "      <td>50.0</td>\n",
       "      <td>$5,666.94</td>\n",
       "      <td>0.008823</td>\n",
       "      <td>purchase of BTC 0.00882310</td>\n",
       "      <td>2018</td>\n",
       "      <td>11</td>\n",
       "      <td>BTC0.00882310</td>\n",
       "    </tr>\n",
       "  </tbody>\n",
       "</table>\n",
       "</div>"
      ],
      "text/plain": [
       "    Transaction Type  Net Amount Asset Price  Asset Amount  \\\n",
       "133      Bitcoin Buy        50.0  $4,352.58       0.011487   \n",
       "135      Bitcoin Buy       100.0  $4,516.83       0.022139   \n",
       "136      Bitcoin Buy       100.0  $4,485.69       0.022293   \n",
       "137      Bitcoin Buy       100.0  $4,484.27       0.022300   \n",
       "138      Bitcoin Buy        50.0  $5,666.94       0.008823   \n",
       "\n",
       "                          Notes  Year  Month          Label  \n",
       "133  purchase of BTC 0.01148744  2018     11  BTC0.01148744  \n",
       "135  purchase of BTC 0.02213942  2018     11  BTC0.02213942  \n",
       "136  purchase of BTC 0.02229311  2018     11  BTC0.02229311  \n",
       "137  purchase of BTC 0.02230017  2018     11  BTC0.02230017  \n",
       "138  purchase of BTC 0.00882310  2018     11  BTC0.00882310  "
      ]
     },
     "execution_count": 248,
     "metadata": {},
     "output_type": "execute_result"
    }
   ],
   "source": [
    "df_Buy.head()"
   ]
  },
  {
   "cell_type": "code",
   "execution_count": 249,
   "metadata": {},
   "outputs": [
    {
     "data": {
      "text/plain": [
       "3953.01"
      ]
     },
     "execution_count": 249,
     "metadata": {},
     "output_type": "execute_result"
    }
   ],
   "source": [
    "df_Buy['Net Amount'].sum()"
   ]
  },
  {
   "cell_type": "code",
   "execution_count": 260,
   "metadata": {},
   "outputs": [
    {
     "data": {
      "text/plain": [
       "3988.7000000000003"
      ]
     },
     "execution_count": 260,
     "metadata": {},
     "output_type": "execute_result"
    }
   ],
   "source": [
    "df_Sale['Net Amount'][:44].sum()"
   ]
  },
  {
   "cell_type": "markdown",
   "metadata": {},
   "source": [
    "# the situation goes to a gain by the 44th transaction by usd 36"
   ]
  },
  {
   "cell_type": "code",
   "execution_count": 261,
   "metadata": {},
   "outputs": [
    {
     "data": {
      "text/plain": [
       "3956.45"
      ]
     },
     "execution_count": 261,
     "metadata": {},
     "output_type": "execute_result"
    }
   ],
   "source": [
    "df_Sale['Net Amount'][44:].sum()"
   ]
  },
  {
   "cell_type": "code",
   "execution_count": 265,
   "metadata": {},
   "outputs": [
    {
     "data": {
      "text/plain": [
       "3992.1399999999994"
      ]
     },
     "execution_count": 265,
     "metadata": {},
     "output_type": "execute_result"
    }
   ],
   "source": [
    "df_Sale['Net Amount'].sum() - df_Buy['Net Amount'].sum()"
   ]
  },
  {
   "cell_type": "markdown",
   "metadata": {},
   "source": [
    "# EXPERIMENTS"
   ]
  },
  {
   "cell_type": "code",
   "execution_count": 277,
   "metadata": {},
   "outputs": [],
   "source": [
    "df_Buy2 = df_Buy.copy()"
   ]
  },
  {
   "cell_type": "code",
   "execution_count": 278,
   "metadata": {},
   "outputs": [
    {
     "data": {
      "text/plain": [
       "Index(['Transaction Type', 'Net Amount', 'Asset Price', 'Asset Amount',\n",
       "       'Notes', 'Year', 'Month', 'Label'],\n",
       "      dtype='object')"
      ]
     },
     "execution_count": 278,
     "metadata": {},
     "output_type": "execute_result"
    }
   ],
   "source": [
    "df_Buy.columns"
   ]
  },
  {
   "cell_type": "code",
   "execution_count": 280,
   "metadata": {},
   "outputs": [],
   "source": [
    "df_Buy2.columns = ['Transaction Type 2', 'Net Amount 2', 'Asset Price 2', 'Asset Amount 2',\n",
    "       'Notes 2', 'Year 2', 'Month 2', 'Label 2']"
   ]
  },
  {
   "cell_type": "code",
   "execution_count": 303,
   "metadata": {},
   "outputs": [],
   "source": [
    "df_new2 = pd.merge(df_Sale , df_Buy , how = 'outer' , on = ['Year','Month'])"
   ]
  },
  {
   "cell_type": "code",
   "execution_count": null,
   "metadata": {},
   "outputs": [],
   "source": []
  },
  {
   "cell_type": "code",
   "execution_count": 287,
   "metadata": {},
   "outputs": [],
   "source": [
    "df_new.drop(['Label_x','Label_y'], axis=1, inplace=True)"
   ]
  },
  {
   "cell_type": "code",
   "execution_count": 288,
   "metadata": {},
   "outputs": [
    {
     "data": {
      "text/html": [
       "<div>\n",
       "<style scoped>\n",
       "    .dataframe tbody tr th:only-of-type {\n",
       "        vertical-align: middle;\n",
       "    }\n",
       "\n",
       "    .dataframe tbody tr th {\n",
       "        vertical-align: top;\n",
       "    }\n",
       "\n",
       "    .dataframe thead th {\n",
       "        text-align: right;\n",
       "    }\n",
       "</style>\n",
       "<table border=\"1\" class=\"dataframe\">\n",
       "  <thead>\n",
       "    <tr style=\"text-align: right;\">\n",
       "      <th></th>\n",
       "      <th>Transaction Type_x</th>\n",
       "      <th>Net Amount_x</th>\n",
       "      <th>Asset Price_x</th>\n",
       "      <th>Asset Amount_x</th>\n",
       "      <th>Notes_x</th>\n",
       "      <th>Year</th>\n",
       "      <th>Month_x</th>\n",
       "      <th>Transaction Type_y</th>\n",
       "      <th>Net Amount_y</th>\n",
       "      <th>Asset Price_y</th>\n",
       "      <th>Asset Amount_y</th>\n",
       "      <th>Notes_y</th>\n",
       "      <th>Month_y</th>\n",
       "    </tr>\n",
       "  </thead>\n",
       "  <tbody>\n",
       "    <tr>\n",
       "      <th>0</th>\n",
       "      <td>Bitcoin Sale</td>\n",
       "      <td>50.0</td>\n",
       "      <td>$4,191.54</td>\n",
       "      <td>0.011929</td>\n",
       "      <td>sale of BTC 0.01192879</td>\n",
       "      <td>2018</td>\n",
       "      <td>12</td>\n",
       "      <td>Bitcoin Buy</td>\n",
       "      <td>50.0</td>\n",
       "      <td>$4,352.58</td>\n",
       "      <td>0.011487</td>\n",
       "      <td>purchase of BTC 0.01148744</td>\n",
       "      <td>11.0</td>\n",
       "    </tr>\n",
       "    <tr>\n",
       "      <th>1</th>\n",
       "      <td>Bitcoin Sale</td>\n",
       "      <td>50.0</td>\n",
       "      <td>$4,191.54</td>\n",
       "      <td>0.011929</td>\n",
       "      <td>sale of BTC 0.01192879</td>\n",
       "      <td>2018</td>\n",
       "      <td>12</td>\n",
       "      <td>Bitcoin Buy</td>\n",
       "      <td>100.0</td>\n",
       "      <td>$4,516.83</td>\n",
       "      <td>0.022139</td>\n",
       "      <td>purchase of BTC 0.02213942</td>\n",
       "      <td>11.0</td>\n",
       "    </tr>\n",
       "    <tr>\n",
       "      <th>2</th>\n",
       "      <td>Bitcoin Sale</td>\n",
       "      <td>50.0</td>\n",
       "      <td>$4,191.54</td>\n",
       "      <td>0.011929</td>\n",
       "      <td>sale of BTC 0.01192879</td>\n",
       "      <td>2018</td>\n",
       "      <td>12</td>\n",
       "      <td>Bitcoin Buy</td>\n",
       "      <td>100.0</td>\n",
       "      <td>$4,485.69</td>\n",
       "      <td>0.022293</td>\n",
       "      <td>purchase of BTC 0.02229311</td>\n",
       "      <td>11.0</td>\n",
       "    </tr>\n",
       "    <tr>\n",
       "      <th>3</th>\n",
       "      <td>Bitcoin Sale</td>\n",
       "      <td>50.0</td>\n",
       "      <td>$4,191.54</td>\n",
       "      <td>0.011929</td>\n",
       "      <td>sale of BTC 0.01192879</td>\n",
       "      <td>2018</td>\n",
       "      <td>12</td>\n",
       "      <td>Bitcoin Buy</td>\n",
       "      <td>100.0</td>\n",
       "      <td>$4,484.27</td>\n",
       "      <td>0.022300</td>\n",
       "      <td>purchase of BTC 0.02230017</td>\n",
       "      <td>11.0</td>\n",
       "    </tr>\n",
       "    <tr>\n",
       "      <th>4</th>\n",
       "      <td>Bitcoin Sale</td>\n",
       "      <td>50.0</td>\n",
       "      <td>$4,191.54</td>\n",
       "      <td>0.011929</td>\n",
       "      <td>sale of BTC 0.01192879</td>\n",
       "      <td>2018</td>\n",
       "      <td>12</td>\n",
       "      <td>Bitcoin Buy</td>\n",
       "      <td>50.0</td>\n",
       "      <td>$5,666.94</td>\n",
       "      <td>0.008823</td>\n",
       "      <td>purchase of BTC 0.00882310</td>\n",
       "      <td>11.0</td>\n",
       "    </tr>\n",
       "  </tbody>\n",
       "</table>\n",
       "</div>"
      ],
      "text/plain": [
       "  Transaction Type_x  Net Amount_x Asset Price_x  Asset Amount_x  \\\n",
       "0       Bitcoin Sale          50.0    $4,191.54         0.011929   \n",
       "1       Bitcoin Sale          50.0    $4,191.54         0.011929   \n",
       "2       Bitcoin Sale          50.0    $4,191.54         0.011929   \n",
       "3       Bitcoin Sale          50.0    $4,191.54         0.011929   \n",
       "4       Bitcoin Sale          50.0    $4,191.54         0.011929   \n",
       "\n",
       "                  Notes_x  Year  Month_x Transaction Type_y  Net Amount_y  \\\n",
       "0  sale of BTC 0.01192879  2018       12        Bitcoin Buy          50.0   \n",
       "1  sale of BTC 0.01192879  2018       12        Bitcoin Buy         100.0   \n",
       "2  sale of BTC 0.01192879  2018       12        Bitcoin Buy         100.0   \n",
       "3  sale of BTC 0.01192879  2018       12        Bitcoin Buy         100.0   \n",
       "4  sale of BTC 0.01192879  2018       12        Bitcoin Buy          50.0   \n",
       "\n",
       "  Asset Price_y  Asset Amount_y                     Notes_y  Month_y  \n",
       "0    $4,352.58         0.011487  purchase of BTC 0.01148744     11.0  \n",
       "1    $4,516.83         0.022139  purchase of BTC 0.02213942     11.0  \n",
       "2    $4,485.69         0.022293  purchase of BTC 0.02229311     11.0  \n",
       "3    $4,484.27         0.022300  purchase of BTC 0.02230017     11.0  \n",
       "4    $5,666.94         0.008823  purchase of BTC 0.00882310     11.0  "
      ]
     },
     "execution_count": 288,
     "metadata": {},
     "output_type": "execute_result"
    }
   ],
   "source": [
    "df_new.head()"
   ]
  },
  {
   "cell_type": "code",
   "execution_count": 290,
   "metadata": {},
   "outputs": [],
   "source": [
    "df_new['Month_diff'] = abs(df_new['Month_x'] - df_new['Month_y'])"
   ]
  },
  {
   "cell_type": "code",
   "execution_count": 291,
   "metadata": {},
   "outputs": [
    {
     "data": {
      "text/html": [
       "<div>\n",
       "<style scoped>\n",
       "    .dataframe tbody tr th:only-of-type {\n",
       "        vertical-align: middle;\n",
       "    }\n",
       "\n",
       "    .dataframe tbody tr th {\n",
       "        vertical-align: top;\n",
       "    }\n",
       "\n",
       "    .dataframe thead th {\n",
       "        text-align: right;\n",
       "    }\n",
       "</style>\n",
       "<table border=\"1\" class=\"dataframe\">\n",
       "  <thead>\n",
       "    <tr style=\"text-align: right;\">\n",
       "      <th></th>\n",
       "      <th>Transaction Type_x</th>\n",
       "      <th>Net Amount_x</th>\n",
       "      <th>Asset Price_x</th>\n",
       "      <th>Asset Amount_x</th>\n",
       "      <th>Notes_x</th>\n",
       "      <th>Year</th>\n",
       "      <th>Month_x</th>\n",
       "      <th>Transaction Type_y</th>\n",
       "      <th>Net Amount_y</th>\n",
       "      <th>Asset Price_y</th>\n",
       "      <th>Asset Amount_y</th>\n",
       "      <th>Notes_y</th>\n",
       "      <th>Month_y</th>\n",
       "      <th>Month_diff</th>\n",
       "    </tr>\n",
       "  </thead>\n",
       "  <tbody>\n",
       "    <tr>\n",
       "      <th>0</th>\n",
       "      <td>Bitcoin Sale</td>\n",
       "      <td>50.0</td>\n",
       "      <td>$4,191.54</td>\n",
       "      <td>0.011929</td>\n",
       "      <td>sale of BTC 0.01192879</td>\n",
       "      <td>2018</td>\n",
       "      <td>12</td>\n",
       "      <td>Bitcoin Buy</td>\n",
       "      <td>50.0</td>\n",
       "      <td>$4,352.58</td>\n",
       "      <td>0.011487</td>\n",
       "      <td>purchase of BTC 0.01148744</td>\n",
       "      <td>11.0</td>\n",
       "      <td>1.0</td>\n",
       "    </tr>\n",
       "    <tr>\n",
       "      <th>1</th>\n",
       "      <td>Bitcoin Sale</td>\n",
       "      <td>50.0</td>\n",
       "      <td>$4,191.54</td>\n",
       "      <td>0.011929</td>\n",
       "      <td>sale of BTC 0.01192879</td>\n",
       "      <td>2018</td>\n",
       "      <td>12</td>\n",
       "      <td>Bitcoin Buy</td>\n",
       "      <td>100.0</td>\n",
       "      <td>$4,516.83</td>\n",
       "      <td>0.022139</td>\n",
       "      <td>purchase of BTC 0.02213942</td>\n",
       "      <td>11.0</td>\n",
       "      <td>1.0</td>\n",
       "    </tr>\n",
       "    <tr>\n",
       "      <th>2</th>\n",
       "      <td>Bitcoin Sale</td>\n",
       "      <td>50.0</td>\n",
       "      <td>$4,191.54</td>\n",
       "      <td>0.011929</td>\n",
       "      <td>sale of BTC 0.01192879</td>\n",
       "      <td>2018</td>\n",
       "      <td>12</td>\n",
       "      <td>Bitcoin Buy</td>\n",
       "      <td>100.0</td>\n",
       "      <td>$4,485.69</td>\n",
       "      <td>0.022293</td>\n",
       "      <td>purchase of BTC 0.02229311</td>\n",
       "      <td>11.0</td>\n",
       "      <td>1.0</td>\n",
       "    </tr>\n",
       "    <tr>\n",
       "      <th>3</th>\n",
       "      <td>Bitcoin Sale</td>\n",
       "      <td>50.0</td>\n",
       "      <td>$4,191.54</td>\n",
       "      <td>0.011929</td>\n",
       "      <td>sale of BTC 0.01192879</td>\n",
       "      <td>2018</td>\n",
       "      <td>12</td>\n",
       "      <td>Bitcoin Buy</td>\n",
       "      <td>100.0</td>\n",
       "      <td>$4,484.27</td>\n",
       "      <td>0.022300</td>\n",
       "      <td>purchase of BTC 0.02230017</td>\n",
       "      <td>11.0</td>\n",
       "      <td>1.0</td>\n",
       "    </tr>\n",
       "    <tr>\n",
       "      <th>4</th>\n",
       "      <td>Bitcoin Sale</td>\n",
       "      <td>50.0</td>\n",
       "      <td>$4,191.54</td>\n",
       "      <td>0.011929</td>\n",
       "      <td>sale of BTC 0.01192879</td>\n",
       "      <td>2018</td>\n",
       "      <td>12</td>\n",
       "      <td>Bitcoin Buy</td>\n",
       "      <td>50.0</td>\n",
       "      <td>$5,666.94</td>\n",
       "      <td>0.008823</td>\n",
       "      <td>purchase of BTC 0.00882310</td>\n",
       "      <td>11.0</td>\n",
       "      <td>1.0</td>\n",
       "    </tr>\n",
       "  </tbody>\n",
       "</table>\n",
       "</div>"
      ],
      "text/plain": [
       "  Transaction Type_x  Net Amount_x Asset Price_x  Asset Amount_x  \\\n",
       "0       Bitcoin Sale          50.0    $4,191.54         0.011929   \n",
       "1       Bitcoin Sale          50.0    $4,191.54         0.011929   \n",
       "2       Bitcoin Sale          50.0    $4,191.54         0.011929   \n",
       "3       Bitcoin Sale          50.0    $4,191.54         0.011929   \n",
       "4       Bitcoin Sale          50.0    $4,191.54         0.011929   \n",
       "\n",
       "                  Notes_x  Year  Month_x Transaction Type_y  Net Amount_y  \\\n",
       "0  sale of BTC 0.01192879  2018       12        Bitcoin Buy          50.0   \n",
       "1  sale of BTC 0.01192879  2018       12        Bitcoin Buy         100.0   \n",
       "2  sale of BTC 0.01192879  2018       12        Bitcoin Buy         100.0   \n",
       "3  sale of BTC 0.01192879  2018       12        Bitcoin Buy         100.0   \n",
       "4  sale of BTC 0.01192879  2018       12        Bitcoin Buy          50.0   \n",
       "\n",
       "  Asset Price_y  Asset Amount_y                     Notes_y  Month_y  \\\n",
       "0    $4,352.58         0.011487  purchase of BTC 0.01148744     11.0   \n",
       "1    $4,516.83         0.022139  purchase of BTC 0.02213942     11.0   \n",
       "2    $4,485.69         0.022293  purchase of BTC 0.02229311     11.0   \n",
       "3    $4,484.27         0.022300  purchase of BTC 0.02230017     11.0   \n",
       "4    $5,666.94         0.008823  purchase of BTC 0.00882310     11.0   \n",
       "\n",
       "   Month_diff  \n",
       "0         1.0  \n",
       "1         1.0  \n",
       "2         1.0  \n",
       "3         1.0  \n",
       "4         1.0  "
      ]
     },
     "execution_count": 291,
     "metadata": {},
     "output_type": "execute_result"
    }
   ],
   "source": [
    "df_new.head()"
   ]
  },
  {
   "cell_type": "code",
   "execution_count": 292,
   "metadata": {},
   "outputs": [
    {
     "data": {
      "text/plain": [
       "7.0"
      ]
     },
     "execution_count": 292,
     "metadata": {},
     "output_type": "execute_result"
    }
   ],
   "source": [
    "df_new['Month_diff'].max()"
   ]
  },
  {
   "cell_type": "code",
   "execution_count": 294,
   "metadata": {},
   "outputs": [
    {
     "name": "stdout",
     "output_type": "stream",
     "text": [
      "<class 'pandas.core.frame.DataFrame'>\n",
      "Int64Index: 881 entries, 0 to 880\n",
      "Data columns (total 14 columns):\n",
      " #   Column              Non-Null Count  Dtype  \n",
      "---  ------              --------------  -----  \n",
      " 0   Transaction Type_x  881 non-null    object \n",
      " 1   Net Amount_x        881 non-null    float64\n",
      " 2   Asset Price_x       881 non-null    object \n",
      " 3   Asset Amount_x      881 non-null    float64\n",
      " 4   Notes_x             881 non-null    object \n",
      " 5   Year                881 non-null    int64  \n",
      " 6   Month_x             881 non-null    int64  \n",
      " 7   Transaction Type_y  812 non-null    object \n",
      " 8   Net Amount_y        812 non-null    float64\n",
      " 9   Asset Price_y       812 non-null    object \n",
      " 10  Asset Amount_y      812 non-null    float64\n",
      " 11  Notes_y             812 non-null    object \n",
      " 12  Month_y             812 non-null    float64\n",
      " 13  Month_diff          812 non-null    float64\n",
      "dtypes: float64(6), int64(2), object(6)\n",
      "memory usage: 103.2+ KB\n"
     ]
    }
   ],
   "source": [
    "df_new.info()"
   ]
  },
  {
   "cell_type": "code",
   "execution_count": 305,
   "metadata": {},
   "outputs": [
    {
     "data": {
      "text/plain": [
       "247"
      ]
     },
     "execution_count": 305,
     "metadata": {},
     "output_type": "execute_result"
    }
   ],
   "source": [
    "len(df_new2)"
   ]
  },
  {
   "cell_type": "code",
   "execution_count": 304,
   "metadata": {},
   "outputs": [
    {
     "data": {
      "text/html": [
       "<div>\n",
       "<style scoped>\n",
       "    .dataframe tbody tr th:only-of-type {\n",
       "        vertical-align: middle;\n",
       "    }\n",
       "\n",
       "    .dataframe tbody tr th {\n",
       "        vertical-align: top;\n",
       "    }\n",
       "\n",
       "    .dataframe thead th {\n",
       "        text-align: right;\n",
       "    }\n",
       "</style>\n",
       "<table border=\"1\" class=\"dataframe\">\n",
       "  <thead>\n",
       "    <tr style=\"text-align: right;\">\n",
       "      <th></th>\n",
       "      <th>Transaction Type_x</th>\n",
       "      <th>Net Amount_x</th>\n",
       "      <th>Asset Price_x</th>\n",
       "      <th>Asset Amount_x</th>\n",
       "      <th>Notes_x</th>\n",
       "      <th>Year</th>\n",
       "      <th>Month</th>\n",
       "      <th>Label_x</th>\n",
       "      <th>Transaction Type_y</th>\n",
       "      <th>Net Amount_y</th>\n",
       "      <th>Asset Price_y</th>\n",
       "      <th>Asset Amount_y</th>\n",
       "      <th>Notes_y</th>\n",
       "      <th>Label_y</th>\n",
       "    </tr>\n",
       "  </thead>\n",
       "  <tbody>\n",
       "    <tr>\n",
       "      <th>0</th>\n",
       "      <td>Bitcoin Sale</td>\n",
       "      <td>50.0</td>\n",
       "      <td>$4,191.54</td>\n",
       "      <td>0.011929</td>\n",
       "      <td>sale of BTC 0.01192879</td>\n",
       "      <td>2018</td>\n",
       "      <td>12</td>\n",
       "      <td>BTC0.01192879</td>\n",
       "      <td>Bitcoin Buy</td>\n",
       "      <td>100.0</td>\n",
       "      <td>$3,769.86</td>\n",
       "      <td>0.026526</td>\n",
       "      <td>purchase of BTC 0.02652618</td>\n",
       "      <td>BTC0.02652618</td>\n",
       "    </tr>\n",
       "    <tr>\n",
       "      <th>1</th>\n",
       "      <td>Bitcoin Sale</td>\n",
       "      <td>50.0</td>\n",
       "      <td>$4,191.54</td>\n",
       "      <td>0.011929</td>\n",
       "      <td>sale of BTC 0.01192879</td>\n",
       "      <td>2018</td>\n",
       "      <td>12</td>\n",
       "      <td>BTC0.01192879</td>\n",
       "      <td>Bitcoin Buy</td>\n",
       "      <td>50.0</td>\n",
       "      <td>$3,287.03</td>\n",
       "      <td>0.015211</td>\n",
       "      <td>purchase of BTC 0.01521130</td>\n",
       "      <td>BTC0.01521130</td>\n",
       "    </tr>\n",
       "    <tr>\n",
       "      <th>2</th>\n",
       "      <td>Bitcoin Sale</td>\n",
       "      <td>50.0</td>\n",
       "      <td>$4,189.60</td>\n",
       "      <td>0.011934</td>\n",
       "      <td>sale of BTC 0.01193431</td>\n",
       "      <td>2018</td>\n",
       "      <td>12</td>\n",
       "      <td>BTC0.01193431</td>\n",
       "      <td>Bitcoin Buy</td>\n",
       "      <td>100.0</td>\n",
       "      <td>$3,769.86</td>\n",
       "      <td>0.026526</td>\n",
       "      <td>purchase of BTC 0.02652618</td>\n",
       "      <td>BTC0.02652618</td>\n",
       "    </tr>\n",
       "    <tr>\n",
       "      <th>3</th>\n",
       "      <td>Bitcoin Sale</td>\n",
       "      <td>50.0</td>\n",
       "      <td>$4,189.60</td>\n",
       "      <td>0.011934</td>\n",
       "      <td>sale of BTC 0.01193431</td>\n",
       "      <td>2018</td>\n",
       "      <td>12</td>\n",
       "      <td>BTC0.01193431</td>\n",
       "      <td>Bitcoin Buy</td>\n",
       "      <td>50.0</td>\n",
       "      <td>$3,287.03</td>\n",
       "      <td>0.015211</td>\n",
       "      <td>purchase of BTC 0.01521130</td>\n",
       "      <td>BTC0.01521130</td>\n",
       "    </tr>\n",
       "    <tr>\n",
       "      <th>4</th>\n",
       "      <td>Bitcoin Sale</td>\n",
       "      <td>50.0</td>\n",
       "      <td>$5,461.49</td>\n",
       "      <td>0.009155</td>\n",
       "      <td>sale of BTC 0.00915501</td>\n",
       "      <td>2019</td>\n",
       "      <td>4</td>\n",
       "      <td>BTC0.00915501</td>\n",
       "      <td>NaN</td>\n",
       "      <td>NaN</td>\n",
       "      <td>NaN</td>\n",
       "      <td>NaN</td>\n",
       "      <td>NaN</td>\n",
       "      <td>NaN</td>\n",
       "    </tr>\n",
       "  </tbody>\n",
       "</table>\n",
       "</div>"
      ],
      "text/plain": [
       "  Transaction Type_x  Net Amount_x Asset Price_x  Asset Amount_x  \\\n",
       "0       Bitcoin Sale          50.0    $4,191.54         0.011929   \n",
       "1       Bitcoin Sale          50.0    $4,191.54         0.011929   \n",
       "2       Bitcoin Sale          50.0    $4,189.60         0.011934   \n",
       "3       Bitcoin Sale          50.0    $4,189.60         0.011934   \n",
       "4       Bitcoin Sale          50.0    $5,461.49         0.009155   \n",
       "\n",
       "                  Notes_x  Year  Month        Label_x Transaction Type_y  \\\n",
       "0  sale of BTC 0.01192879  2018     12  BTC0.01192879        Bitcoin Buy   \n",
       "1  sale of BTC 0.01192879  2018     12  BTC0.01192879        Bitcoin Buy   \n",
       "2  sale of BTC 0.01193431  2018     12  BTC0.01193431        Bitcoin Buy   \n",
       "3  sale of BTC 0.01193431  2018     12  BTC0.01193431        Bitcoin Buy   \n",
       "4  sale of BTC 0.00915501  2019      4  BTC0.00915501                NaN   \n",
       "\n",
       "   Net Amount_y Asset Price_y  Asset Amount_y                     Notes_y  \\\n",
       "0         100.0    $3,769.86         0.026526  purchase of BTC 0.02652618   \n",
       "1          50.0    $3,287.03         0.015211  purchase of BTC 0.01521130   \n",
       "2         100.0    $3,769.86         0.026526  purchase of BTC 0.02652618   \n",
       "3          50.0    $3,287.03         0.015211  purchase of BTC 0.01521130   \n",
       "4           NaN           NaN             NaN                         NaN   \n",
       "\n",
       "         Label_y  \n",
       "0  BTC0.02652618  \n",
       "1  BTC0.01521130  \n",
       "2  BTC0.02652618  \n",
       "3  BTC0.01521130  \n",
       "4            NaN  "
      ]
     },
     "execution_count": 304,
     "metadata": {},
     "output_type": "execute_result"
    }
   ],
   "source": [
    "df_new2.head()"
   ]
  },
  {
   "cell_type": "code",
   "execution_count": 301,
   "metadata": {},
   "outputs": [
    {
     "data": {
      "text/plain": [
       "126"
      ]
     },
     "execution_count": 301,
     "metadata": {},
     "output_type": "execute_result"
    }
   ],
   "source": [
    "len(df_new2)"
   ]
  },
  {
   "cell_type": "code",
   "execution_count": 299,
   "metadata": {},
   "outputs": [
    {
     "data": {
      "text/html": [
       "<div>\n",
       "<style scoped>\n",
       "    .dataframe tbody tr th:only-of-type {\n",
       "        vertical-align: middle;\n",
       "    }\n",
       "\n",
       "    .dataframe tbody tr th {\n",
       "        vertical-align: top;\n",
       "    }\n",
       "\n",
       "    .dataframe thead th {\n",
       "        text-align: right;\n",
       "    }\n",
       "</style>\n",
       "<table border=\"1\" class=\"dataframe\">\n",
       "  <thead>\n",
       "    <tr style=\"text-align: right;\">\n",
       "      <th></th>\n",
       "      <th>Transaction Type</th>\n",
       "      <th>Net Amount</th>\n",
       "      <th>Asset Price</th>\n",
       "      <th>Asset Amount</th>\n",
       "      <th>Notes</th>\n",
       "      <th>Year</th>\n",
       "      <th>Month</th>\n",
       "      <th>Label</th>\n",
       "    </tr>\n",
       "  </thead>\n",
       "  <tbody>\n",
       "    <tr>\n",
       "      <th>133</th>\n",
       "      <td>Bitcoin Buy</td>\n",
       "      <td>50.00</td>\n",
       "      <td>$4,352.58</td>\n",
       "      <td>0.011487</td>\n",
       "      <td>purchase of BTC 0.01148744</td>\n",
       "      <td>2018</td>\n",
       "      <td>11</td>\n",
       "      <td>BTC0.01148744</td>\n",
       "    </tr>\n",
       "    <tr>\n",
       "      <th>135</th>\n",
       "      <td>Bitcoin Buy</td>\n",
       "      <td>100.00</td>\n",
       "      <td>$4,516.83</td>\n",
       "      <td>0.022139</td>\n",
       "      <td>purchase of BTC 0.02213942</td>\n",
       "      <td>2018</td>\n",
       "      <td>11</td>\n",
       "      <td>BTC0.02213942</td>\n",
       "    </tr>\n",
       "    <tr>\n",
       "      <th>136</th>\n",
       "      <td>Bitcoin Buy</td>\n",
       "      <td>100.00</td>\n",
       "      <td>$4,485.69</td>\n",
       "      <td>0.022293</td>\n",
       "      <td>purchase of BTC 0.02229311</td>\n",
       "      <td>2018</td>\n",
       "      <td>11</td>\n",
       "      <td>BTC0.02229311</td>\n",
       "    </tr>\n",
       "    <tr>\n",
       "      <th>137</th>\n",
       "      <td>Bitcoin Buy</td>\n",
       "      <td>100.00</td>\n",
       "      <td>$4,484.27</td>\n",
       "      <td>0.022300</td>\n",
       "      <td>purchase of BTC 0.02230017</td>\n",
       "      <td>2018</td>\n",
       "      <td>11</td>\n",
       "      <td>BTC0.02230017</td>\n",
       "    </tr>\n",
       "    <tr>\n",
       "      <th>138</th>\n",
       "      <td>Bitcoin Buy</td>\n",
       "      <td>50.00</td>\n",
       "      <td>$5,666.94</td>\n",
       "      <td>0.008823</td>\n",
       "      <td>purchase of BTC 0.00882310</td>\n",
       "      <td>2018</td>\n",
       "      <td>11</td>\n",
       "      <td>BTC0.00882310</td>\n",
       "    </tr>\n",
       "    <tr>\n",
       "      <th>...</th>\n",
       "      <td>...</td>\n",
       "      <td>...</td>\n",
       "      <td>...</td>\n",
       "      <td>...</td>\n",
       "      <td>...</td>\n",
       "      <td>...</td>\n",
       "      <td>...</td>\n",
       "      <td>...</td>\n",
       "    </tr>\n",
       "    <tr>\n",
       "      <th>121</th>\n",
       "      <td>Bitcoin Buy</td>\n",
       "      <td>150.00</td>\n",
       "      <td>$3,661.51</td>\n",
       "      <td>0.040967</td>\n",
       "      <td>purchase of BTC 0.04096670</td>\n",
       "      <td>2019</td>\n",
       "      <td>1</td>\n",
       "      <td>BTC0.04096670</td>\n",
       "    </tr>\n",
       "    <tr>\n",
       "      <th>122</th>\n",
       "      <td>Bitcoin Buy</td>\n",
       "      <td>100.00</td>\n",
       "      <td>$3,661.35</td>\n",
       "      <td>0.027312</td>\n",
       "      <td>purchase of BTC 0.02731233</td>\n",
       "      <td>2019</td>\n",
       "      <td>1</td>\n",
       "      <td>BTC0.02731233</td>\n",
       "    </tr>\n",
       "    <tr>\n",
       "      <th>123</th>\n",
       "      <td>Bitcoin Buy</td>\n",
       "      <td>10.00</td>\n",
       "      <td>$4,093.41</td>\n",
       "      <td>0.002443</td>\n",
       "      <td>purchase of BTC 0.00244295</td>\n",
       "      <td>2019</td>\n",
       "      <td>1</td>\n",
       "      <td>BTC0.00244295</td>\n",
       "    </tr>\n",
       "    <tr>\n",
       "      <th>85</th>\n",
       "      <td>Bitcoin Buy</td>\n",
       "      <td>100.00</td>\n",
       "      <td>$11,922.01</td>\n",
       "      <td>0.008388</td>\n",
       "      <td>purchase of BTC 0.00838785</td>\n",
       "      <td>2019</td>\n",
       "      <td>6</td>\n",
       "      <td>BTC0.00838785</td>\n",
       "    </tr>\n",
       "    <tr>\n",
       "      <th>69</th>\n",
       "      <td>Bitcoin Buy</td>\n",
       "      <td>1.01</td>\n",
       "      <td>$7,200.46</td>\n",
       "      <td>0.000139</td>\n",
       "      <td>purchase of BTC 0.00013888</td>\n",
       "      <td>2019</td>\n",
       "      <td>11</td>\n",
       "      <td>BTC0.00013888</td>\n",
       "    </tr>\n",
       "  </tbody>\n",
       "</table>\n",
       "<p>61 rows × 8 columns</p>\n",
       "</div>"
      ],
      "text/plain": [
       "    Transaction Type  Net Amount  Asset Price  Asset Amount  \\\n",
       "133      Bitcoin Buy       50.00   $4,352.58       0.011487   \n",
       "135      Bitcoin Buy      100.00   $4,516.83       0.022139   \n",
       "136      Bitcoin Buy      100.00   $4,485.69       0.022293   \n",
       "137      Bitcoin Buy      100.00   $4,484.27       0.022300   \n",
       "138      Bitcoin Buy       50.00   $5,666.94       0.008823   \n",
       "..               ...         ...          ...           ...   \n",
       "121      Bitcoin Buy      150.00   $3,661.51       0.040967   \n",
       "122      Bitcoin Buy      100.00   $3,661.35       0.027312   \n",
       "123      Bitcoin Buy       10.00   $4,093.41       0.002443   \n",
       "85       Bitcoin Buy      100.00  $11,922.01       0.008388   \n",
       "69       Bitcoin Buy        1.01   $7,200.46       0.000139   \n",
       "\n",
       "                          Notes  Year  Month          Label  \n",
       "133  purchase of BTC 0.01148744  2018     11  BTC0.01148744  \n",
       "135  purchase of BTC 0.02213942  2018     11  BTC0.02213942  \n",
       "136  purchase of BTC 0.02229311  2018     11  BTC0.02229311  \n",
       "137  purchase of BTC 0.02230017  2018     11  BTC0.02230017  \n",
       "138  purchase of BTC 0.00882310  2018     11  BTC0.00882310  \n",
       "..                          ...   ...    ...            ...  \n",
       "121  purchase of BTC 0.04096670  2019      1  BTC0.04096670  \n",
       "122  purchase of BTC 0.02731233  2019      1  BTC0.02731233  \n",
       "123  purchase of BTC 0.00244295  2019      1  BTC0.00244295  \n",
       "85   purchase of BTC 0.00838785  2019      6  BTC0.00838785  \n",
       "69   purchase of BTC 0.00013888  2019     11  BTC0.00013888  \n",
       "\n",
       "[61 rows x 8 columns]"
      ]
     },
     "execution_count": 299,
     "metadata": {},
     "output_type": "execute_result"
    }
   ],
   "source": [
    "df_Buy"
   ]
  },
  {
   "cell_type": "code",
   "execution_count": 308,
   "metadata": {},
   "outputs": [],
   "source": [
    "df_X = df_Sale.join(df_Buy2 , how='outer')"
   ]
  },
  {
   "cell_type": "code",
   "execution_count": 309,
   "metadata": {},
   "outputs": [
    {
     "data": {
      "text/html": [
       "<div>\n",
       "<style scoped>\n",
       "    .dataframe tbody tr th:only-of-type {\n",
       "        vertical-align: middle;\n",
       "    }\n",
       "\n",
       "    .dataframe tbody tr th {\n",
       "        vertical-align: top;\n",
       "    }\n",
       "\n",
       "    .dataframe thead th {\n",
       "        text-align: right;\n",
       "    }\n",
       "</style>\n",
       "<table border=\"1\" class=\"dataframe\">\n",
       "  <thead>\n",
       "    <tr style=\"text-align: right;\">\n",
       "      <th></th>\n",
       "      <th>Transaction Type</th>\n",
       "      <th>Net Amount</th>\n",
       "      <th>Asset Price</th>\n",
       "      <th>Asset Amount</th>\n",
       "      <th>Notes</th>\n",
       "      <th>Year</th>\n",
       "      <th>Month</th>\n",
       "      <th>Label</th>\n",
       "      <th>Transaction Type 2</th>\n",
       "      <th>Net Amount 2</th>\n",
       "      <th>Asset Price 2</th>\n",
       "      <th>Asset Amount 2</th>\n",
       "      <th>Notes 2</th>\n",
       "      <th>Year 2</th>\n",
       "      <th>Month 2</th>\n",
       "      <th>Label 2</th>\n",
       "    </tr>\n",
       "  </thead>\n",
       "  <tbody>\n",
       "    <tr>\n",
       "      <th>0</th>\n",
       "      <td>Bitcoin Sale</td>\n",
       "      <td>58.40</td>\n",
       "      <td>$23,151.84</td>\n",
       "      <td>0.002581</td>\n",
       "      <td>sale of BTC 0.00258122</td>\n",
       "      <td>2020.0</td>\n",
       "      <td>12.0</td>\n",
       "      <td>BTC0.00258122</td>\n",
       "      <td>NaN</td>\n",
       "      <td>NaN</td>\n",
       "      <td>NaN</td>\n",
       "      <td>NaN</td>\n",
       "      <td>NaN</td>\n",
       "      <td>NaN</td>\n",
       "      <td>NaN</td>\n",
       "      <td>NaN</td>\n",
       "    </tr>\n",
       "    <tr>\n",
       "      <th>1</th>\n",
       "      <td>Bitcoin Sale</td>\n",
       "      <td>48.86</td>\n",
       "      <td>$21,768.38</td>\n",
       "      <td>0.002297</td>\n",
       "      <td>sale of BTC 0.00229691</td>\n",
       "      <td>2020.0</td>\n",
       "      <td>12.0</td>\n",
       "      <td>BTC0.00229691</td>\n",
       "      <td>NaN</td>\n",
       "      <td>NaN</td>\n",
       "      <td>NaN</td>\n",
       "      <td>NaN</td>\n",
       "      <td>NaN</td>\n",
       "      <td>NaN</td>\n",
       "      <td>NaN</td>\n",
       "      <td>NaN</td>\n",
       "    </tr>\n",
       "    <tr>\n",
       "      <th>2</th>\n",
       "      <td>Bitcoin Sale</td>\n",
       "      <td>48.87</td>\n",
       "      <td>$20,839.24</td>\n",
       "      <td>0.002399</td>\n",
       "      <td>sale of BTC 0.00239932</td>\n",
       "      <td>2020.0</td>\n",
       "      <td>12.0</td>\n",
       "      <td>BTC0.00239932</td>\n",
       "      <td>NaN</td>\n",
       "      <td>NaN</td>\n",
       "      <td>NaN</td>\n",
       "      <td>NaN</td>\n",
       "      <td>NaN</td>\n",
       "      <td>NaN</td>\n",
       "      <td>NaN</td>\n",
       "      <td>NaN</td>\n",
       "    </tr>\n",
       "    <tr>\n",
       "      <th>3</th>\n",
       "      <td>Bitcoin Sale</td>\n",
       "      <td>24.44</td>\n",
       "      <td>$20,840.11</td>\n",
       "      <td>0.001200</td>\n",
       "      <td>sale of BTC 0.00119961</td>\n",
       "      <td>2020.0</td>\n",
       "      <td>12.0</td>\n",
       "      <td>BTC0.00119961</td>\n",
       "      <td>NaN</td>\n",
       "      <td>NaN</td>\n",
       "      <td>NaN</td>\n",
       "      <td>NaN</td>\n",
       "      <td>NaN</td>\n",
       "      <td>NaN</td>\n",
       "      <td>NaN</td>\n",
       "      <td>NaN</td>\n",
       "    </tr>\n",
       "    <tr>\n",
       "      <th>4</th>\n",
       "      <td>Bitcoin Sale</td>\n",
       "      <td>24.44</td>\n",
       "      <td>$19,853.09</td>\n",
       "      <td>0.001259</td>\n",
       "      <td>sale of BTC 0.00125925</td>\n",
       "      <td>2020.0</td>\n",
       "      <td>12.0</td>\n",
       "      <td>BTC0.00125925</td>\n",
       "      <td>NaN</td>\n",
       "      <td>NaN</td>\n",
       "      <td>NaN</td>\n",
       "      <td>NaN</td>\n",
       "      <td>NaN</td>\n",
       "      <td>NaN</td>\n",
       "      <td>NaN</td>\n",
       "      <td>NaN</td>\n",
       "    </tr>\n",
       "    <tr>\n",
       "      <th>...</th>\n",
       "      <td>...</td>\n",
       "      <td>...</td>\n",
       "      <td>...</td>\n",
       "      <td>...</td>\n",
       "      <td>...</td>\n",
       "      <td>...</td>\n",
       "      <td>...</td>\n",
       "      <td>...</td>\n",
       "      <td>...</td>\n",
       "      <td>...</td>\n",
       "      <td>...</td>\n",
       "      <td>...</td>\n",
       "      <td>...</td>\n",
       "      <td>...</td>\n",
       "      <td>...</td>\n",
       "      <td>...</td>\n",
       "    </tr>\n",
       "    <tr>\n",
       "      <th>159</th>\n",
       "      <td>NaN</td>\n",
       "      <td>NaN</td>\n",
       "      <td>NaN</td>\n",
       "      <td>NaN</td>\n",
       "      <td>NaN</td>\n",
       "      <td>NaN</td>\n",
       "      <td>NaN</td>\n",
       "      <td>NaN</td>\n",
       "      <td>Bitcoin Buy</td>\n",
       "      <td>20.0</td>\n",
       "      <td>$6,474.78</td>\n",
       "      <td>0.003089</td>\n",
       "      <td>purchase of BTC 0.00308891</td>\n",
       "      <td>2018.0</td>\n",
       "      <td>10.0</td>\n",
       "      <td>BTC0.00308891</td>\n",
       "    </tr>\n",
       "    <tr>\n",
       "      <th>160</th>\n",
       "      <td>NaN</td>\n",
       "      <td>NaN</td>\n",
       "      <td>NaN</td>\n",
       "      <td>NaN</td>\n",
       "      <td>NaN</td>\n",
       "      <td>NaN</td>\n",
       "      <td>NaN</td>\n",
       "      <td>NaN</td>\n",
       "      <td>Bitcoin Buy</td>\n",
       "      <td>15.0</td>\n",
       "      <td>$6,475.20</td>\n",
       "      <td>0.002317</td>\n",
       "      <td>purchase of BTC 0.00231653</td>\n",
       "      <td>2018.0</td>\n",
       "      <td>10.0</td>\n",
       "      <td>BTC0.00231653</td>\n",
       "    </tr>\n",
       "    <tr>\n",
       "      <th>161</th>\n",
       "      <td>NaN</td>\n",
       "      <td>NaN</td>\n",
       "      <td>NaN</td>\n",
       "      <td>NaN</td>\n",
       "      <td>NaN</td>\n",
       "      <td>NaN</td>\n",
       "      <td>NaN</td>\n",
       "      <td>NaN</td>\n",
       "      <td>Bitcoin Buy</td>\n",
       "      <td>1.0</td>\n",
       "      <td>$6,492.66</td>\n",
       "      <td>0.000154</td>\n",
       "      <td>purchase of BTC 0.00015402</td>\n",
       "      <td>2018.0</td>\n",
       "      <td>10.0</td>\n",
       "      <td>BTC0.00015402</td>\n",
       "    </tr>\n",
       "    <tr>\n",
       "      <th>162</th>\n",
       "      <td>NaN</td>\n",
       "      <td>NaN</td>\n",
       "      <td>NaN</td>\n",
       "      <td>NaN</td>\n",
       "      <td>NaN</td>\n",
       "      <td>NaN</td>\n",
       "      <td>NaN</td>\n",
       "      <td>NaN</td>\n",
       "      <td>Bitcoin Buy</td>\n",
       "      <td>5.0</td>\n",
       "      <td>$6,493.08</td>\n",
       "      <td>0.000770</td>\n",
       "      <td>purchase of BTC 0.00077005</td>\n",
       "      <td>2018.0</td>\n",
       "      <td>10.0</td>\n",
       "      <td>BTC0.00077005</td>\n",
       "    </tr>\n",
       "    <tr>\n",
       "      <th>163</th>\n",
       "      <td>NaN</td>\n",
       "      <td>NaN</td>\n",
       "      <td>NaN</td>\n",
       "      <td>NaN</td>\n",
       "      <td>NaN</td>\n",
       "      <td>NaN</td>\n",
       "      <td>NaN</td>\n",
       "      <td>NaN</td>\n",
       "      <td>Bitcoin Buy</td>\n",
       "      <td>100.0</td>\n",
       "      <td>$6,493.08</td>\n",
       "      <td>0.015401</td>\n",
       "      <td>purchase of BTC 0.01540101</td>\n",
       "      <td>2018.0</td>\n",
       "      <td>10.0</td>\n",
       "      <td>BTC0.01540101</td>\n",
       "    </tr>\n",
       "  </tbody>\n",
       "</table>\n",
       "<p>164 rows × 16 columns</p>\n",
       "</div>"
      ],
      "text/plain": [
       "    Transaction Type  Net Amount  Asset Price  Asset Amount  \\\n",
       "0       Bitcoin Sale       58.40  $23,151.84       0.002581   \n",
       "1       Bitcoin Sale       48.86  $21,768.38       0.002297   \n",
       "2       Bitcoin Sale       48.87  $20,839.24       0.002399   \n",
       "3       Bitcoin Sale       24.44  $20,840.11       0.001200   \n",
       "4       Bitcoin Sale       24.44  $19,853.09       0.001259   \n",
       "..               ...         ...          ...           ...   \n",
       "159              NaN         NaN          NaN           NaN   \n",
       "160              NaN         NaN          NaN           NaN   \n",
       "161              NaN         NaN          NaN           NaN   \n",
       "162              NaN         NaN          NaN           NaN   \n",
       "163              NaN         NaN          NaN           NaN   \n",
       "\n",
       "                      Notes    Year  Month          Label Transaction Type 2  \\\n",
       "0    sale of BTC 0.00258122  2020.0   12.0  BTC0.00258122                NaN   \n",
       "1    sale of BTC 0.00229691  2020.0   12.0  BTC0.00229691                NaN   \n",
       "2    sale of BTC 0.00239932  2020.0   12.0  BTC0.00239932                NaN   \n",
       "3    sale of BTC 0.00119961  2020.0   12.0  BTC0.00119961                NaN   \n",
       "4    sale of BTC 0.00125925  2020.0   12.0  BTC0.00125925                NaN   \n",
       "..                      ...     ...    ...            ...                ...   \n",
       "159                     NaN     NaN    NaN            NaN        Bitcoin Buy   \n",
       "160                     NaN     NaN    NaN            NaN        Bitcoin Buy   \n",
       "161                     NaN     NaN    NaN            NaN        Bitcoin Buy   \n",
       "162                     NaN     NaN    NaN            NaN        Bitcoin Buy   \n",
       "163                     NaN     NaN    NaN            NaN        Bitcoin Buy   \n",
       "\n",
       "     Net Amount 2 Asset Price 2  Asset Amount 2                     Notes 2  \\\n",
       "0             NaN           NaN             NaN                         NaN   \n",
       "1             NaN           NaN             NaN                         NaN   \n",
       "2             NaN           NaN             NaN                         NaN   \n",
       "3             NaN           NaN             NaN                         NaN   \n",
       "4             NaN           NaN             NaN                         NaN   \n",
       "..            ...           ...             ...                         ...   \n",
       "159          20.0    $6,474.78         0.003089  purchase of BTC 0.00308891   \n",
       "160          15.0    $6,475.20         0.002317  purchase of BTC 0.00231653   \n",
       "161           1.0    $6,492.66         0.000154  purchase of BTC 0.00015402   \n",
       "162           5.0    $6,493.08         0.000770  purchase of BTC 0.00077005   \n",
       "163         100.0    $6,493.08         0.015401  purchase of BTC 0.01540101   \n",
       "\n",
       "     Year 2  Month 2        Label 2  \n",
       "0       NaN      NaN            NaN  \n",
       "1       NaN      NaN            NaN  \n",
       "2       NaN      NaN            NaN  \n",
       "3       NaN      NaN            NaN  \n",
       "4       NaN      NaN            NaN  \n",
       "..      ...      ...            ...  \n",
       "159  2018.0     10.0  BTC0.00308891  \n",
       "160  2018.0     10.0  BTC0.00231653  \n",
       "161  2018.0     10.0  BTC0.00015402  \n",
       "162  2018.0     10.0  BTC0.00077005  \n",
       "163  2018.0     10.0  BTC0.01540101  \n",
       "\n",
       "[164 rows x 16 columns]"
      ]
     },
     "execution_count": 309,
     "metadata": {},
     "output_type": "execute_result"
    }
   ],
   "source": [
    "df_X"
   ]
  },
  {
   "cell_type": "code",
   "execution_count": 310,
   "metadata": {},
   "outputs": [],
   "source": [
    "df_Sale.to_csv('BTC_Sale.csv')"
   ]
  },
  {
   "cell_type": "code",
   "execution_count": 311,
   "metadata": {},
   "outputs": [],
   "source": [
    "df_Buy2.to_csv('BTX_Buy.csv')"
   ]
  },
  {
   "cell_type": "code",
   "execution_count": 314,
   "metadata": {},
   "outputs": [
    {
     "data": {
      "text/html": [
       "<div>\n",
       "<style scoped>\n",
       "    .dataframe tbody tr th:only-of-type {\n",
       "        vertical-align: middle;\n",
       "    }\n",
       "\n",
       "    .dataframe tbody tr th {\n",
       "        vertical-align: top;\n",
       "    }\n",
       "\n",
       "    .dataframe thead th {\n",
       "        text-align: right;\n",
       "    }\n",
       "</style>\n",
       "<table border=\"1\" class=\"dataframe\">\n",
       "  <thead>\n",
       "    <tr style=\"text-align: right;\">\n",
       "      <th></th>\n",
       "      <th>Transaction Type</th>\n",
       "      <th>Net Amount</th>\n",
       "      <th>Asset Price</th>\n",
       "      <th>Asset Amount</th>\n",
       "      <th>Notes</th>\n",
       "      <th>Year</th>\n",
       "      <th>Month</th>\n",
       "      <th>Label</th>\n",
       "    </tr>\n",
       "  </thead>\n",
       "  <tbody>\n",
       "    <tr>\n",
       "      <th>0</th>\n",
       "      <td>Bitcoin Sale</td>\n",
       "      <td>58.40</td>\n",
       "      <td>$23,151.84</td>\n",
       "      <td>0.002581</td>\n",
       "      <td>sale of BTC 0.00258122</td>\n",
       "      <td>2020</td>\n",
       "      <td>12</td>\n",
       "      <td>BTC0.00258122</td>\n",
       "    </tr>\n",
       "    <tr>\n",
       "      <th>1</th>\n",
       "      <td>Bitcoin Sale</td>\n",
       "      <td>48.86</td>\n",
       "      <td>$21,768.38</td>\n",
       "      <td>0.002297</td>\n",
       "      <td>sale of BTC 0.00229691</td>\n",
       "      <td>2020</td>\n",
       "      <td>12</td>\n",
       "      <td>BTC0.00229691</td>\n",
       "    </tr>\n",
       "    <tr>\n",
       "      <th>2</th>\n",
       "      <td>Bitcoin Sale</td>\n",
       "      <td>48.87</td>\n",
       "      <td>$20,839.24</td>\n",
       "      <td>0.002399</td>\n",
       "      <td>sale of BTC 0.00239932</td>\n",
       "      <td>2020</td>\n",
       "      <td>12</td>\n",
       "      <td>BTC0.00239932</td>\n",
       "    </tr>\n",
       "    <tr>\n",
       "      <th>3</th>\n",
       "      <td>Bitcoin Sale</td>\n",
       "      <td>24.44</td>\n",
       "      <td>$20,840.11</td>\n",
       "      <td>0.001200</td>\n",
       "      <td>sale of BTC 0.00119961</td>\n",
       "      <td>2020</td>\n",
       "      <td>12</td>\n",
       "      <td>BTC0.00119961</td>\n",
       "    </tr>\n",
       "    <tr>\n",
       "      <th>4</th>\n",
       "      <td>Bitcoin Sale</td>\n",
       "      <td>24.44</td>\n",
       "      <td>$19,853.09</td>\n",
       "      <td>0.001259</td>\n",
       "      <td>sale of BTC 0.00125925</td>\n",
       "      <td>2020</td>\n",
       "      <td>12</td>\n",
       "      <td>BTC0.00125925</td>\n",
       "    </tr>\n",
       "    <tr>\n",
       "      <th>...</th>\n",
       "      <td>...</td>\n",
       "      <td>...</td>\n",
       "      <td>...</td>\n",
       "      <td>...</td>\n",
       "      <td>...</td>\n",
       "      <td>...</td>\n",
       "      <td>...</td>\n",
       "      <td>...</td>\n",
       "    </tr>\n",
       "    <tr>\n",
       "      <th>159</th>\n",
       "      <td>Bitcoin Buy</td>\n",
       "      <td>20.00</td>\n",
       "      <td>$6,474.78</td>\n",
       "      <td>0.003089</td>\n",
       "      <td>purchase of BTC 0.00308891</td>\n",
       "      <td>2018</td>\n",
       "      <td>10</td>\n",
       "      <td>BTC0.00308891</td>\n",
       "    </tr>\n",
       "    <tr>\n",
       "      <th>160</th>\n",
       "      <td>Bitcoin Buy</td>\n",
       "      <td>15.00</td>\n",
       "      <td>$6,475.20</td>\n",
       "      <td>0.002317</td>\n",
       "      <td>purchase of BTC 0.00231653</td>\n",
       "      <td>2018</td>\n",
       "      <td>10</td>\n",
       "      <td>BTC0.00231653</td>\n",
       "    </tr>\n",
       "    <tr>\n",
       "      <th>161</th>\n",
       "      <td>Bitcoin Buy</td>\n",
       "      <td>1.00</td>\n",
       "      <td>$6,492.66</td>\n",
       "      <td>0.000154</td>\n",
       "      <td>purchase of BTC 0.00015402</td>\n",
       "      <td>2018</td>\n",
       "      <td>10</td>\n",
       "      <td>BTC0.00015402</td>\n",
       "    </tr>\n",
       "    <tr>\n",
       "      <th>162</th>\n",
       "      <td>Bitcoin Buy</td>\n",
       "      <td>5.00</td>\n",
       "      <td>$6,493.08</td>\n",
       "      <td>0.000770</td>\n",
       "      <td>purchase of BTC 0.00077005</td>\n",
       "      <td>2018</td>\n",
       "      <td>10</td>\n",
       "      <td>BTC0.00077005</td>\n",
       "    </tr>\n",
       "    <tr>\n",
       "      <th>163</th>\n",
       "      <td>Bitcoin Buy</td>\n",
       "      <td>100.00</td>\n",
       "      <td>$6,493.08</td>\n",
       "      <td>0.015401</td>\n",
       "      <td>purchase of BTC 0.01540101</td>\n",
       "      <td>2018</td>\n",
       "      <td>10</td>\n",
       "      <td>BTC0.01540101</td>\n",
       "    </tr>\n",
       "  </tbody>\n",
       "</table>\n",
       "<p>164 rows × 8 columns</p>\n",
       "</div>"
      ],
      "text/plain": [
       "    Transaction Type  Net Amount  Asset Price  Asset Amount  \\\n",
       "0       Bitcoin Sale       58.40  $23,151.84       0.002581   \n",
       "1       Bitcoin Sale       48.86  $21,768.38       0.002297   \n",
       "2       Bitcoin Sale       48.87  $20,839.24       0.002399   \n",
       "3       Bitcoin Sale       24.44  $20,840.11       0.001200   \n",
       "4       Bitcoin Sale       24.44  $19,853.09       0.001259   \n",
       "..               ...         ...          ...           ...   \n",
       "159      Bitcoin Buy       20.00   $6,474.78       0.003089   \n",
       "160      Bitcoin Buy       15.00   $6,475.20       0.002317   \n",
       "161      Bitcoin Buy        1.00   $6,492.66       0.000154   \n",
       "162      Bitcoin Buy        5.00   $6,493.08       0.000770   \n",
       "163      Bitcoin Buy      100.00   $6,493.08       0.015401   \n",
       "\n",
       "                          Notes  Year  Month          Label  \n",
       "0        sale of BTC 0.00258122  2020     12  BTC0.00258122  \n",
       "1        sale of BTC 0.00229691  2020     12  BTC0.00229691  \n",
       "2        sale of BTC 0.00239932  2020     12  BTC0.00239932  \n",
       "3        sale of BTC 0.00119961  2020     12  BTC0.00119961  \n",
       "4        sale of BTC 0.00125925  2020     12  BTC0.00125925  \n",
       "..                          ...   ...    ...            ...  \n",
       "159  purchase of BTC 0.00308891  2018     10  BTC0.00308891  \n",
       "160  purchase of BTC 0.00231653  2018     10  BTC0.00231653  \n",
       "161  purchase of BTC 0.00015402  2018     10  BTC0.00015402  \n",
       "162  purchase of BTC 0.00077005  2018     10  BTC0.00077005  \n",
       "163  purchase of BTC 0.01540101  2018     10  BTC0.01540101  \n",
       "\n",
       "[164 rows x 8 columns]"
      ]
     },
     "execution_count": 314,
     "metadata": {},
     "output_type": "execute_result"
    }
   ],
   "source": [
    "df"
   ]
  },
  {
   "cell_type": "code",
   "execution_count": 315,
   "metadata": {},
   "outputs": [
    {
     "data": {
      "text/plain": [
       "4445.150000000001"
      ]
     },
     "execution_count": 315,
     "metadata": {},
     "output_type": "execute_result"
    }
   ],
   "source": [
    "df[(df['Year']==2020) & (df['Transaction Type']=='Bitcoin Sale')]['Net Amount'].sum()"
   ]
  },
  {
   "cell_type": "code",
   "execution_count": 316,
   "metadata": {},
   "outputs": [
    {
     "data": {
      "text/plain": [
       "0.0"
      ]
     },
     "execution_count": 316,
     "metadata": {},
     "output_type": "execute_result"
    }
   ],
   "source": [
    "df[(df['Year']==2020) & (df['Transaction Type']=='Bitcoin Buy')]['Net Amount'].sum()"
   ]
  },
  {
   "cell_type": "markdown",
   "metadata": {},
   "source": [
    "# NEW TECHNIQUE"
   ]
  },
  {
   "cell_type": "code",
   "execution_count": 317,
   "metadata": {},
   "outputs": [],
   "source": [
    "dt = pd.read_csv('cash_app_report_btc (1).csv')"
   ]
  },
  {
   "cell_type": "code",
   "execution_count": 318,
   "metadata": {},
   "outputs": [
    {
     "data": {
      "text/html": [
       "<div>\n",
       "<style scoped>\n",
       "    .dataframe tbody tr th:only-of-type {\n",
       "        vertical-align: middle;\n",
       "    }\n",
       "\n",
       "    .dataframe tbody tr th {\n",
       "        vertical-align: top;\n",
       "    }\n",
       "\n",
       "    .dataframe thead th {\n",
       "        text-align: right;\n",
       "    }\n",
       "</style>\n",
       "<table border=\"1\" class=\"dataframe\">\n",
       "  <thead>\n",
       "    <tr style=\"text-align: right;\">\n",
       "      <th></th>\n",
       "      <th>Transaction ID</th>\n",
       "      <th>Date</th>\n",
       "      <th>Transaction Type</th>\n",
       "      <th>Currency</th>\n",
       "      <th>Amount</th>\n",
       "      <th>Fee</th>\n",
       "      <th>Net Amount</th>\n",
       "      <th>Asset Type</th>\n",
       "      <th>Asset Price</th>\n",
       "      <th>Asset Amount</th>\n",
       "      <th>Status</th>\n",
       "      <th>Notes</th>\n",
       "      <th>Name of sender/receiver</th>\n",
       "      <th>Account</th>\n",
       "    </tr>\n",
       "  </thead>\n",
       "  <tbody>\n",
       "    <tr>\n",
       "      <th>0</th>\n",
       "      <td>d8xpq8</td>\n",
       "      <td>2020-12-17 03:29:08 CST</td>\n",
       "      <td>Bitcoin Sale</td>\n",
       "      <td>USD</td>\n",
       "      <td>$59.76</td>\n",
       "      <td>($1.36)</td>\n",
       "      <td>$58.40</td>\n",
       "      <td>BTC</td>\n",
       "      <td>$23,151.84</td>\n",
       "      <td>0.002581</td>\n",
       "      <td>COMPLETED</td>\n",
       "      <td>sale of BTC 0.00258122</td>\n",
       "      <td>NaN</td>\n",
       "      <td>Your Cash</td>\n",
       "    </tr>\n",
       "    <tr>\n",
       "      <th>1</th>\n",
       "      <td>gz5hws</td>\n",
       "      <td>2020-12-16 19:17:52 CST</td>\n",
       "      <td>Bitcoin Sale</td>\n",
       "      <td>USD</td>\n",
       "      <td>$50</td>\n",
       "      <td>($1.14)</td>\n",
       "      <td>$48.86</td>\n",
       "      <td>BTC</td>\n",
       "      <td>$21,768.38</td>\n",
       "      <td>0.002297</td>\n",
       "      <td>COMPLETED</td>\n",
       "      <td>sale of BTC 0.00229691</td>\n",
       "      <td>NaN</td>\n",
       "      <td>Your Cash</td>\n",
       "    </tr>\n",
       "    <tr>\n",
       "      <th>2</th>\n",
       "      <td>b9dhor</td>\n",
       "      <td>2020-12-16 15:17:11 CST</td>\n",
       "      <td>Bitcoin Sale</td>\n",
       "      <td>USD</td>\n",
       "      <td>$50</td>\n",
       "      <td>($1.13)</td>\n",
       "      <td>$48.87</td>\n",
       "      <td>BTC</td>\n",
       "      <td>$20,839.24</td>\n",
       "      <td>0.002399</td>\n",
       "      <td>COMPLETED</td>\n",
       "      <td>sale of BTC 0.00239932</td>\n",
       "      <td>NaN</td>\n",
       "      <td>Your Cash</td>\n",
       "    </tr>\n",
       "    <tr>\n",
       "      <th>3</th>\n",
       "      <td>x71p57</td>\n",
       "      <td>2020-12-16 15:16:47 CST</td>\n",
       "      <td>Bitcoin Sale</td>\n",
       "      <td>USD</td>\n",
       "      <td>$25</td>\n",
       "      <td>($0.56)</td>\n",
       "      <td>$24.44</td>\n",
       "      <td>BTC</td>\n",
       "      <td>$20,840.11</td>\n",
       "      <td>0.001200</td>\n",
       "      <td>COMPLETED</td>\n",
       "      <td>sale of BTC 0.00119961</td>\n",
       "      <td>NaN</td>\n",
       "      <td>Your Cash</td>\n",
       "    </tr>\n",
       "    <tr>\n",
       "      <th>4</th>\n",
       "      <td>i2gvwc</td>\n",
       "      <td>2020-12-16 07:35:07 CST</td>\n",
       "      <td>Bitcoin Sale</td>\n",
       "      <td>USD</td>\n",
       "      <td>$25</td>\n",
       "      <td>($0.56)</td>\n",
       "      <td>$24.44</td>\n",
       "      <td>BTC</td>\n",
       "      <td>$19,853.09</td>\n",
       "      <td>0.001259</td>\n",
       "      <td>COMPLETED</td>\n",
       "      <td>sale of BTC 0.00125925</td>\n",
       "      <td>NaN</td>\n",
       "      <td>Your Cash</td>\n",
       "    </tr>\n",
       "  </tbody>\n",
       "</table>\n",
       "</div>"
      ],
      "text/plain": [
       "  Transaction ID                     Date Transaction Type Currency   Amount  \\\n",
       "0         d8xpq8  2020-12-17 03:29:08 CST     Bitcoin Sale      USD  $59.76    \n",
       "1         gz5hws  2020-12-16 19:17:52 CST     Bitcoin Sale      USD     $50    \n",
       "2         b9dhor  2020-12-16 15:17:11 CST     Bitcoin Sale      USD     $50    \n",
       "3         x71p57  2020-12-16 15:16:47 CST     Bitcoin Sale      USD     $25    \n",
       "4         i2gvwc  2020-12-16 07:35:07 CST     Bitcoin Sale      USD     $25    \n",
       "\n",
       "       Fee Net Amount Asset Type  Asset Price  Asset Amount     Status  \\\n",
       "0  ($1.36)    $58.40         BTC  $23,151.84       0.002581  COMPLETED   \n",
       "1  ($1.14)    $48.86         BTC  $21,768.38       0.002297  COMPLETED   \n",
       "2  ($1.13)    $48.87         BTC  $20,839.24       0.002399  COMPLETED   \n",
       "3  ($0.56)    $24.44         BTC  $20,840.11       0.001200  COMPLETED   \n",
       "4  ($0.56)    $24.44         BTC  $19,853.09       0.001259  COMPLETED   \n",
       "\n",
       "                    Notes  Name of sender/receiver    Account  \n",
       "0  sale of BTC 0.00258122                      NaN  Your Cash  \n",
       "1  sale of BTC 0.00229691                      NaN  Your Cash  \n",
       "2  sale of BTC 0.00239932                      NaN  Your Cash  \n",
       "3  sale of BTC 0.00119961                      NaN  Your Cash  \n",
       "4  sale of BTC 0.00125925                      NaN  Your Cash  "
      ]
     },
     "execution_count": 318,
     "metadata": {},
     "output_type": "execute_result"
    }
   ],
   "source": [
    "dt.head()"
   ]
  },
  {
   "cell_type": "code",
   "execution_count": 319,
   "metadata": {},
   "outputs": [],
   "source": [
    "dt.drop(['Currency','Status','Name of sender/receiver' , 'Account' , 'Asset Type'],axis=1,inplace=True)"
   ]
  },
  {
   "cell_type": "code",
   "execution_count": 320,
   "metadata": {},
   "outputs": [
    {
     "data": {
      "text/html": [
       "<div>\n",
       "<style scoped>\n",
       "    .dataframe tbody tr th:only-of-type {\n",
       "        vertical-align: middle;\n",
       "    }\n",
       "\n",
       "    .dataframe tbody tr th {\n",
       "        vertical-align: top;\n",
       "    }\n",
       "\n",
       "    .dataframe thead th {\n",
       "        text-align: right;\n",
       "    }\n",
       "</style>\n",
       "<table border=\"1\" class=\"dataframe\">\n",
       "  <thead>\n",
       "    <tr style=\"text-align: right;\">\n",
       "      <th></th>\n",
       "      <th>Transaction ID</th>\n",
       "      <th>Date</th>\n",
       "      <th>Transaction Type</th>\n",
       "      <th>Amount</th>\n",
       "      <th>Fee</th>\n",
       "      <th>Net Amount</th>\n",
       "      <th>Asset Price</th>\n",
       "      <th>Asset Amount</th>\n",
       "      <th>Notes</th>\n",
       "    </tr>\n",
       "  </thead>\n",
       "  <tbody>\n",
       "    <tr>\n",
       "      <th>0</th>\n",
       "      <td>d8xpq8</td>\n",
       "      <td>2020-12-17 03:29:08 CST</td>\n",
       "      <td>Bitcoin Sale</td>\n",
       "      <td>$59.76</td>\n",
       "      <td>($1.36)</td>\n",
       "      <td>$58.40</td>\n",
       "      <td>$23,151.84</td>\n",
       "      <td>0.002581</td>\n",
       "      <td>sale of BTC 0.00258122</td>\n",
       "    </tr>\n",
       "    <tr>\n",
       "      <th>1</th>\n",
       "      <td>gz5hws</td>\n",
       "      <td>2020-12-16 19:17:52 CST</td>\n",
       "      <td>Bitcoin Sale</td>\n",
       "      <td>$50</td>\n",
       "      <td>($1.14)</td>\n",
       "      <td>$48.86</td>\n",
       "      <td>$21,768.38</td>\n",
       "      <td>0.002297</td>\n",
       "      <td>sale of BTC 0.00229691</td>\n",
       "    </tr>\n",
       "    <tr>\n",
       "      <th>2</th>\n",
       "      <td>b9dhor</td>\n",
       "      <td>2020-12-16 15:17:11 CST</td>\n",
       "      <td>Bitcoin Sale</td>\n",
       "      <td>$50</td>\n",
       "      <td>($1.13)</td>\n",
       "      <td>$48.87</td>\n",
       "      <td>$20,839.24</td>\n",
       "      <td>0.002399</td>\n",
       "      <td>sale of BTC 0.00239932</td>\n",
       "    </tr>\n",
       "    <tr>\n",
       "      <th>3</th>\n",
       "      <td>x71p57</td>\n",
       "      <td>2020-12-16 15:16:47 CST</td>\n",
       "      <td>Bitcoin Sale</td>\n",
       "      <td>$25</td>\n",
       "      <td>($0.56)</td>\n",
       "      <td>$24.44</td>\n",
       "      <td>$20,840.11</td>\n",
       "      <td>0.001200</td>\n",
       "      <td>sale of BTC 0.00119961</td>\n",
       "    </tr>\n",
       "    <tr>\n",
       "      <th>4</th>\n",
       "      <td>i2gvwc</td>\n",
       "      <td>2020-12-16 07:35:07 CST</td>\n",
       "      <td>Bitcoin Sale</td>\n",
       "      <td>$25</td>\n",
       "      <td>($0.56)</td>\n",
       "      <td>$24.44</td>\n",
       "      <td>$19,853.09</td>\n",
       "      <td>0.001259</td>\n",
       "      <td>sale of BTC 0.00125925</td>\n",
       "    </tr>\n",
       "  </tbody>\n",
       "</table>\n",
       "</div>"
      ],
      "text/plain": [
       "  Transaction ID                     Date Transaction Type   Amount      Fee  \\\n",
       "0         d8xpq8  2020-12-17 03:29:08 CST     Bitcoin Sale  $59.76   ($1.36)   \n",
       "1         gz5hws  2020-12-16 19:17:52 CST     Bitcoin Sale     $50   ($1.14)   \n",
       "2         b9dhor  2020-12-16 15:17:11 CST     Bitcoin Sale     $50   ($1.13)   \n",
       "3         x71p57  2020-12-16 15:16:47 CST     Bitcoin Sale     $25   ($0.56)   \n",
       "4         i2gvwc  2020-12-16 07:35:07 CST     Bitcoin Sale     $25   ($0.56)   \n",
       "\n",
       "  Net Amount  Asset Price  Asset Amount                   Notes  \n",
       "0    $58.40   $23,151.84       0.002581  sale of BTC 0.00258122  \n",
       "1    $48.86   $21,768.38       0.002297  sale of BTC 0.00229691  \n",
       "2    $48.87   $20,839.24       0.002399  sale of BTC 0.00239932  \n",
       "3    $24.44   $20,840.11       0.001200  sale of BTC 0.00119961  \n",
       "4    $24.44   $19,853.09       0.001259  sale of BTC 0.00125925  "
      ]
     },
     "execution_count": 320,
     "metadata": {},
     "output_type": "execute_result"
    }
   ],
   "source": [
    "dt.head()"
   ]
  },
  {
   "cell_type": "code",
   "execution_count": 322,
   "metadata": {},
   "outputs": [],
   "source": [
    "dt['Date'] = pd.to_datetime(dt['Date'], format = \"%Y-%m-%d %H:%M:%S\")"
   ]
  },
  {
   "cell_type": "code",
   "execution_count": 324,
   "metadata": {},
   "outputs": [
    {
     "data": {
      "text/plain": [
       "pandas._libs.tslibs.timestamps.Timestamp"
      ]
     },
     "execution_count": 324,
     "metadata": {},
     "output_type": "execute_result"
    }
   ],
   "source": [
    "type(dt['Date'][0])"
   ]
  },
  {
   "cell_type": "code",
   "execution_count": 325,
   "metadata": {},
   "outputs": [],
   "source": [
    "dt.drop(['Amount','Fee'],axis=1,inplace=True)"
   ]
  },
  {
   "cell_type": "code",
   "execution_count": 326,
   "metadata": {},
   "outputs": [],
   "source": [
    "dt['Net Amount'] = dt['Net Amount'].apply(lambda x : x.split('$'))"
   ]
  },
  {
   "cell_type": "code",
   "execution_count": 327,
   "metadata": {},
   "outputs": [],
   "source": [
    "dt['Net Amount'] = dt['Net Amount'].apply(lambda x : ''.join(x))"
   ]
  },
  {
   "cell_type": "code",
   "execution_count": 330,
   "metadata": {},
   "outputs": [],
   "source": [
    "dt['Net Amount'] = dt['Net Amount'].apply(lambda x : x.split('('))"
   ]
  },
  {
   "cell_type": "code",
   "execution_count": 331,
   "metadata": {},
   "outputs": [],
   "source": [
    "dt['Net Amount'] = dt['Net Amount'].apply(lambda x : ''.join(x))"
   ]
  },
  {
   "cell_type": "code",
   "execution_count": 332,
   "metadata": {},
   "outputs": [],
   "source": [
    "dt['Net Amount'] = dt['Net Amount'].apply(lambda x : x.split(')'))"
   ]
  },
  {
   "cell_type": "code",
   "execution_count": 333,
   "metadata": {},
   "outputs": [],
   "source": [
    "dt['Net Amount'] = dt['Net Amount'].apply(lambda x : ''.join(x))"
   ]
  },
  {
   "cell_type": "code",
   "execution_count": 335,
   "metadata": {},
   "outputs": [],
   "source": [
    "dt['Net Amount'] = dt['Net Amount'].astype(np.float64)"
   ]
  },
  {
   "cell_type": "code",
   "execution_count": 336,
   "metadata": {},
   "outputs": [
    {
     "data": {
      "text/html": [
       "<div>\n",
       "<style scoped>\n",
       "    .dataframe tbody tr th:only-of-type {\n",
       "        vertical-align: middle;\n",
       "    }\n",
       "\n",
       "    .dataframe tbody tr th {\n",
       "        vertical-align: top;\n",
       "    }\n",
       "\n",
       "    .dataframe thead th {\n",
       "        text-align: right;\n",
       "    }\n",
       "</style>\n",
       "<table border=\"1\" class=\"dataframe\">\n",
       "  <thead>\n",
       "    <tr style=\"text-align: right;\">\n",
       "      <th></th>\n",
       "      <th>Transaction ID</th>\n",
       "      <th>Date</th>\n",
       "      <th>Transaction Type</th>\n",
       "      <th>Net Amount</th>\n",
       "      <th>Asset Price</th>\n",
       "      <th>Asset Amount</th>\n",
       "      <th>Notes</th>\n",
       "    </tr>\n",
       "  </thead>\n",
       "  <tbody>\n",
       "    <tr>\n",
       "      <th>0</th>\n",
       "      <td>d8xpq8</td>\n",
       "      <td>2020-12-17 03:29:08</td>\n",
       "      <td>Bitcoin Sale</td>\n",
       "      <td>58.40</td>\n",
       "      <td>$23,151.84</td>\n",
       "      <td>0.002581</td>\n",
       "      <td>sale of BTC 0.00258122</td>\n",
       "    </tr>\n",
       "    <tr>\n",
       "      <th>1</th>\n",
       "      <td>gz5hws</td>\n",
       "      <td>2020-12-16 19:17:52</td>\n",
       "      <td>Bitcoin Sale</td>\n",
       "      <td>48.86</td>\n",
       "      <td>$21,768.38</td>\n",
       "      <td>0.002297</td>\n",
       "      <td>sale of BTC 0.00229691</td>\n",
       "    </tr>\n",
       "    <tr>\n",
       "      <th>2</th>\n",
       "      <td>b9dhor</td>\n",
       "      <td>2020-12-16 15:17:11</td>\n",
       "      <td>Bitcoin Sale</td>\n",
       "      <td>48.87</td>\n",
       "      <td>$20,839.24</td>\n",
       "      <td>0.002399</td>\n",
       "      <td>sale of BTC 0.00239932</td>\n",
       "    </tr>\n",
       "    <tr>\n",
       "      <th>3</th>\n",
       "      <td>x71p57</td>\n",
       "      <td>2020-12-16 15:16:47</td>\n",
       "      <td>Bitcoin Sale</td>\n",
       "      <td>24.44</td>\n",
       "      <td>$20,840.11</td>\n",
       "      <td>0.001200</td>\n",
       "      <td>sale of BTC 0.00119961</td>\n",
       "    </tr>\n",
       "    <tr>\n",
       "      <th>4</th>\n",
       "      <td>i2gvwc</td>\n",
       "      <td>2020-12-16 07:35:07</td>\n",
       "      <td>Bitcoin Sale</td>\n",
       "      <td>24.44</td>\n",
       "      <td>$19,853.09</td>\n",
       "      <td>0.001259</td>\n",
       "      <td>sale of BTC 0.00125925</td>\n",
       "    </tr>\n",
       "  </tbody>\n",
       "</table>\n",
       "</div>"
      ],
      "text/plain": [
       "  Transaction ID                Date Transaction Type  Net Amount  \\\n",
       "0         d8xpq8 2020-12-17 03:29:08     Bitcoin Sale       58.40   \n",
       "1         gz5hws 2020-12-16 19:17:52     Bitcoin Sale       48.86   \n",
       "2         b9dhor 2020-12-16 15:17:11     Bitcoin Sale       48.87   \n",
       "3         x71p57 2020-12-16 15:16:47     Bitcoin Sale       24.44   \n",
       "4         i2gvwc 2020-12-16 07:35:07     Bitcoin Sale       24.44   \n",
       "\n",
       "   Asset Price  Asset Amount                   Notes  \n",
       "0  $23,151.84       0.002581  sale of BTC 0.00258122  \n",
       "1  $21,768.38       0.002297  sale of BTC 0.00229691  \n",
       "2  $20,839.24       0.002399  sale of BTC 0.00239932  \n",
       "3  $20,840.11       0.001200  sale of BTC 0.00119961  \n",
       "4  $19,853.09       0.001259  sale of BTC 0.00125925  "
      ]
     },
     "execution_count": 336,
     "metadata": {},
     "output_type": "execute_result"
    }
   ],
   "source": [
    "dt.head()"
   ]
  },
  {
   "cell_type": "code",
   "execution_count": 337,
   "metadata": {},
   "outputs": [
    {
     "name": "stdout",
     "output_type": "stream",
     "text": [
      "<class 'pandas.core.frame.DataFrame'>\n",
      "RangeIndex: 164 entries, 0 to 163\n",
      "Data columns (total 7 columns):\n",
      " #   Column            Non-Null Count  Dtype         \n",
      "---  ------            --------------  -----         \n",
      " 0   Transaction ID    164 non-null    object        \n",
      " 1   Date              164 non-null    datetime64[ns]\n",
      " 2   Transaction Type  164 non-null    object        \n",
      " 3   Net Amount        164 non-null    float64       \n",
      " 4   Asset Price       164 non-null    object        \n",
      " 5   Asset Amount      164 non-null    float64       \n",
      " 6   Notes             164 non-null    object        \n",
      "dtypes: datetime64[ns](1), float64(2), object(4)\n",
      "memory usage: 9.1+ KB\n"
     ]
    }
   ],
   "source": [
    "dt.info()"
   ]
  },
  {
   "cell_type": "code",
   "execution_count": 339,
   "metadata": {},
   "outputs": [
    {
     "data": {
      "text/plain": [
       "Timedelta('0 days 07:42:04')"
      ]
     },
     "execution_count": 339,
     "metadata": {},
     "output_type": "execute_result"
    }
   ],
   "source": [
    "dt['Date'][2] - dt['Date'][4]"
   ]
  },
  {
   "cell_type": "code",
   "execution_count": 340,
   "metadata": {},
   "outputs": [],
   "source": [
    "dt_Sale = dt[dt['Transaction Type']=='Bitcoin Sale']"
   ]
  },
  {
   "cell_type": "code",
   "execution_count": 341,
   "metadata": {},
   "outputs": [],
   "source": [
    "dt_Buy = dt[dt['Transaction Type']=='Bitcoin Buy']"
   ]
  },
  {
   "cell_type": "code",
   "execution_count": 342,
   "metadata": {},
   "outputs": [],
   "source": [
    "dt_Sale = dt_Sale.sort_values(by=['Date'],ascending=True)"
   ]
  },
  {
   "cell_type": "code",
   "execution_count": 343,
   "metadata": {},
   "outputs": [],
   "source": [
    "dt_Buy = dt_Buy.sort_values(by=['Date'],ascending=True)"
   ]
  },
  {
   "cell_type": "code",
   "execution_count": 346,
   "metadata": {},
   "outputs": [],
   "source": [
    "dt_Sale.to_csv('Sale_BT.csv')"
   ]
  },
  {
   "cell_type": "code",
   "execution_count": 348,
   "metadata": {},
   "outputs": [],
   "source": [
    "dt_Buy.to_csv('Buy_BT.csv')"
   ]
  },
  {
   "cell_type": "markdown",
   "metadata": {},
   "source": [
    "# Experiment 2"
   ]
  },
  {
   "cell_type": "code",
   "execution_count": 349,
   "metadata": {},
   "outputs": [],
   "source": [
    "dt2 = pd.read_csv('BTC-join.csv')"
   ]
  },
  {
   "cell_type": "code",
   "execution_count": 353,
   "metadata": {},
   "outputs": [],
   "source": [
    "dt2.drop(['Unnamed: 8','Unnamed: 0'],axis=1, inplace=True)"
   ]
  },
  {
   "cell_type": "code",
   "execution_count": 354,
   "metadata": {},
   "outputs": [
    {
     "data": {
      "text/html": [
       "<div>\n",
       "<style scoped>\n",
       "    .dataframe tbody tr th:only-of-type {\n",
       "        vertical-align: middle;\n",
       "    }\n",
       "\n",
       "    .dataframe tbody tr th {\n",
       "        vertical-align: top;\n",
       "    }\n",
       "\n",
       "    .dataframe thead th {\n",
       "        text-align: right;\n",
       "    }\n",
       "</style>\n",
       "<table border=\"1\" class=\"dataframe\">\n",
       "  <thead>\n",
       "    <tr style=\"text-align: right;\">\n",
       "      <th></th>\n",
       "      <th>Transaction ID</th>\n",
       "      <th>Date</th>\n",
       "      <th>Transaction Type</th>\n",
       "      <th>Net Amount</th>\n",
       "      <th>Asset Price</th>\n",
       "      <th>Asset Amount</th>\n",
       "      <th>Notes</th>\n",
       "      <th>Transaction ID 2</th>\n",
       "      <th>Date 2</th>\n",
       "      <th>Transaction Type 2</th>\n",
       "      <th>Net Amount 2</th>\n",
       "      <th>Asset Price 2</th>\n",
       "      <th>Asset Amount 2</th>\n",
       "      <th>Notes 2</th>\n",
       "    </tr>\n",
       "  </thead>\n",
       "  <tbody>\n",
       "    <tr>\n",
       "      <th>0</th>\n",
       "      <td>m5pqiz</td>\n",
       "      <td>20-10-2018 19:33</td>\n",
       "      <td>Bitcoin Buy</td>\n",
       "      <td>100.0</td>\n",
       "      <td>$6,493.08</td>\n",
       "      <td>0.015401</td>\n",
       "      <td>purchase of BTC 0.01540101</td>\n",
       "      <td>kthtb8</td>\n",
       "      <td>01-12-2018 10:30</td>\n",
       "      <td>Bitcoin Sale</td>\n",
       "      <td>50.00</td>\n",
       "      <td>$4,191.54</td>\n",
       "      <td>0.011929</td>\n",
       "      <td>sale of BTC 0.01192879</td>\n",
       "    </tr>\n",
       "    <tr>\n",
       "      <th>1</th>\n",
       "      <td>p6abc6</td>\n",
       "      <td>20-10-2018 19:35</td>\n",
       "      <td>Bitcoin Buy</td>\n",
       "      <td>5.0</td>\n",
       "      <td>$6,493.08</td>\n",
       "      <td>0.000770</td>\n",
       "      <td>purchase of BTC 0.00077005</td>\n",
       "      <td>ex7jrk</td>\n",
       "      <td>01-12-2018 10:31</td>\n",
       "      <td>Bitcoin Sale</td>\n",
       "      <td>50.00</td>\n",
       "      <td>$4,189.60</td>\n",
       "      <td>0.011934</td>\n",
       "      <td>sale of BTC 0.01193431</td>\n",
       "    </tr>\n",
       "    <tr>\n",
       "      <th>2</th>\n",
       "      <td>d1eh5g</td>\n",
       "      <td>20-10-2018 19:35</td>\n",
       "      <td>Bitcoin Buy</td>\n",
       "      <td>1.0</td>\n",
       "      <td>$6,492.66</td>\n",
       "      <td>0.000154</td>\n",
       "      <td>purchase of BTC 0.00015402</td>\n",
       "      <td>wryxdc</td>\n",
       "      <td>02-04-2019 09:11</td>\n",
       "      <td>Bitcoin Sale</td>\n",
       "      <td>350.00</td>\n",
       "      <td>$4,703.78</td>\n",
       "      <td>0.074408</td>\n",
       "      <td>sale of BTC 0.07440824</td>\n",
       "    </tr>\n",
       "    <tr>\n",
       "      <th>3</th>\n",
       "      <td>gb4621</td>\n",
       "      <td>22-10-2018 11:12</td>\n",
       "      <td>Bitcoin Buy</td>\n",
       "      <td>15.0</td>\n",
       "      <td>$6,475.20</td>\n",
       "      <td>0.002317</td>\n",
       "      <td>purchase of BTC 0.00231653</td>\n",
       "      <td>23c4ji</td>\n",
       "      <td>02-04-2019 19:09</td>\n",
       "      <td>Bitcoin Sale</td>\n",
       "      <td>100.00</td>\n",
       "      <td>$4,861.46</td>\n",
       "      <td>0.020570</td>\n",
       "      <td>sale of BTC 0.02056995</td>\n",
       "    </tr>\n",
       "    <tr>\n",
       "      <th>4</th>\n",
       "      <td>gy0k6v</td>\n",
       "      <td>22-10-2018 22:58</td>\n",
       "      <td>Bitcoin Buy</td>\n",
       "      <td>20.0</td>\n",
       "      <td>$6,474.78</td>\n",
       "      <td>0.003089</td>\n",
       "      <td>purchase of BTC 0.00308891</td>\n",
       "      <td>wjujmh</td>\n",
       "      <td>23-04-2019 02:11</td>\n",
       "      <td>Bitcoin Sale</td>\n",
       "      <td>50.00</td>\n",
       "      <td>$5,461.49</td>\n",
       "      <td>0.009155</td>\n",
       "      <td>sale of BTC 0.00915501</td>\n",
       "    </tr>\n",
       "    <tr>\n",
       "      <th>...</th>\n",
       "      <td>...</td>\n",
       "      <td>...</td>\n",
       "      <td>...</td>\n",
       "      <td>...</td>\n",
       "      <td>...</td>\n",
       "      <td>...</td>\n",
       "      <td>...</td>\n",
       "      <td>...</td>\n",
       "      <td>...</td>\n",
       "      <td>...</td>\n",
       "      <td>...</td>\n",
       "      <td>...</td>\n",
       "      <td>...</td>\n",
       "      <td>...</td>\n",
       "    </tr>\n",
       "    <tr>\n",
       "      <th>98</th>\n",
       "      <td>NaN</td>\n",
       "      <td>NaN</td>\n",
       "      <td>NaN</td>\n",
       "      <td>NaN</td>\n",
       "      <td>NaN</td>\n",
       "      <td>NaN</td>\n",
       "      <td>NaN</td>\n",
       "      <td>i2gvwc</td>\n",
       "      <td>16-12-2020 07:35</td>\n",
       "      <td>Bitcoin Sale</td>\n",
       "      <td>24.44</td>\n",
       "      <td>$19,853.09</td>\n",
       "      <td>0.001259</td>\n",
       "      <td>sale of BTC 0.00125925</td>\n",
       "    </tr>\n",
       "    <tr>\n",
       "      <th>99</th>\n",
       "      <td>NaN</td>\n",
       "      <td>NaN</td>\n",
       "      <td>NaN</td>\n",
       "      <td>NaN</td>\n",
       "      <td>NaN</td>\n",
       "      <td>NaN</td>\n",
       "      <td>NaN</td>\n",
       "      <td>x71p57</td>\n",
       "      <td>16-12-2020 15:16</td>\n",
       "      <td>Bitcoin Sale</td>\n",
       "      <td>24.44</td>\n",
       "      <td>$20,840.11</td>\n",
       "      <td>0.001200</td>\n",
       "      <td>sale of BTC 0.00119961</td>\n",
       "    </tr>\n",
       "    <tr>\n",
       "      <th>100</th>\n",
       "      <td>NaN</td>\n",
       "      <td>NaN</td>\n",
       "      <td>NaN</td>\n",
       "      <td>NaN</td>\n",
       "      <td>NaN</td>\n",
       "      <td>NaN</td>\n",
       "      <td>NaN</td>\n",
       "      <td>b9dhor</td>\n",
       "      <td>16-12-2020 15:17</td>\n",
       "      <td>Bitcoin Sale</td>\n",
       "      <td>48.87</td>\n",
       "      <td>$20,839.24</td>\n",
       "      <td>0.002399</td>\n",
       "      <td>sale of BTC 0.00239932</td>\n",
       "    </tr>\n",
       "    <tr>\n",
       "      <th>101</th>\n",
       "      <td>NaN</td>\n",
       "      <td>NaN</td>\n",
       "      <td>NaN</td>\n",
       "      <td>NaN</td>\n",
       "      <td>NaN</td>\n",
       "      <td>NaN</td>\n",
       "      <td>NaN</td>\n",
       "      <td>gz5hws</td>\n",
       "      <td>16-12-2020 19:17</td>\n",
       "      <td>Bitcoin Sale</td>\n",
       "      <td>48.86</td>\n",
       "      <td>$21,768.38</td>\n",
       "      <td>0.002297</td>\n",
       "      <td>sale of BTC 0.00229691</td>\n",
       "    </tr>\n",
       "    <tr>\n",
       "      <th>102</th>\n",
       "      <td>NaN</td>\n",
       "      <td>NaN</td>\n",
       "      <td>NaN</td>\n",
       "      <td>NaN</td>\n",
       "      <td>NaN</td>\n",
       "      <td>NaN</td>\n",
       "      <td>NaN</td>\n",
       "      <td>d8xpq8</td>\n",
       "      <td>17-12-2020 03:29</td>\n",
       "      <td>Bitcoin Sale</td>\n",
       "      <td>58.40</td>\n",
       "      <td>$23,151.84</td>\n",
       "      <td>0.002581</td>\n",
       "      <td>sale of BTC 0.00258122</td>\n",
       "    </tr>\n",
       "  </tbody>\n",
       "</table>\n",
       "<p>103 rows × 14 columns</p>\n",
       "</div>"
      ],
      "text/plain": [
       "    Transaction ID              Date Transaction Type  Net Amount Asset Price  \\\n",
       "0           m5pqiz  20-10-2018 19:33      Bitcoin Buy       100.0  $6,493.08    \n",
       "1           p6abc6  20-10-2018 19:35      Bitcoin Buy         5.0  $6,493.08    \n",
       "2           d1eh5g  20-10-2018 19:35      Bitcoin Buy         1.0  $6,492.66    \n",
       "3           gb4621  22-10-2018 11:12      Bitcoin Buy        15.0  $6,475.20    \n",
       "4           gy0k6v  22-10-2018 22:58      Bitcoin Buy        20.0  $6,474.78    \n",
       "..             ...               ...              ...         ...         ...   \n",
       "98             NaN               NaN              NaN         NaN         NaN   \n",
       "99             NaN               NaN              NaN         NaN         NaN   \n",
       "100            NaN               NaN              NaN         NaN         NaN   \n",
       "101            NaN               NaN              NaN         NaN         NaN   \n",
       "102            NaN               NaN              NaN         NaN         NaN   \n",
       "\n",
       "     Asset Amount                       Notes Transaction ID 2  \\\n",
       "0        0.015401  purchase of BTC 0.01540101           kthtb8   \n",
       "1        0.000770  purchase of BTC 0.00077005           ex7jrk   \n",
       "2        0.000154  purchase of BTC 0.00015402           wryxdc   \n",
       "3        0.002317  purchase of BTC 0.00231653           23c4ji   \n",
       "4        0.003089  purchase of BTC 0.00308891           wjujmh   \n",
       "..            ...                         ...              ...   \n",
       "98            NaN                         NaN           i2gvwc   \n",
       "99            NaN                         NaN           x71p57   \n",
       "100           NaN                         NaN           b9dhor   \n",
       "101           NaN                         NaN           gz5hws   \n",
       "102           NaN                         NaN           d8xpq8   \n",
       "\n",
       "               Date 2 Transaction Type 2  Net Amount 2 Asset Price 2  \\\n",
       "0    01-12-2018 10:30       Bitcoin Sale         50.00    $4,191.54    \n",
       "1    01-12-2018 10:31       Bitcoin Sale         50.00    $4,189.60    \n",
       "2    02-04-2019 09:11       Bitcoin Sale        350.00    $4,703.78    \n",
       "3    02-04-2019 19:09       Bitcoin Sale        100.00    $4,861.46    \n",
       "4    23-04-2019 02:11       Bitcoin Sale         50.00    $5,461.49    \n",
       "..                ...                ...           ...           ...   \n",
       "98   16-12-2020 07:35       Bitcoin Sale         24.44   $19,853.09    \n",
       "99   16-12-2020 15:16       Bitcoin Sale         24.44   $20,840.11    \n",
       "100  16-12-2020 15:17       Bitcoin Sale         48.87   $20,839.24    \n",
       "101  16-12-2020 19:17       Bitcoin Sale         48.86   $21,768.38    \n",
       "102  17-12-2020 03:29       Bitcoin Sale         58.40   $23,151.84    \n",
       "\n",
       "     Asset Amount 2                 Notes 2  \n",
       "0          0.011929  sale of BTC 0.01192879  \n",
       "1          0.011934  sale of BTC 0.01193431  \n",
       "2          0.074408  sale of BTC 0.07440824  \n",
       "3          0.020570  sale of BTC 0.02056995  \n",
       "4          0.009155  sale of BTC 0.00915501  \n",
       "..              ...                     ...  \n",
       "98         0.001259  sale of BTC 0.00125925  \n",
       "99         0.001200  sale of BTC 0.00119961  \n",
       "100        0.002399  sale of BTC 0.00239932  \n",
       "101        0.002297  sale of BTC 0.00229691  \n",
       "102        0.002581  sale of BTC 0.00258122  \n",
       "\n",
       "[103 rows x 14 columns]"
      ]
     },
     "execution_count": 354,
     "metadata": {},
     "output_type": "execute_result"
    }
   ],
   "source": [
    "dt2"
   ]
  },
  {
   "cell_type": "code",
   "execution_count": 355,
   "metadata": {},
   "outputs": [
    {
     "data": {
      "text/plain": [
       "61"
      ]
     },
     "execution_count": 355,
     "metadata": {},
     "output_type": "execute_result"
    }
   ],
   "source": [
    "len(dt_Buy)"
   ]
  },
  {
   "cell_type": "code",
   "execution_count": 356,
   "metadata": {},
   "outputs": [],
   "source": [
    "dt_short = dt2.iloc[0:61 , :]"
   ]
  },
  {
   "cell_type": "code",
   "execution_count": 357,
   "metadata": {},
   "outputs": [
    {
     "data": {
      "text/html": [
       "<div>\n",
       "<style scoped>\n",
       "    .dataframe tbody tr th:only-of-type {\n",
       "        vertical-align: middle;\n",
       "    }\n",
       "\n",
       "    .dataframe tbody tr th {\n",
       "        vertical-align: top;\n",
       "    }\n",
       "\n",
       "    .dataframe thead th {\n",
       "        text-align: right;\n",
       "    }\n",
       "</style>\n",
       "<table border=\"1\" class=\"dataframe\">\n",
       "  <thead>\n",
       "    <tr style=\"text-align: right;\">\n",
       "      <th></th>\n",
       "      <th>Transaction ID</th>\n",
       "      <th>Date</th>\n",
       "      <th>Transaction Type</th>\n",
       "      <th>Net Amount</th>\n",
       "      <th>Asset Price</th>\n",
       "      <th>Asset Amount</th>\n",
       "      <th>Notes</th>\n",
       "      <th>Transaction ID 2</th>\n",
       "      <th>Date 2</th>\n",
       "      <th>Transaction Type 2</th>\n",
       "      <th>Net Amount 2</th>\n",
       "      <th>Asset Price 2</th>\n",
       "      <th>Asset Amount 2</th>\n",
       "      <th>Notes 2</th>\n",
       "    </tr>\n",
       "  </thead>\n",
       "  <tbody>\n",
       "    <tr>\n",
       "      <th>0</th>\n",
       "      <td>m5pqiz</td>\n",
       "      <td>20-10-2018 19:33</td>\n",
       "      <td>Bitcoin Buy</td>\n",
       "      <td>100.00</td>\n",
       "      <td>$6,493.08</td>\n",
       "      <td>0.015401</td>\n",
       "      <td>purchase of BTC 0.01540101</td>\n",
       "      <td>kthtb8</td>\n",
       "      <td>01-12-2018 10:30</td>\n",
       "      <td>Bitcoin Sale</td>\n",
       "      <td>50.00</td>\n",
       "      <td>$4,191.54</td>\n",
       "      <td>0.011929</td>\n",
       "      <td>sale of BTC 0.01192879</td>\n",
       "    </tr>\n",
       "    <tr>\n",
       "      <th>1</th>\n",
       "      <td>p6abc6</td>\n",
       "      <td>20-10-2018 19:35</td>\n",
       "      <td>Bitcoin Buy</td>\n",
       "      <td>5.00</td>\n",
       "      <td>$6,493.08</td>\n",
       "      <td>0.000770</td>\n",
       "      <td>purchase of BTC 0.00077005</td>\n",
       "      <td>ex7jrk</td>\n",
       "      <td>01-12-2018 10:31</td>\n",
       "      <td>Bitcoin Sale</td>\n",
       "      <td>50.00</td>\n",
       "      <td>$4,189.60</td>\n",
       "      <td>0.011934</td>\n",
       "      <td>sale of BTC 0.01193431</td>\n",
       "    </tr>\n",
       "    <tr>\n",
       "      <th>2</th>\n",
       "      <td>d1eh5g</td>\n",
       "      <td>20-10-2018 19:35</td>\n",
       "      <td>Bitcoin Buy</td>\n",
       "      <td>1.00</td>\n",
       "      <td>$6,492.66</td>\n",
       "      <td>0.000154</td>\n",
       "      <td>purchase of BTC 0.00015402</td>\n",
       "      <td>wryxdc</td>\n",
       "      <td>02-04-2019 09:11</td>\n",
       "      <td>Bitcoin Sale</td>\n",
       "      <td>350.00</td>\n",
       "      <td>$4,703.78</td>\n",
       "      <td>0.074408</td>\n",
       "      <td>sale of BTC 0.07440824</td>\n",
       "    </tr>\n",
       "    <tr>\n",
       "      <th>3</th>\n",
       "      <td>gb4621</td>\n",
       "      <td>22-10-2018 11:12</td>\n",
       "      <td>Bitcoin Buy</td>\n",
       "      <td>15.00</td>\n",
       "      <td>$6,475.20</td>\n",
       "      <td>0.002317</td>\n",
       "      <td>purchase of BTC 0.00231653</td>\n",
       "      <td>23c4ji</td>\n",
       "      <td>02-04-2019 19:09</td>\n",
       "      <td>Bitcoin Sale</td>\n",
       "      <td>100.00</td>\n",
       "      <td>$4,861.46</td>\n",
       "      <td>0.020570</td>\n",
       "      <td>sale of BTC 0.02056995</td>\n",
       "    </tr>\n",
       "    <tr>\n",
       "      <th>4</th>\n",
       "      <td>gy0k6v</td>\n",
       "      <td>22-10-2018 22:58</td>\n",
       "      <td>Bitcoin Buy</td>\n",
       "      <td>20.00</td>\n",
       "      <td>$6,474.78</td>\n",
       "      <td>0.003089</td>\n",
       "      <td>purchase of BTC 0.00308891</td>\n",
       "      <td>wjujmh</td>\n",
       "      <td>23-04-2019 02:11</td>\n",
       "      <td>Bitcoin Sale</td>\n",
       "      <td>50.00</td>\n",
       "      <td>$5,461.49</td>\n",
       "      <td>0.009155</td>\n",
       "      <td>sale of BTC 0.00915501</td>\n",
       "    </tr>\n",
       "    <tr>\n",
       "      <th>...</th>\n",
       "      <td>...</td>\n",
       "      <td>...</td>\n",
       "      <td>...</td>\n",
       "      <td>...</td>\n",
       "      <td>...</td>\n",
       "      <td>...</td>\n",
       "      <td>...</td>\n",
       "      <td>...</td>\n",
       "      <td>...</td>\n",
       "      <td>...</td>\n",
       "      <td>...</td>\n",
       "      <td>...</td>\n",
       "      <td>...</td>\n",
       "      <td>...</td>\n",
       "    </tr>\n",
       "    <tr>\n",
       "      <th>56</th>\n",
       "      <td>gk66ar</td>\n",
       "      <td>01-07-2019 23:53</td>\n",
       "      <td>Bitcoin Buy</td>\n",
       "      <td>50.00</td>\n",
       "      <td>$9,966.47</td>\n",
       "      <td>0.005017</td>\n",
       "      <td>purchase of BTC 0.00501682</td>\n",
       "      <td>iog88r</td>\n",
       "      <td>06-08-2020 08:02</td>\n",
       "      <td>Bitcoin Sale</td>\n",
       "      <td>48.87</td>\n",
       "      <td>$11,767.03</td>\n",
       "      <td>0.004249</td>\n",
       "      <td>sale of BTC 0.00424916</td>\n",
       "    </tr>\n",
       "    <tr>\n",
       "      <th>57</th>\n",
       "      <td>6q5hxq</td>\n",
       "      <td>11-07-2019 00:17</td>\n",
       "      <td>Bitcoin Buy</td>\n",
       "      <td>100.00</td>\n",
       "      <td>$11,426.40</td>\n",
       "      <td>0.008752</td>\n",
       "      <td>purchase of BTC 0.00875166</td>\n",
       "      <td>t0m5mm</td>\n",
       "      <td>06-08-2020 09:30</td>\n",
       "      <td>Bitcoin Sale</td>\n",
       "      <td>48.87</td>\n",
       "      <td>$11,865.52</td>\n",
       "      <td>0.004214</td>\n",
       "      <td>sale of BTC 0.00421389</td>\n",
       "    </tr>\n",
       "    <tr>\n",
       "      <th>58</th>\n",
       "      <td>9e1dqs</td>\n",
       "      <td>14-07-2019 22:45</td>\n",
       "      <td>Bitcoin Buy</td>\n",
       "      <td>50.00</td>\n",
       "      <td>$10,344.75</td>\n",
       "      <td>0.004833</td>\n",
       "      <td>purchase of BTC 0.00483337</td>\n",
       "      <td>m8tnd6</td>\n",
       "      <td>08-08-2020 08:47</td>\n",
       "      <td>Bitcoin Sale</td>\n",
       "      <td>48.87</td>\n",
       "      <td>$11,758.18</td>\n",
       "      <td>0.004252</td>\n",
       "      <td>sale of BTC 0.00425236</td>\n",
       "    </tr>\n",
       "    <tr>\n",
       "      <th>59</th>\n",
       "      <td>fht6rs</td>\n",
       "      <td>16-07-2019 15:30</td>\n",
       "      <td>Bitcoin Buy</td>\n",
       "      <td>50.00</td>\n",
       "      <td>$9,772.40</td>\n",
       "      <td>0.005116</td>\n",
       "      <td>purchase of BTC 0.00511645</td>\n",
       "      <td>cv6lh9</td>\n",
       "      <td>10-08-2020 10:27</td>\n",
       "      <td>Bitcoin Sale</td>\n",
       "      <td>48.88</td>\n",
       "      <td>$11,931.92</td>\n",
       "      <td>0.004190</td>\n",
       "      <td>sale of BTC 0.00419044</td>\n",
       "    </tr>\n",
       "    <tr>\n",
       "      <th>60</th>\n",
       "      <td>iwnfze</td>\n",
       "      <td>25-11-2019 14:24</td>\n",
       "      <td>Bitcoin Buy</td>\n",
       "      <td>1.01</td>\n",
       "      <td>$7,200.46</td>\n",
       "      <td>0.000139</td>\n",
       "      <td>purchase of BTC 0.00013888</td>\n",
       "      <td>rr3awg</td>\n",
       "      <td>12-08-2020 21:25</td>\n",
       "      <td>Bitcoin Sale</td>\n",
       "      <td>48.87</td>\n",
       "      <td>$11,630.15</td>\n",
       "      <td>0.004299</td>\n",
       "      <td>sale of BTC 0.00429917</td>\n",
       "    </tr>\n",
       "  </tbody>\n",
       "</table>\n",
       "<p>61 rows × 14 columns</p>\n",
       "</div>"
      ],
      "text/plain": [
       "   Transaction ID              Date Transaction Type  Net Amount  Asset Price  \\\n",
       "0          m5pqiz  20-10-2018 19:33      Bitcoin Buy      100.00   $6,493.08    \n",
       "1          p6abc6  20-10-2018 19:35      Bitcoin Buy        5.00   $6,493.08    \n",
       "2          d1eh5g  20-10-2018 19:35      Bitcoin Buy        1.00   $6,492.66    \n",
       "3          gb4621  22-10-2018 11:12      Bitcoin Buy       15.00   $6,475.20    \n",
       "4          gy0k6v  22-10-2018 22:58      Bitcoin Buy       20.00   $6,474.78    \n",
       "..            ...               ...              ...         ...          ...   \n",
       "56         gk66ar  01-07-2019 23:53      Bitcoin Buy       50.00   $9,966.47    \n",
       "57         6q5hxq  11-07-2019 00:17      Bitcoin Buy      100.00  $11,426.40    \n",
       "58         9e1dqs  14-07-2019 22:45      Bitcoin Buy       50.00  $10,344.75    \n",
       "59         fht6rs  16-07-2019 15:30      Bitcoin Buy       50.00   $9,772.40    \n",
       "60         iwnfze  25-11-2019 14:24      Bitcoin Buy        1.01   $7,200.46    \n",
       "\n",
       "    Asset Amount                       Notes Transaction ID 2  \\\n",
       "0       0.015401  purchase of BTC 0.01540101           kthtb8   \n",
       "1       0.000770  purchase of BTC 0.00077005           ex7jrk   \n",
       "2       0.000154  purchase of BTC 0.00015402           wryxdc   \n",
       "3       0.002317  purchase of BTC 0.00231653           23c4ji   \n",
       "4       0.003089  purchase of BTC 0.00308891           wjujmh   \n",
       "..           ...                         ...              ...   \n",
       "56      0.005017  purchase of BTC 0.00501682           iog88r   \n",
       "57      0.008752  purchase of BTC 0.00875166           t0m5mm   \n",
       "58      0.004833  purchase of BTC 0.00483337           m8tnd6   \n",
       "59      0.005116  purchase of BTC 0.00511645           cv6lh9   \n",
       "60      0.000139  purchase of BTC 0.00013888           rr3awg   \n",
       "\n",
       "              Date 2 Transaction Type 2  Net Amount 2 Asset Price 2  \\\n",
       "0   01-12-2018 10:30       Bitcoin Sale         50.00    $4,191.54    \n",
       "1   01-12-2018 10:31       Bitcoin Sale         50.00    $4,189.60    \n",
       "2   02-04-2019 09:11       Bitcoin Sale        350.00    $4,703.78    \n",
       "3   02-04-2019 19:09       Bitcoin Sale        100.00    $4,861.46    \n",
       "4   23-04-2019 02:11       Bitcoin Sale         50.00    $5,461.49    \n",
       "..               ...                ...           ...           ...   \n",
       "56  06-08-2020 08:02       Bitcoin Sale         48.87   $11,767.03    \n",
       "57  06-08-2020 09:30       Bitcoin Sale         48.87   $11,865.52    \n",
       "58  08-08-2020 08:47       Bitcoin Sale         48.87   $11,758.18    \n",
       "59  10-08-2020 10:27       Bitcoin Sale         48.88   $11,931.92    \n",
       "60  12-08-2020 21:25       Bitcoin Sale         48.87   $11,630.15    \n",
       "\n",
       "    Asset Amount 2                 Notes 2  \n",
       "0         0.011929  sale of BTC 0.01192879  \n",
       "1         0.011934  sale of BTC 0.01193431  \n",
       "2         0.074408  sale of BTC 0.07440824  \n",
       "3         0.020570  sale of BTC 0.02056995  \n",
       "4         0.009155  sale of BTC 0.00915501  \n",
       "..             ...                     ...  \n",
       "56        0.004249  sale of BTC 0.00424916  \n",
       "57        0.004214  sale of BTC 0.00421389  \n",
       "58        0.004252  sale of BTC 0.00425236  \n",
       "59        0.004190  sale of BTC 0.00419044  \n",
       "60        0.004299  sale of BTC 0.00429917  \n",
       "\n",
       "[61 rows x 14 columns]"
      ]
     },
     "execution_count": 357,
     "metadata": {},
     "output_type": "execute_result"
    }
   ],
   "source": [
    "dt_short"
   ]
  },
  {
   "cell_type": "code",
   "execution_count": 360,
   "metadata": {},
   "outputs": [
    {
     "name": "stderr",
     "output_type": "stream",
     "text": [
      "<ipython-input-360-9dd56fd80acb>:1: SettingWithCopyWarning: \n",
      "A value is trying to be set on a copy of a slice from a DataFrame.\n",
      "Try using .loc[row_indexer,col_indexer] = value instead\n",
      "\n",
      "See the caveats in the documentation: https://pandas.pydata.org/pandas-docs/stable/user_guide/indexing.html#returning-a-view-versus-a-copy\n",
      "  dt_short['Asset diff'] = dt_short['Asset Amount 2'] - dt_short['Asset Amount']\n"
     ]
    }
   ],
   "source": [
    "dt_short['Asset diff'] = dt_short['Asset Amount 2'] - dt_short['Asset Amount']"
   ]
  },
  {
   "cell_type": "code",
   "execution_count": 361,
   "metadata": {},
   "outputs": [
    {
     "data": {
      "text/plain": [
       "numpy.float64"
      ]
     },
     "execution_count": 361,
     "metadata": {},
     "output_type": "execute_result"
    }
   ],
   "source": [
    "type(dt['Asset Amount'][1])"
   ]
  },
  {
   "cell_type": "code",
   "execution_count": null,
   "metadata": {},
   "outputs": [],
   "source": []
  }
 ],
 "metadata": {
  "kernelspec": {
   "display_name": "Python 3",
   "language": "python",
   "name": "python3"
  },
  "language_info": {
   "codemirror_mode": {
    "name": "ipython",
    "version": 3
   },
   "file_extension": ".py",
   "mimetype": "text/x-python",
   "name": "python",
   "nbconvert_exporter": "python",
   "pygments_lexer": "ipython3",
   "version": "3.8.5"
  }
 },
 "nbformat": 4,
 "nbformat_minor": 4
}
